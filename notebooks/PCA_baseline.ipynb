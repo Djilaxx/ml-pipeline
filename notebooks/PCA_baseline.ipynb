{
 "metadata": {
  "language_info": {
   "codemirror_mode": {
    "name": "ipython",
    "version": 3
   },
   "file_extension": ".py",
   "mimetype": "text/x-python",
   "name": "python",
   "nbconvert_exporter": "python",
   "pygments_lexer": "ipython3",
   "version": "3.7.9-final"
  },
  "orig_nbformat": 2,
  "kernelspec": {
   "name": "python3",
   "display_name": "Python 3.7.9 64-bit (conda)",
   "metadata": {
    "interpreter": {
     "hash": "84fd98fd9221ab78f96b3172be9432a530935ccd8792aba653e10e9d0c27467d"
    }
   }
  }
 },
 "nbformat": 4,
 "nbformat_minor": 2,
 "cells": [
  {
   "cell_type": "code",
   "execution_count": 11,
   "metadata": {},
   "outputs": [],
   "source": [
    "##################\n",
    "# IMPORT MODULES #\n",
    "##################\n",
    "# SYS IMPORT\n",
    "import os, inspect, importlib, argparse\n",
    "import random\n",
    "import gc\n",
    "import time\n",
    "import pandas as pd\n",
    "import numpy as np\n",
    "from pathlib import Path\n",
    "\n",
    "from tqdm import tqdm\n",
    "import matplotlib.pyplot as plt\n",
    "import seaborn as sns\n",
    "\n",
    "import xgboost as xgb\n",
    "import lightgbm as lgb\n",
    "from sklearn.decomposition import PCA\n",
    "from sklearn.linear_model import LinearRegression, LogisticRegression\n",
    "from sklearn.ensemble import RandomForestClassifier, RandomForestRegressor\n",
    "from sklearn.model_selection import KFold\n",
    "from sklearn.metrics import roc_auc_score, mean_squared_error\n",
    "from sklearn.preprocessing import LabelEncoder\n",
    "from sklearn.model_selection import train_test_split"
   ]
  },
  {
   "source": [
    "# UTILS"
   ],
   "cell_type": "markdown",
   "metadata": {}
  },
  {
   "cell_type": "code",
   "execution_count": 13,
   "metadata": {},
   "outputs": [],
   "source": [
    "def seed_everything(seed):\n",
    "    \"\"\"\n",
    "    Seeds basic parameters for reproductibility of results\n",
    "    \n",
    "    Arguments:\n",
    "        seed {int} -- Number of the seed\n",
    "    \"\"\"\n",
    "    random.seed(seed)\n",
    "    os.environ[\"PYTHONHASHSEED\"] = str(seed)\n",
    "    np.random.seed(seed)\n",
    "\n",
    "seed_everything(95)"
   ]
  },
  {
   "source": [
    "# CONFIG"
   ],
   "cell_type": "markdown",
   "metadata": {}
  },
  {
   "cell_type": "code",
   "execution_count": 15,
   "metadata": {},
   "outputs": [],
   "source": [
    "config = {\n",
    "    \"DATA_PATH\" : \"D:/Documents/GitHub/ml-pipeline/data/TPS-MAR2021/train.csv\",\n",
    "    \"TARGET_VAR\" : \"target\",\n",
    "}"
   ]
  },
  {
   "source": [],
   "cell_type": "markdown",
   "metadata": {}
  },
  {
   "source": [
    "# DATA & FEATURE ENGINEERING"
   ],
   "cell_type": "markdown",
   "metadata": {}
  },
  {
   "cell_type": "code",
   "execution_count": 17,
   "metadata": {},
   "outputs": [
    {
     "output_type": "execute_result",
     "data": {
      "text/plain": [
       "   id cat0 cat1 cat2 cat3 cat4 cat5 cat6 cat7 cat8  ...     cont2     cont3  \\\n",
       "0   0    A    I    A    B    B   BI    A    S    Q  ...  0.759439  0.795549   \n",
       "1   1    A    I    A    A    E   BI    K    W   AD  ...  0.386385  0.541366   \n",
       "2   2    A    K    A    A    E   BI    A    E   BM  ...  0.343255  0.616352   \n",
       "3   3    A    K    A    C    E   BI    A    Y   AD  ...  0.831147  0.807807   \n",
       "4   4    A    I    G    B    E   BI    C    G    Q  ...  0.338818  0.277308   \n",
       "\n",
       "      cont4     cont5     cont6     cont7     cont8     cont9    cont10 target  \n",
       "0  0.681917  0.621672  0.592184  0.791921  0.815254  0.965006  0.665915      0  \n",
       "1  0.388982  0.357778  0.600044  0.408701  0.399353  0.927406  0.493729      0  \n",
       "2  0.793687  0.552877  0.352113  0.388835  0.412303  0.292696  0.549452      0  \n",
       "3  0.800032  0.619147  0.221789  0.897617  0.633669  0.760318  0.934242      0  \n",
       "4  0.610578  0.128291  0.578764  0.279167  0.351103  0.357084  0.328960      1  \n",
       "\n",
       "[5 rows x 32 columns]"
      ],
      "text/html": "<div>\n<style scoped>\n    .dataframe tbody tr th:only-of-type {\n        vertical-align: middle;\n    }\n\n    .dataframe tbody tr th {\n        vertical-align: top;\n    }\n\n    .dataframe thead th {\n        text-align: right;\n    }\n</style>\n<table border=\"1\" class=\"dataframe\">\n  <thead>\n    <tr style=\"text-align: right;\">\n      <th></th>\n      <th>id</th>\n      <th>cat0</th>\n      <th>cat1</th>\n      <th>cat2</th>\n      <th>cat3</th>\n      <th>cat4</th>\n      <th>cat5</th>\n      <th>cat6</th>\n      <th>cat7</th>\n      <th>cat8</th>\n      <th>...</th>\n      <th>cont2</th>\n      <th>cont3</th>\n      <th>cont4</th>\n      <th>cont5</th>\n      <th>cont6</th>\n      <th>cont7</th>\n      <th>cont8</th>\n      <th>cont9</th>\n      <th>cont10</th>\n      <th>target</th>\n    </tr>\n  </thead>\n  <tbody>\n    <tr>\n      <th>0</th>\n      <td>0</td>\n      <td>A</td>\n      <td>I</td>\n      <td>A</td>\n      <td>B</td>\n      <td>B</td>\n      <td>BI</td>\n      <td>A</td>\n      <td>S</td>\n      <td>Q</td>\n      <td>...</td>\n      <td>0.759439</td>\n      <td>0.795549</td>\n      <td>0.681917</td>\n      <td>0.621672</td>\n      <td>0.592184</td>\n      <td>0.791921</td>\n      <td>0.815254</td>\n      <td>0.965006</td>\n      <td>0.665915</td>\n      <td>0</td>\n    </tr>\n    <tr>\n      <th>1</th>\n      <td>1</td>\n      <td>A</td>\n      <td>I</td>\n      <td>A</td>\n      <td>A</td>\n      <td>E</td>\n      <td>BI</td>\n      <td>K</td>\n      <td>W</td>\n      <td>AD</td>\n      <td>...</td>\n      <td>0.386385</td>\n      <td>0.541366</td>\n      <td>0.388982</td>\n      <td>0.357778</td>\n      <td>0.600044</td>\n      <td>0.408701</td>\n      <td>0.399353</td>\n      <td>0.927406</td>\n      <td>0.493729</td>\n      <td>0</td>\n    </tr>\n    <tr>\n      <th>2</th>\n      <td>2</td>\n      <td>A</td>\n      <td>K</td>\n      <td>A</td>\n      <td>A</td>\n      <td>E</td>\n      <td>BI</td>\n      <td>A</td>\n      <td>E</td>\n      <td>BM</td>\n      <td>...</td>\n      <td>0.343255</td>\n      <td>0.616352</td>\n      <td>0.793687</td>\n      <td>0.552877</td>\n      <td>0.352113</td>\n      <td>0.388835</td>\n      <td>0.412303</td>\n      <td>0.292696</td>\n      <td>0.549452</td>\n      <td>0</td>\n    </tr>\n    <tr>\n      <th>3</th>\n      <td>3</td>\n      <td>A</td>\n      <td>K</td>\n      <td>A</td>\n      <td>C</td>\n      <td>E</td>\n      <td>BI</td>\n      <td>A</td>\n      <td>Y</td>\n      <td>AD</td>\n      <td>...</td>\n      <td>0.831147</td>\n      <td>0.807807</td>\n      <td>0.800032</td>\n      <td>0.619147</td>\n      <td>0.221789</td>\n      <td>0.897617</td>\n      <td>0.633669</td>\n      <td>0.760318</td>\n      <td>0.934242</td>\n      <td>0</td>\n    </tr>\n    <tr>\n      <th>4</th>\n      <td>4</td>\n      <td>A</td>\n      <td>I</td>\n      <td>G</td>\n      <td>B</td>\n      <td>E</td>\n      <td>BI</td>\n      <td>C</td>\n      <td>G</td>\n      <td>Q</td>\n      <td>...</td>\n      <td>0.338818</td>\n      <td>0.277308</td>\n      <td>0.610578</td>\n      <td>0.128291</td>\n      <td>0.578764</td>\n      <td>0.279167</td>\n      <td>0.351103</td>\n      <td>0.357084</td>\n      <td>0.328960</td>\n      <td>1</td>\n    </tr>\n  </tbody>\n</table>\n<p>5 rows × 32 columns</p>\n</div>"
     },
     "metadata": {},
     "execution_count": 17
    }
   ],
   "source": [
    "df = pd.read_csv(config[\"DATA_PATH\"])\n",
    "target = df[config[\"TARGET_VAR\"]]\n",
    "df.head()"
   ]
  },
  {
   "cell_type": "code",
   "execution_count": 19,
   "metadata": {},
   "outputs": [],
   "source": [
    "def cat_encoding(dataframe):\r\n",
    "    cat = dataframe.columns[1:20]\r\n",
    "    for feature in cat:\r\n",
    "        le = LabelEncoder()\r\n",
    "        le.fit(dataframe[feature])\r\n",
    "        dataframe[feature] = le.transform(dataframe[feature])\r\n",
    "    return dataframe\r\n",
    "\r\n",
    "def feature_engineering(dataframe):\r\n",
    "    dataframe = cat_encoding(dataframe)\r\n",
    "    features = dataframe.columns[1:31]\r\n",
    "    return dataframe, features"
   ]
  },
  {
   "cell_type": "code",
   "execution_count": 21,
   "metadata": {},
   "outputs": [
    {
     "output_type": "execute_result",
     "data": {
      "text/plain": [
       "   id  cat0  cat1  cat2  cat3  cat4  cat5  cat6  cat7  cat8  ...     cont2  \\\n",
       "0   0     0     8     0     1     1    33     0    44    54  ...  0.759439   \n",
       "1   1     0     8     0     0     4    33     8    48     3  ...  0.386385   \n",
       "2   2     0    10     0     0     4    33     0    30    38  ...  0.343255   \n",
       "3   3     0    10     0     2     4    33     0    50     3  ...  0.831147   \n",
       "4   4     0     8     6     1     4    33     2    32    54  ...  0.338818   \n",
       "\n",
       "      cont3     cont4     cont5     cont6     cont7     cont8     cont9  \\\n",
       "0  0.795549  0.681917  0.621672  0.592184  0.791921  0.815254  0.965006   \n",
       "1  0.541366  0.388982  0.357778  0.600044  0.408701  0.399353  0.927406   \n",
       "2  0.616352  0.793687  0.552877  0.352113  0.388835  0.412303  0.292696   \n",
       "3  0.807807  0.800032  0.619147  0.221789  0.897617  0.633669  0.760318   \n",
       "4  0.277308  0.610578  0.128291  0.578764  0.279167  0.351103  0.357084   \n",
       "\n",
       "     cont10  target  \n",
       "0  0.665915       0  \n",
       "1  0.493729       0  \n",
       "2  0.549452       0  \n",
       "3  0.934242       0  \n",
       "4  0.328960       1  \n",
       "\n",
       "[5 rows x 32 columns]"
      ],
      "text/html": "<div>\n<style scoped>\n    .dataframe tbody tr th:only-of-type {\n        vertical-align: middle;\n    }\n\n    .dataframe tbody tr th {\n        vertical-align: top;\n    }\n\n    .dataframe thead th {\n        text-align: right;\n    }\n</style>\n<table border=\"1\" class=\"dataframe\">\n  <thead>\n    <tr style=\"text-align: right;\">\n      <th></th>\n      <th>id</th>\n      <th>cat0</th>\n      <th>cat1</th>\n      <th>cat2</th>\n      <th>cat3</th>\n      <th>cat4</th>\n      <th>cat5</th>\n      <th>cat6</th>\n      <th>cat7</th>\n      <th>cat8</th>\n      <th>...</th>\n      <th>cont2</th>\n      <th>cont3</th>\n      <th>cont4</th>\n      <th>cont5</th>\n      <th>cont6</th>\n      <th>cont7</th>\n      <th>cont8</th>\n      <th>cont9</th>\n      <th>cont10</th>\n      <th>target</th>\n    </tr>\n  </thead>\n  <tbody>\n    <tr>\n      <th>0</th>\n      <td>0</td>\n      <td>0</td>\n      <td>8</td>\n      <td>0</td>\n      <td>1</td>\n      <td>1</td>\n      <td>33</td>\n      <td>0</td>\n      <td>44</td>\n      <td>54</td>\n      <td>...</td>\n      <td>0.759439</td>\n      <td>0.795549</td>\n      <td>0.681917</td>\n      <td>0.621672</td>\n      <td>0.592184</td>\n      <td>0.791921</td>\n      <td>0.815254</td>\n      <td>0.965006</td>\n      <td>0.665915</td>\n      <td>0</td>\n    </tr>\n    <tr>\n      <th>1</th>\n      <td>1</td>\n      <td>0</td>\n      <td>8</td>\n      <td>0</td>\n      <td>0</td>\n      <td>4</td>\n      <td>33</td>\n      <td>8</td>\n      <td>48</td>\n      <td>3</td>\n      <td>...</td>\n      <td>0.386385</td>\n      <td>0.541366</td>\n      <td>0.388982</td>\n      <td>0.357778</td>\n      <td>0.600044</td>\n      <td>0.408701</td>\n      <td>0.399353</td>\n      <td>0.927406</td>\n      <td>0.493729</td>\n      <td>0</td>\n    </tr>\n    <tr>\n      <th>2</th>\n      <td>2</td>\n      <td>0</td>\n      <td>10</td>\n      <td>0</td>\n      <td>0</td>\n      <td>4</td>\n      <td>33</td>\n      <td>0</td>\n      <td>30</td>\n      <td>38</td>\n      <td>...</td>\n      <td>0.343255</td>\n      <td>0.616352</td>\n      <td>0.793687</td>\n      <td>0.552877</td>\n      <td>0.352113</td>\n      <td>0.388835</td>\n      <td>0.412303</td>\n      <td>0.292696</td>\n      <td>0.549452</td>\n      <td>0</td>\n    </tr>\n    <tr>\n      <th>3</th>\n      <td>3</td>\n      <td>0</td>\n      <td>10</td>\n      <td>0</td>\n      <td>2</td>\n      <td>4</td>\n      <td>33</td>\n      <td>0</td>\n      <td>50</td>\n      <td>3</td>\n      <td>...</td>\n      <td>0.831147</td>\n      <td>0.807807</td>\n      <td>0.800032</td>\n      <td>0.619147</td>\n      <td>0.221789</td>\n      <td>0.897617</td>\n      <td>0.633669</td>\n      <td>0.760318</td>\n      <td>0.934242</td>\n      <td>0</td>\n    </tr>\n    <tr>\n      <th>4</th>\n      <td>4</td>\n      <td>0</td>\n      <td>8</td>\n      <td>6</td>\n      <td>1</td>\n      <td>4</td>\n      <td>33</td>\n      <td>2</td>\n      <td>32</td>\n      <td>54</td>\n      <td>...</td>\n      <td>0.338818</td>\n      <td>0.277308</td>\n      <td>0.610578</td>\n      <td>0.128291</td>\n      <td>0.578764</td>\n      <td>0.279167</td>\n      <td>0.351103</td>\n      <td>0.357084</td>\n      <td>0.328960</td>\n      <td>1</td>\n    </tr>\n  </tbody>\n</table>\n<p>5 rows × 32 columns</p>\n</div>"
     },
     "metadata": {},
     "execution_count": 21
    }
   ],
   "source": [
    "df, features = feature_engineering(df)\n",
    "df.head()"
   ]
  },
  {
   "source": [
    "## GET PCA FEATURES"
   ],
   "cell_type": "markdown",
   "metadata": {}
  },
  {
   "cell_type": "code",
   "execution_count": 23,
   "metadata": {},
   "outputs": [],
   "source": [
    "cont_features = df[features].columns[19:]"
   ]
  },
  {
   "cell_type": "code",
   "execution_count": 25,
   "metadata": {},
   "outputs": [
    {
     "output_type": "stream",
     "name": "stdout",
     "text": [
      "[0.41382892 0.20012941 0.10590638 0.0827102 ]\n"
     ]
    }
   ],
   "source": [
    "pca = PCA(n_components=4)\n",
    "pca.fit(df[cont_features])\n",
    "print(pca.explained_variance_ratio_)"
   ]
  },
  {
   "cell_type": "code",
   "execution_count": 27,
   "metadata": {},
   "outputs": [
    {
     "output_type": "execute_result",
     "data": {
      "text/plain": [
       "array([[ 0.7583725 ,  0.3144808 , -0.12439139, -0.06128659],\n",
       "       [-0.11459219, -0.09886094, -0.00098513, -0.1732633 ],\n",
       "       [-0.10473512, -0.22005765, -0.35083298,  0.00784454],\n",
       "       ...,\n",
       "       [-0.20756834,  0.25664666, -0.37682105,  0.05553589],\n",
       "       [ 0.14421467,  0.43126352,  0.16308763, -0.03884611],\n",
       "       [ 0.96459898, -0.1866586 , -0.06461013,  0.21870288]])"
      ]
     },
     "metadata": {},
     "execution_count": 27
    }
   ],
   "source": [
    "pca_values = pca.transform(df[cont_features])\n",
    "pca_values"
   ]
  },
  {
   "cell_type": "code",
   "execution_count": 29,
   "metadata": {},
   "outputs": [
    {
     "output_type": "execute_result",
     "data": {
      "text/plain": [
       "           PCA_1     PCA_2     PCA_3     PCA_4\n",
       "0       0.758373  0.314481 -0.124391 -0.061287\n",
       "1      -0.114592 -0.098861 -0.000985 -0.173263\n",
       "2      -0.104735 -0.220058 -0.350833  0.007845\n",
       "3       0.985506 -0.067565 -0.226378 -0.096329\n",
       "4      -0.513774 -0.226829 -0.021793  0.324951\n",
       "...          ...       ...       ...       ...\n",
       "299995  0.337956 -0.353694  0.210301  0.014814\n",
       "299996  0.311800  0.287399  0.117082 -0.082754\n",
       "299997 -0.207568  0.256647 -0.376821  0.055536\n",
       "299998  0.144215  0.431264  0.163088 -0.038846\n",
       "299999  0.964599 -0.186659 -0.064610  0.218703\n",
       "\n",
       "[300000 rows x 4 columns]"
      ],
      "text/html": "<div>\n<style scoped>\n    .dataframe tbody tr th:only-of-type {\n        vertical-align: middle;\n    }\n\n    .dataframe tbody tr th {\n        vertical-align: top;\n    }\n\n    .dataframe thead th {\n        text-align: right;\n    }\n</style>\n<table border=\"1\" class=\"dataframe\">\n  <thead>\n    <tr style=\"text-align: right;\">\n      <th></th>\n      <th>PCA_1</th>\n      <th>PCA_2</th>\n      <th>PCA_3</th>\n      <th>PCA_4</th>\n    </tr>\n  </thead>\n  <tbody>\n    <tr>\n      <th>0</th>\n      <td>0.758373</td>\n      <td>0.314481</td>\n      <td>-0.124391</td>\n      <td>-0.061287</td>\n    </tr>\n    <tr>\n      <th>1</th>\n      <td>-0.114592</td>\n      <td>-0.098861</td>\n      <td>-0.000985</td>\n      <td>-0.173263</td>\n    </tr>\n    <tr>\n      <th>2</th>\n      <td>-0.104735</td>\n      <td>-0.220058</td>\n      <td>-0.350833</td>\n      <td>0.007845</td>\n    </tr>\n    <tr>\n      <th>3</th>\n      <td>0.985506</td>\n      <td>-0.067565</td>\n      <td>-0.226378</td>\n      <td>-0.096329</td>\n    </tr>\n    <tr>\n      <th>4</th>\n      <td>-0.513774</td>\n      <td>-0.226829</td>\n      <td>-0.021793</td>\n      <td>0.324951</td>\n    </tr>\n    <tr>\n      <th>...</th>\n      <td>...</td>\n      <td>...</td>\n      <td>...</td>\n      <td>...</td>\n    </tr>\n    <tr>\n      <th>299995</th>\n      <td>0.337956</td>\n      <td>-0.353694</td>\n      <td>0.210301</td>\n      <td>0.014814</td>\n    </tr>\n    <tr>\n      <th>299996</th>\n      <td>0.311800</td>\n      <td>0.287399</td>\n      <td>0.117082</td>\n      <td>-0.082754</td>\n    </tr>\n    <tr>\n      <th>299997</th>\n      <td>-0.207568</td>\n      <td>0.256647</td>\n      <td>-0.376821</td>\n      <td>0.055536</td>\n    </tr>\n    <tr>\n      <th>299998</th>\n      <td>0.144215</td>\n      <td>0.431264</td>\n      <td>0.163088</td>\n      <td>-0.038846</td>\n    </tr>\n    <tr>\n      <th>299999</th>\n      <td>0.964599</td>\n      <td>-0.186659</td>\n      <td>-0.064610</td>\n      <td>0.218703</td>\n    </tr>\n  </tbody>\n</table>\n<p>300000 rows × 4 columns</p>\n</div>"
     },
     "metadata": {},
     "execution_count": 29
    }
   ],
   "source": [
    "df_pca = pd.DataFrame(pca_values, columns=[\"PCA_1\", \"PCA_2\", \"PCA_3\", \"PCA_4\"])\n",
    "df_pca"
   ]
  },
  {
   "cell_type": "code",
   "execution_count": 31,
   "metadata": {},
   "outputs": [
    {
     "output_type": "execute_result",
     "data": {
      "text/plain": [
       "Index(['cat0', 'cat1', 'cat10', 'cat11', 'cat12', 'cat13', 'cat14', 'cat15',\n",
       "       'cat16', 'cat17', 'cat18', 'cat2', 'cat3', 'cat4', 'cat5', 'cat6',\n",
       "       'cat7', 'cat8', 'cat9', 'id', 'target', 'PCA_1', 'PCA_2', 'PCA_3',\n",
       "       'PCA_4'],\n",
       "      dtype='object')"
      ]
     },
     "metadata": {},
     "execution_count": 31
    }
   ],
   "source": [
    "no_cont = df.columns.difference(cont_features)\n",
    "df_train = df[no_cont].join(df_pca)\n",
    "df_train.columns"
   ]
  },
  {
   "source": [
    "## SPLIT TRAIN AND VALID SETS"
   ],
   "cell_type": "markdown",
   "metadata": {}
  },
  {
   "cell_type": "code",
   "execution_count": 33,
   "metadata": {},
   "outputs": [],
   "source": [
    "train_x, valid_x, train_y, valid_y = train_test_split(df[features], target, test_size=0.2, random_state=95)"
   ]
  },
  {
   "source": [
    "## METRIC"
   ],
   "cell_type": "markdown",
   "metadata": {}
  },
  {
   "cell_type": "code",
   "execution_count": 35,
   "metadata": {},
   "outputs": [],
   "source": [
    "auc = roc_auc_score"
   ]
  },
  {
   "source": [
    "# TRAIN MODELS WITH NORMAL FEATURES"
   ],
   "cell_type": "markdown",
   "metadata": {}
  },
  {
   "source": [
    "## MODEL PARAMETERS"
   ],
   "cell_type": "markdown",
   "metadata": {}
  },
  {
   "cell_type": "code",
   "execution_count": 36,
   "metadata": {},
   "outputs": [],
   "source": [
    "LGBM_parameters = {\n",
    "    'objective': 'binary',\n",
    "    'metric' : 'auc',\n",
    "    'n_estimators' : 1000,\n",
    "    'random_state' : 95,\n",
    "    'cat_smooth' : 30,\n",
    "    'reg_alpha': 0.0031293275223408185,\n",
    "    'reg_lambda': 0.04787145507141445,\n",
    "    'colsample_bytree': 0.3,\n",
    "    'subsample': 0.6,\n",
    "    'learning_rate': 0.008,\n",
    "    'max_depth': 100,\n",
    "    'num_leaves': 584,\n",
    "    'min_child_samples': 173\n",
    "}"
   ]
  },
  {
   "cell_type": "code",
   "execution_count": 37,
   "metadata": {},
   "outputs": [
    {
     "output_type": "stream",
     "name": "stdout",
     "text": [
      "Training until validation scores don't improve for 100 rounds\n",
      "[100]\tvalid_0's auc: 0.885724\n",
      "[200]\tvalid_0's auc: 0.887945\n",
      "[300]\tvalid_0's auc: 0.889507\n",
      "[400]\tvalid_0's auc: 0.890755\n",
      "[500]\tvalid_0's auc: 0.891713\n",
      "[600]\tvalid_0's auc: 0.8925\n",
      "[700]\tvalid_0's auc: 0.893206\n",
      "[800]\tvalid_0's auc: 0.893656\n",
      "[900]\tvalid_0's auc: 0.894049\n",
      "[1000]\tvalid_0's auc: 0.894348\n",
      "Did not meet early stopping. Best iteration is:\n",
      "[998]\tvalid_0's auc: 0.894351\n",
      "Validation score : 0.8943508333455539\n"
     ]
    }
   ],
   "source": [
    "model = lgb.LGBMClassifier(**LGBM_parameters)\n",
    "model.fit(train_x, train_y, eval_set=[(valid_x, valid_y)], early_stopping_rounds=100, verbose=100)\n",
    "preds = model.predict_proba(valid_x)[:, 1]\n",
    "score = auc(valid_y, preds)\n",
    "print(f\"Validation score : {score}\")"
   ]
  },
  {
   "source": [
    "# TRAIN MODELS WITH PCA FEATURES"
   ],
   "cell_type": "markdown",
   "metadata": {}
  },
  {
   "cell_type": "code",
   "execution_count": 47,
   "metadata": {},
   "outputs": [
    {
     "output_type": "execute_result",
     "data": {
      "text/plain": [
       "Index(['PCA_1', 'PCA_2', 'PCA_3', 'PCA_4', 'cat0', 'cat1', 'cat10', 'cat11',\n",
       "       'cat12', 'cat13', 'cat14', 'cat15', 'cat16', 'cat17', 'cat18', 'cat2',\n",
       "       'cat3', 'cat4', 'cat5', 'cat6', 'cat7', 'cat8', 'cat9'],\n",
       "      dtype='object')"
      ]
     },
     "metadata": {},
     "execution_count": 47
    }
   ],
   "source": [
    "pca_features = df_train.columns.difference([\"id\", \"target\"])\n",
    "pca_features"
   ]
  },
  {
   "cell_type": "code",
   "execution_count": 48,
   "metadata": {},
   "outputs": [],
   "source": [
    "train_pca_x, valid_pca_x, train_pca_y, valid_pca_y = train_test_split(df_train[pca_features], target, test_size=0.2, random_state=95)"
   ]
  },
  {
   "cell_type": "code",
   "execution_count": 50,
   "metadata": {},
   "outputs": [
    {
     "output_type": "stream",
     "name": "stdout",
     "text": [
      "Training until validation scores don't improve for 100 rounds\n",
      "[100]\tvalid_0's auc: 0.882307\n",
      "[200]\tvalid_0's auc: 0.884257\n",
      "[300]\tvalid_0's auc: 0.885562\n",
      "[400]\tvalid_0's auc: 0.886554\n",
      "[500]\tvalid_0's auc: 0.887406\n",
      "[600]\tvalid_0's auc: 0.887988\n",
      "[700]\tvalid_0's auc: 0.888396\n",
      "[800]\tvalid_0's auc: 0.888687\n",
      "[900]\tvalid_0's auc: 0.888917\n",
      "[1000]\tvalid_0's auc: 0.889027\n",
      "Did not meet early stopping. Best iteration is:\n",
      "[1000]\tvalid_0's auc: 0.889027\n",
      "Validation score : 0.8890274820315557\n"
     ]
    }
   ],
   "source": [
    "model_pca = lgb.LGBMClassifier(**LGBM_parameters)\n",
    "model_pca.fit(train_pca_x, train_pca_y, eval_set=[(valid_pca_x, valid_pca_y)], early_stopping_rounds=100, verbose=100)\n",
    "preds_pca = model_pca.predict_proba(valid_pca_x)[:, 1]\n",
    "score_pca = auc(valid_pca_y, preds_pca)\n",
    "print(f\"Validation score : {score_pca}\")"
   ]
  },
  {
   "cell_type": "code",
   "execution_count": null,
   "metadata": {},
   "outputs": [],
   "source": []
  }
 ]
}