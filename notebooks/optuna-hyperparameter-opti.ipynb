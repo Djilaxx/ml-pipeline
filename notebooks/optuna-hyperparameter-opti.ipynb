{
 "cells": [
  {
   "cell_type": "markdown",
   "metadata": {
    "papermill": {
     "duration": 0.008413,
     "end_time": "2021-03-06T13:20:30.195043",
     "exception": false,
     "start_time": "2021-03-06T13:20:30.186630",
     "status": "completed"
    },
    "tags": []
   },
   "source": [
    "# HYPERPARAMETER OPTIMIZATION USING OPTUNA"
   ]
  },
  {
   "cell_type": "markdown",
   "metadata": {
    "papermill": {
     "duration": 0.00712,
     "end_time": "2021-03-06T13:20:30.209862",
     "exception": false,
     "start_time": "2021-03-06T13:20:30.202742",
     "status": "completed"
    },
    "tags": []
   },
   "source": [
    "## IMPORTS"
   ]
  },
  {
   "cell_type": "code",
   "execution_count": 1,
   "metadata": {
    "execution": {
     "iopub.execute_input": "2021-03-06T13:20:30.231902Z",
     "iopub.status.busy": "2021-03-06T13:20:30.231230Z",
     "iopub.status.idle": "2021-03-06T13:20:32.457432Z",
     "shell.execute_reply": "2021-03-06T13:20:32.456515Z"
    },
    "papermill": {
     "duration": 2.240371,
     "end_time": "2021-03-06T13:20:32.457694",
     "exception": false,
     "start_time": "2021-03-06T13:20:30.217323",
     "status": "completed"
    },
    "tags": []
   },
   "outputs": [
    {
     "data": {
      "text/html": [
       "<style type='text/css'>\n",
       ".datatable table.frame { margin-bottom: 0; }\n",
       ".datatable table.frame thead { border-bottom: none; }\n",
       ".datatable table.frame tr.coltypes td {  color: #FFFFFF;  line-height: 6px;  padding: 0 0.5em;}\n",
       ".datatable .bool    { background: #DDDD99; }\n",
       ".datatable .object  { background: #565656; }\n",
       ".datatable .int     { background: #5D9E5D; }\n",
       ".datatable .float   { background: #4040CC; }\n",
       ".datatable .str     { background: #CC4040; }\n",
       ".datatable .row_index {  background: var(--jp-border-color3);  border-right: 1px solid var(--jp-border-color0);  color: var(--jp-ui-font-color3);  font-size: 9px;}\n",
       ".datatable .frame tr.coltypes .row_index {  background: var(--jp-border-color0);}\n",
       ".datatable th:nth-child(2) { padding-left: 12px; }\n",
       ".datatable .hellipsis {  color: var(--jp-cell-editor-border-color);}\n",
       ".datatable .vellipsis {  background: var(--jp-layout-color0);  color: var(--jp-cell-editor-border-color);}\n",
       ".datatable .na {  color: var(--jp-cell-editor-border-color);  font-size: 80%;}\n",
       ".datatable .footer { font-size: 9px; }\n",
       ".datatable .frame_dimensions {  background: var(--jp-border-color3);  border-top: 1px solid var(--jp-border-color0);  color: var(--jp-ui-font-color3);  display: inline-block;  opacity: 0.6;  padding: 1px 10px 1px 5px;}\n",
       "</style>\n"
      ],
      "text/plain": [
       "<IPython.core.display.HTML object>"
      ]
     },
     "metadata": {},
     "output_type": "display_data"
    }
   ],
   "source": [
    "##################\n",
    "# IMPORT MODULES #\n",
    "##################\n",
    "# SYS IMPORT\n",
    "import os, inspect, importlib, argparse\n",
    "import gc\n",
    "import pandas as pd\n",
    "import numpy as np\n",
    "from pathlib import Path\n",
    "\n",
    "from tqdm import tqdm\n",
    "import matplotlib.pyplot as plt\n",
    "\n",
    "import xgboost as xgb\n",
    "import lightgbm as lgb \n",
    "import optuna \n",
    "from sklearn.model_selection import KFold\n",
    "from sklearn.metrics import roc_auc_score\n",
    "from sklearn.preprocessing import LabelEncoder\n",
    "from sklearn.model_selection import train_test_split"
   ]
  },
  {
   "cell_type": "markdown",
   "metadata": {
    "papermill": {
     "duration": 0.007676,
     "end_time": "2021-03-06T13:20:32.474001",
     "exception": false,
     "start_time": "2021-03-06T13:20:32.466325",
     "status": "completed"
    },
    "tags": []
   },
   "source": [
    "## CONFIG"
   ]
  },
  {
   "cell_type": "code",
   "execution_count": 2,
   "metadata": {
    "execution": {
     "iopub.execute_input": "2021-03-06T13:20:32.493694Z",
     "iopub.status.busy": "2021-03-06T13:20:32.493114Z",
     "iopub.status.idle": "2021-03-06T13:20:32.496353Z",
     "shell.execute_reply": "2021-03-06T13:20:32.496935Z"
    },
    "papermill": {
     "duration": 0.01434,
     "end_time": "2021-03-06T13:20:32.497099",
     "exception": false,
     "start_time": "2021-03-06T13:20:32.482759",
     "status": "completed"
    },
    "tags": []
   },
   "outputs": [],
   "source": [
    "config = {\n",
    "    \"DATA_PATH\" : \"../input/tabular-playground-series-mar-2021/train.csv\",\n",
    "    \"TARGET_VAR\" : \"target\"\n",
    "}"
   ]
  },
  {
   "cell_type": "markdown",
   "metadata": {
    "papermill": {
     "duration": 0.007929,
     "end_time": "2021-03-06T13:20:32.513415",
     "exception": false,
     "start_time": "2021-03-06T13:20:32.505486",
     "status": "completed"
    },
    "tags": []
   },
   "source": [
    "## LOADING DATA"
   ]
  },
  {
   "cell_type": "code",
   "execution_count": 3,
   "metadata": {
    "execution": {
     "iopub.execute_input": "2021-03-06T13:20:32.532654Z",
     "iopub.status.busy": "2021-03-06T13:20:32.531982Z",
     "iopub.status.idle": "2021-03-06T13:20:34.778288Z",
     "shell.execute_reply": "2021-03-06T13:20:34.778940Z"
    },
    "papermill": {
     "duration": 2.257653,
     "end_time": "2021-03-06T13:20:34.779108",
     "exception": false,
     "start_time": "2021-03-06T13:20:32.521455",
     "status": "completed"
    },
    "tags": []
   },
   "outputs": [
    {
     "data": {
      "text/html": [
       "<div>\n",
       "<style scoped>\n",
       "    .dataframe tbody tr th:only-of-type {\n",
       "        vertical-align: middle;\n",
       "    }\n",
       "\n",
       "    .dataframe tbody tr th {\n",
       "        vertical-align: top;\n",
       "    }\n",
       "\n",
       "    .dataframe thead th {\n",
       "        text-align: right;\n",
       "    }\n",
       "</style>\n",
       "<table border=\"1\" class=\"dataframe\">\n",
       "  <thead>\n",
       "    <tr style=\"text-align: right;\">\n",
       "      <th></th>\n",
       "      <th>id</th>\n",
       "      <th>cat0</th>\n",
       "      <th>cat1</th>\n",
       "      <th>cat2</th>\n",
       "      <th>cat3</th>\n",
       "      <th>cat4</th>\n",
       "      <th>cat5</th>\n",
       "      <th>cat6</th>\n",
       "      <th>cat7</th>\n",
       "      <th>cat8</th>\n",
       "      <th>...</th>\n",
       "      <th>cont2</th>\n",
       "      <th>cont3</th>\n",
       "      <th>cont4</th>\n",
       "      <th>cont5</th>\n",
       "      <th>cont6</th>\n",
       "      <th>cont7</th>\n",
       "      <th>cont8</th>\n",
       "      <th>cont9</th>\n",
       "      <th>cont10</th>\n",
       "      <th>target</th>\n",
       "    </tr>\n",
       "  </thead>\n",
       "  <tbody>\n",
       "    <tr>\n",
       "      <th>0</th>\n",
       "      <td>0</td>\n",
       "      <td>A</td>\n",
       "      <td>I</td>\n",
       "      <td>A</td>\n",
       "      <td>B</td>\n",
       "      <td>B</td>\n",
       "      <td>BI</td>\n",
       "      <td>A</td>\n",
       "      <td>S</td>\n",
       "      <td>Q</td>\n",
       "      <td>...</td>\n",
       "      <td>0.759439</td>\n",
       "      <td>0.795549</td>\n",
       "      <td>0.681917</td>\n",
       "      <td>0.621672</td>\n",
       "      <td>0.592184</td>\n",
       "      <td>0.791921</td>\n",
       "      <td>0.815254</td>\n",
       "      <td>0.965006</td>\n",
       "      <td>0.665915</td>\n",
       "      <td>0</td>\n",
       "    </tr>\n",
       "    <tr>\n",
       "      <th>1</th>\n",
       "      <td>1</td>\n",
       "      <td>A</td>\n",
       "      <td>I</td>\n",
       "      <td>A</td>\n",
       "      <td>A</td>\n",
       "      <td>E</td>\n",
       "      <td>BI</td>\n",
       "      <td>K</td>\n",
       "      <td>W</td>\n",
       "      <td>AD</td>\n",
       "      <td>...</td>\n",
       "      <td>0.386385</td>\n",
       "      <td>0.541366</td>\n",
       "      <td>0.388982</td>\n",
       "      <td>0.357778</td>\n",
       "      <td>0.600044</td>\n",
       "      <td>0.408701</td>\n",
       "      <td>0.399353</td>\n",
       "      <td>0.927406</td>\n",
       "      <td>0.493729</td>\n",
       "      <td>0</td>\n",
       "    </tr>\n",
       "    <tr>\n",
       "      <th>2</th>\n",
       "      <td>2</td>\n",
       "      <td>A</td>\n",
       "      <td>K</td>\n",
       "      <td>A</td>\n",
       "      <td>A</td>\n",
       "      <td>E</td>\n",
       "      <td>BI</td>\n",
       "      <td>A</td>\n",
       "      <td>E</td>\n",
       "      <td>BM</td>\n",
       "      <td>...</td>\n",
       "      <td>0.343255</td>\n",
       "      <td>0.616352</td>\n",
       "      <td>0.793687</td>\n",
       "      <td>0.552877</td>\n",
       "      <td>0.352113</td>\n",
       "      <td>0.388835</td>\n",
       "      <td>0.412303</td>\n",
       "      <td>0.292696</td>\n",
       "      <td>0.549452</td>\n",
       "      <td>0</td>\n",
       "    </tr>\n",
       "    <tr>\n",
       "      <th>3</th>\n",
       "      <td>3</td>\n",
       "      <td>A</td>\n",
       "      <td>K</td>\n",
       "      <td>A</td>\n",
       "      <td>C</td>\n",
       "      <td>E</td>\n",
       "      <td>BI</td>\n",
       "      <td>A</td>\n",
       "      <td>Y</td>\n",
       "      <td>AD</td>\n",
       "      <td>...</td>\n",
       "      <td>0.831147</td>\n",
       "      <td>0.807807</td>\n",
       "      <td>0.800032</td>\n",
       "      <td>0.619147</td>\n",
       "      <td>0.221789</td>\n",
       "      <td>0.897617</td>\n",
       "      <td>0.633669</td>\n",
       "      <td>0.760318</td>\n",
       "      <td>0.934242</td>\n",
       "      <td>0</td>\n",
       "    </tr>\n",
       "    <tr>\n",
       "      <th>4</th>\n",
       "      <td>4</td>\n",
       "      <td>A</td>\n",
       "      <td>I</td>\n",
       "      <td>G</td>\n",
       "      <td>B</td>\n",
       "      <td>E</td>\n",
       "      <td>BI</td>\n",
       "      <td>C</td>\n",
       "      <td>G</td>\n",
       "      <td>Q</td>\n",
       "      <td>...</td>\n",
       "      <td>0.338818</td>\n",
       "      <td>0.277308</td>\n",
       "      <td>0.610578</td>\n",
       "      <td>0.128291</td>\n",
       "      <td>0.578764</td>\n",
       "      <td>0.279167</td>\n",
       "      <td>0.351103</td>\n",
       "      <td>0.357084</td>\n",
       "      <td>0.328960</td>\n",
       "      <td>1</td>\n",
       "    </tr>\n",
       "  </tbody>\n",
       "</table>\n",
       "<p>5 rows × 32 columns</p>\n",
       "</div>"
      ],
      "text/plain": [
       "   id cat0 cat1 cat2 cat3 cat4 cat5 cat6 cat7 cat8  ...     cont2     cont3  \\\n",
       "0   0    A    I    A    B    B   BI    A    S    Q  ...  0.759439  0.795549   \n",
       "1   1    A    I    A    A    E   BI    K    W   AD  ...  0.386385  0.541366   \n",
       "2   2    A    K    A    A    E   BI    A    E   BM  ...  0.343255  0.616352   \n",
       "3   3    A    K    A    C    E   BI    A    Y   AD  ...  0.831147  0.807807   \n",
       "4   4    A    I    G    B    E   BI    C    G    Q  ...  0.338818  0.277308   \n",
       "\n",
       "      cont4     cont5     cont6     cont7     cont8     cont9    cont10 target  \n",
       "0  0.681917  0.621672  0.592184  0.791921  0.815254  0.965006  0.665915      0  \n",
       "1  0.388982  0.357778  0.600044  0.408701  0.399353  0.927406  0.493729      0  \n",
       "2  0.793687  0.552877  0.352113  0.388835  0.412303  0.292696  0.549452      0  \n",
       "3  0.800032  0.619147  0.221789  0.897617  0.633669  0.760318  0.934242      0  \n",
       "4  0.610578  0.128291  0.578764  0.279167  0.351103  0.357084  0.328960      1  \n",
       "\n",
       "[5 rows x 32 columns]"
      ]
     },
     "execution_count": 3,
     "metadata": {},
     "output_type": "execute_result"
    }
   ],
   "source": [
    "df = pd.read_csv(config[\"DATA_PATH\"])\n",
    "target = df[config[\"TARGET_VAR\"]]\n",
    "df.head()"
   ]
  },
  {
   "cell_type": "markdown",
   "metadata": {
    "papermill": {
     "duration": 0.008474,
     "end_time": "2021-03-06T13:20:34.796300",
     "exception": false,
     "start_time": "2021-03-06T13:20:34.787826",
     "status": "completed"
    },
    "tags": []
   },
   "source": [
    "## FEATURE ENGINEERING"
   ]
  },
  {
   "cell_type": "code",
   "execution_count": 4,
   "metadata": {
    "execution": {
     "iopub.execute_input": "2021-03-06T13:20:34.817424Z",
     "iopub.status.busy": "2021-03-06T13:20:34.816777Z",
     "iopub.status.idle": "2021-03-06T13:20:34.822095Z",
     "shell.execute_reply": "2021-03-06T13:20:34.822616Z"
    },
    "papermill": {
     "duration": 0.017412,
     "end_time": "2021-03-06T13:20:34.822801",
     "exception": false,
     "start_time": "2021-03-06T13:20:34.805389",
     "status": "completed"
    },
    "tags": []
   },
   "outputs": [],
   "source": [
    "def cat_encoding(dataframe):\n",
    "    cat = dataframe.columns[1:20]\n",
    "    for feature in cat:\n",
    "        le = LabelEncoder()\n",
    "        le.fit(dataframe[feature])\n",
    "        dataframe[feature] = le.transform(dataframe[feature])\n",
    "    return dataframe\n",
    "\n",
    "def feature_engineering(dataframe):\n",
    "    dataframe = cat_encoding(dataframe)\n",
    "    features = dataframe.columns[1:31]\n",
    "    return dataframe, features"
   ]
  },
  {
   "cell_type": "code",
   "execution_count": 5,
   "metadata": {
    "execution": {
     "iopub.execute_input": "2021-03-06T13:20:34.843750Z",
     "iopub.status.busy": "2021-03-06T13:20:34.843111Z",
     "iopub.status.idle": "2021-03-06T13:20:36.389445Z",
     "shell.execute_reply": "2021-03-06T13:20:36.389956Z"
    },
    "papermill": {
     "duration": 1.558152,
     "end_time": "2021-03-06T13:20:36.390125",
     "exception": false,
     "start_time": "2021-03-06T13:20:34.831973",
     "status": "completed"
    },
    "tags": []
   },
   "outputs": [],
   "source": [
    "df, features = feature_engineering(df)"
   ]
  },
  {
   "cell_type": "markdown",
   "metadata": {
    "papermill": {
     "duration": 0.008645,
     "end_time": "2021-03-06T13:20:36.407821",
     "exception": false,
     "start_time": "2021-03-06T13:20:36.399176",
     "status": "completed"
    },
    "tags": []
   },
   "source": [
    "## OPTIMIZING"
   ]
  },
  {
   "cell_type": "code",
   "execution_count": 6,
   "metadata": {
    "execution": {
     "iopub.execute_input": "2021-03-06T13:20:36.428818Z",
     "iopub.status.busy": "2021-03-06T13:20:36.428227Z",
     "iopub.status.idle": "2021-03-06T13:20:36.493009Z",
     "shell.execute_reply": "2021-03-06T13:20:36.492384Z"
    },
    "papermill": {
     "duration": 0.076326,
     "end_time": "2021-03-06T13:20:36.493154",
     "exception": false,
     "start_time": "2021-03-06T13:20:36.416828",
     "status": "completed"
    },
    "tags": []
   },
   "outputs": [],
   "source": [
    "def objective(trial, data=df[features], target=target):\n",
    "    \n",
    "    train_x, test_x, train_y, test_y = train_test_split(data, target, test_size=0.2,random_state=95)\n",
    "    param = {\n",
    "        'objective' : \"binary\",\n",
    "        'metric': 'auc', \n",
    "        'random_state': 95,\n",
    "        'n_estimators': 100000,\n",
    "        'reg_alpha': trial.suggest_loguniform('reg_alpha', 1e-3, 10.0),\n",
    "        'reg_lambda': trial.suggest_loguniform('reg_lambda', 1e-3, 10.0),\n",
    "        'colsample_bytree': trial.suggest_categorical('colsample_bytree', [0.3,0.4,0.5,0.6,0.7,0.8,0.9, 1.0]),\n",
    "        'subsample': trial.suggest_categorical('subsample', [0.4,0.5,0.6,0.7,0.8,1.0]),\n",
    "        'learning_rate': trial.suggest_categorical('learning_rate', [0.006,0.008,0.01,0.014,0.017,0.02]),\n",
    "        'max_depth': trial.suggest_categorical('max_depth', [10,20,100]),\n",
    "        'num_leaves' : trial.suggest_int('num_leaves', 1, 1000),\n",
    "        'min_child_samples': trial.suggest_int('min_child_samples', 1, 300),\n",
    "        'cat_smooth' : trial.suggest_int('min_data_per_groups', 1, 100)\n",
    "    }\n",
    "    model = lgb.LGBMClassifier(**param)  \n",
    "    \n",
    "    model.fit(train_x,train_y,eval_set=[(test_x,test_y)], early_stopping_rounds=1000, verbose=False)\n",
    "    \n",
    "    preds = model.predict_proba(test_x)[:, 1]\n",
    "    \n",
    "    auc = roc_auc_score(test_y, preds)\n",
    "    \n",
    "    return auc"
   ]
  },
  {
   "cell_type": "code",
   "execution_count": 7,
   "metadata": {
    "execution": {
     "iopub.execute_input": "2021-03-06T13:20:36.520399Z",
     "iopub.status.busy": "2021-03-06T13:20:36.519566Z",
     "iopub.status.idle": "2021-03-06T18:21:47.045614Z",
     "shell.execute_reply": "2021-03-06T18:21:47.045122Z"
    },
    "papermill": {
     "duration": 18070.541965,
     "end_time": "2021-03-06T18:21:47.045753",
     "exception": false,
     "start_time": "2021-03-06T13:20:36.503788",
     "status": "completed"
    },
    "tags": []
   },
   "outputs": [
    {
     "name": "stderr",
     "output_type": "stream",
     "text": [
      "\u001b[32m[I 2021-03-06 13:20:36,517]\u001b[0m A new study created in memory with name: no-name-b6fc5307-9fe7-4f5d-b881-1b047231c695\u001b[0m\n",
      "\u001b[32m[I 2021-03-06 13:24:40,635]\u001b[0m Trial 0 finished with value: 0.8941319241264956 and parameters: {'reg_alpha': 0.001316883022340614, 'reg_lambda': 0.528554915646157, 'colsample_bytree': 0.5, 'subsample': 0.6, 'learning_rate': 0.006, 'max_depth': 100, 'num_leaves': 674, 'min_child_samples': 198, 'min_data_per_groups': 62}. Best is trial 0 with value: 0.8941319241264956.\u001b[0m\n",
      "\u001b[32m[I 2021-03-06 13:26:44,983]\u001b[0m Trial 1 finished with value: 0.8923251322896474 and parameters: {'reg_alpha': 0.04204525225695287, 'reg_lambda': 0.11353301018540965, 'colsample_bytree': 0.8, 'subsample': 1.0, 'learning_rate': 0.01, 'max_depth': 10, 'num_leaves': 710, 'min_child_samples': 194, 'min_data_per_groups': 48}. Best is trial 0 with value: 0.8941319241264956.\u001b[0m\n",
      "\u001b[32m[I 2021-03-06 13:29:52,384]\u001b[0m Trial 2 finished with value: 0.892960439279956 and parameters: {'reg_alpha': 0.06976326188757909, 'reg_lambda': 0.02915759078993587, 'colsample_bytree': 0.6, 'subsample': 0.4, 'learning_rate': 0.006, 'max_depth': 10, 'num_leaves': 366, 'min_child_samples': 61, 'min_data_per_groups': 59}. Best is trial 0 with value: 0.8941319241264956.\u001b[0m\n",
      "\u001b[32m[I 2021-03-06 13:33:05,366]\u001b[0m Trial 3 finished with value: 0.8930369553300453 and parameters: {'reg_alpha': 0.012499431244457166, 'reg_lambda': 1.20819896509723, 'colsample_bytree': 0.6, 'subsample': 0.6, 'learning_rate': 0.01, 'max_depth': 20, 'num_leaves': 834, 'min_child_samples': 47, 'min_data_per_groups': 69}. Best is trial 0 with value: 0.8941319241264956.\u001b[0m\n",
      "\u001b[32m[I 2021-03-06 13:34:55,448]\u001b[0m Trial 4 finished with value: 0.8943317232546205 and parameters: {'reg_alpha': 0.09023159188999454, 'reg_lambda': 0.0025762157537321502, 'colsample_bytree': 0.3, 'subsample': 1.0, 'learning_rate': 0.014, 'max_depth': 20, 'num_leaves': 594, 'min_child_samples': 166, 'min_data_per_groups': 37}. Best is trial 4 with value: 0.8943317232546205.\u001b[0m\n",
      "\u001b[32m[I 2021-03-06 13:37:02,270]\u001b[0m Trial 5 finished with value: 0.8945280279579574 and parameters: {'reg_alpha': 2.6397608049449564, 'reg_lambda': 1.5144117075658547, 'colsample_bytree': 0.3, 'subsample': 0.5, 'learning_rate': 0.014, 'max_depth': 20, 'num_leaves': 315, 'min_child_samples': 253, 'min_data_per_groups': 69}. Best is trial 5 with value: 0.8945280279579574.\u001b[0m\n",
      "\u001b[32m[I 2021-03-06 13:38:52,990]\u001b[0m Trial 6 finished with value: 0.8925529567902553 and parameters: {'reg_alpha': 0.08816362959161574, 'reg_lambda': 0.4172584914936039, 'colsample_bytree': 0.6, 'subsample': 0.8, 'learning_rate': 0.017, 'max_depth': 100, 'num_leaves': 599, 'min_child_samples': 38, 'min_data_per_groups': 99}. Best is trial 5 with value: 0.8945280279579574.\u001b[0m\n",
      "\u001b[32m[I 2021-03-06 13:40:11,525]\u001b[0m Trial 7 finished with value: 0.8921838815562447 and parameters: {'reg_alpha': 0.0036650773437765893, 'reg_lambda': 0.8064914755685645, 'colsample_bytree': 0.7, 'subsample': 0.6, 'learning_rate': 0.02, 'max_depth': 10, 'num_leaves': 385, 'min_child_samples': 65, 'min_data_per_groups': 66}. Best is trial 5 with value: 0.8945280279579574.\u001b[0m\n",
      "\u001b[32m[I 2021-03-06 13:43:50,792]\u001b[0m Trial 8 finished with value: 0.8925401815045363 and parameters: {'reg_alpha': 6.145871689852389, 'reg_lambda': 0.007968325756683442, 'colsample_bytree': 0.9, 'subsample': 1.0, 'learning_rate': 0.008, 'max_depth': 10, 'num_leaves': 423, 'min_child_samples': 147, 'min_data_per_groups': 61}. Best is trial 5 with value: 0.8945280279579574.\u001b[0m\n",
      "\u001b[32m[I 2021-03-06 13:46:14,454]\u001b[0m Trial 9 finished with value: 0.8939624766552752 and parameters: {'reg_alpha': 1.1105938120628387, 'reg_lambda': 0.10388322838134693, 'colsample_bytree': 0.4, 'subsample': 0.5, 'learning_rate': 0.01, 'max_depth': 10, 'num_leaves': 880, 'min_child_samples': 292, 'min_data_per_groups': 84}. Best is trial 5 with value: 0.8945280279579574.\u001b[0m\n",
      "\u001b[32m[I 2021-03-06 13:49:24,790]\u001b[0m Trial 10 finished with value: 0.8934957460290678 and parameters: {'reg_alpha': 1.1327543119266683, 'reg_lambda': 8.469403826947035, 'colsample_bytree': 0.3, 'subsample': 0.5, 'learning_rate': 0.014, 'max_depth': 20, 'num_leaves': 35, 'min_child_samples': 293, 'min_data_per_groups': 13}. Best is trial 5 with value: 0.8945280279579574.\u001b[0m\n",
      "\u001b[32m[I 2021-03-06 13:51:04,614]\u001b[0m Trial 11 finished with value: 0.8941260805685746 and parameters: {'reg_alpha': 0.43223692998049534, 'reg_lambda': 0.0015442528754072823, 'colsample_bytree': 0.3, 'subsample': 0.7, 'learning_rate': 0.014, 'max_depth': 20, 'num_leaves': 179, 'min_child_samples': 234, 'min_data_per_groups': 31}. Best is trial 5 with value: 0.8945280279579574.\u001b[0m\n",
      "\u001b[32m[I 2021-03-06 13:53:14,345]\u001b[0m Trial 12 finished with value: 0.892395106468076 and parameters: {'reg_alpha': 9.615510226756262, 'reg_lambda': 0.0013493608401726727, 'colsample_bytree': 1.0, 'subsample': 1.0, 'learning_rate': 0.014, 'max_depth': 20, 'num_leaves': 249, 'min_child_samples': 128, 'min_data_per_groups': 36}. Best is trial 5 with value: 0.8945280279579574.\u001b[0m\n",
      "\u001b[32m[I 2021-03-06 13:55:10,537]\u001b[0m Trial 13 finished with value: 0.8944844254765296 and parameters: {'reg_alpha': 0.2948303802328257, 'reg_lambda': 7.094029225747686, 'colsample_bytree': 0.3, 'subsample': 0.5, 'learning_rate': 0.014, 'max_depth': 20, 'num_leaves': 588, 'min_child_samples': 237, 'min_data_per_groups': 5}. Best is trial 5 with value: 0.8945280279579574.\u001b[0m\n",
      "\u001b[32m[I 2021-03-06 14:26:24,361]\u001b[0m Trial 14 finished with value: 0.8823292109417035 and parameters: {'reg_alpha': 0.4515088015336571, 'reg_lambda': 8.717999669319036, 'colsample_bytree': 0.3, 'subsample': 0.5, 'learning_rate': 0.014, 'max_depth': 20, 'num_leaves': 2, 'min_child_samples': 253, 'min_data_per_groups': 10}. Best is trial 5 with value: 0.8945280279579574.\u001b[0m\n",
      "\u001b[32m[I 2021-03-06 14:29:22,134]\u001b[0m Trial 15 finished with value: 0.8946065361300654 and parameters: {'reg_alpha': 2.239021113429642, 'reg_lambda': 2.894570531049916, 'colsample_bytree': 0.3, 'subsample': 0.5, 'learning_rate': 0.008, 'max_depth': 20, 'num_leaves': 173, 'min_child_samples': 255, 'min_data_per_groups': 88}. Best is trial 15 with value: 0.8946065361300654.\u001b[0m\n",
      "\u001b[32m[I 2021-03-06 14:32:23,863]\u001b[0m Trial 16 finished with value: 0.8924593713247625 and parameters: {'reg_alpha': 3.786585690508554, 'reg_lambda': 3.3168438366865467, 'colsample_bytree': 1.0, 'subsample': 0.5, 'learning_rate': 0.008, 'max_depth': 20, 'num_leaves': 182, 'min_child_samples': 272, 'min_data_per_groups': 100}. Best is trial 15 with value: 0.8946065361300654.\u001b[0m\n",
      "\u001b[32m[I 2021-03-06 14:35:34,666]\u001b[0m Trial 17 finished with value: 0.8940136420601511 and parameters: {'reg_alpha': 1.4867462054951597, 'reg_lambda': 2.8283922701201982, 'colsample_bytree': 0.4, 'subsample': 0.5, 'learning_rate': 0.008, 'max_depth': 100, 'num_leaves': 101, 'min_child_samples': 210, 'min_data_per_groups': 86}. Best is trial 15 with value: 0.8946065361300654.\u001b[0m\n",
      "\u001b[32m[I 2021-03-06 14:37:15,540]\u001b[0m Trial 18 finished with value: 0.8924209455044941 and parameters: {'reg_alpha': 2.8629107189280645, 'reg_lambda': 0.2402792192000914, 'colsample_bytree': 0.9, 'subsample': 0.7, 'learning_rate': 0.017, 'max_depth': 20, 'num_leaves': 280, 'min_child_samples': 113, 'min_data_per_groups': 81}. Best is trial 15 with value: 0.8946065361300654.\u001b[0m\n",
      "\u001b[32m[I 2021-03-06 14:39:02,696]\u001b[0m Trial 19 finished with value: 0.8939788548971611 and parameters: {'reg_alpha': 8.551718205036764, 'reg_lambda': 1.9568386356602907, 'colsample_bytree': 0.5, 'subsample': 0.8, 'learning_rate': 0.02, 'max_depth': 20, 'num_leaves': 290, 'min_child_samples': 296, 'min_data_per_groups': 75}. Best is trial 15 with value: 0.8946065361300654.\u001b[0m\n",
      "\u001b[32m[I 2021-03-06 14:42:01,573]\u001b[0m Trial 20 finished with value: 0.893277570824861 and parameters: {'reg_alpha': 2.634637044183065, 'reg_lambda': 0.03332753784475013, 'colsample_bytree': 0.7, 'subsample': 0.4, 'learning_rate': 0.008, 'max_depth': 20, 'num_leaves': 476, 'min_child_samples': 259, 'min_data_per_groups': 95}. Best is trial 15 with value: 0.8946065361300654.\u001b[0m\n",
      "\u001b[32m[I 2021-03-06 14:44:07,647]\u001b[0m Trial 21 finished with value: 0.8944366116919962 and parameters: {'reg_alpha': 0.27703854527276317, 'reg_lambda': 5.661130213005596, 'colsample_bytree': 0.3, 'subsample': 0.5, 'learning_rate': 0.014, 'max_depth': 20, 'num_leaves': 533, 'min_child_samples': 223, 'min_data_per_groups': 1}. Best is trial 15 with value: 0.8946065361300654.\u001b[0m\n",
      "\u001b[32m[I 2021-03-06 14:46:07,275]\u001b[0m Trial 22 finished with value: 0.894171625190465 and parameters: {'reg_alpha': 0.22748386806083476, 'reg_lambda': 5.03282000021094, 'colsample_bytree': 0.3, 'subsample': 0.5, 'learning_rate': 0.014, 'max_depth': 20, 'num_leaves': 155, 'min_child_samples': 243, 'min_data_per_groups': 91}. Best is trial 15 with value: 0.8946065361300654.\u001b[0m\n",
      "\u001b[32m[I 2021-03-06 14:48:59,283]\u001b[0m Trial 23 finished with value: 0.8945790991118991 and parameters: {'reg_alpha': 0.720530963322294, 'reg_lambda': 1.5004656067015534, 'colsample_bytree': 0.3, 'subsample': 0.5, 'learning_rate': 0.008, 'max_depth': 20, 'num_leaves': 980, 'min_child_samples': 174, 'min_data_per_groups': 50}. Best is trial 15 with value: 0.8946065361300654.\u001b[0m\n",
      "\u001b[32m[I 2021-03-06 14:52:05,596]\u001b[0m Trial 24 finished with value: 0.8945814368206764 and parameters: {'reg_alpha': 0.7943404451943832, 'reg_lambda': 1.8994807493842705, 'colsample_bytree': 0.3, 'subsample': 0.5, 'learning_rate': 0.008, 'max_depth': 20, 'num_leaves': 961, 'min_child_samples': 185, 'min_data_per_groups': 50}. Best is trial 15 with value: 0.8946065361300654.\u001b[0m\n",
      "\u001b[32m[I 2021-03-06 14:55:31,448]\u001b[0m Trial 25 finished with value: 0.8926419125356158 and parameters: {'reg_alpha': 0.6756109263949958, 'reg_lambda': 0.300527719557725, 'colsample_bytree': 0.8, 'subsample': 0.5, 'learning_rate': 0.008, 'max_depth': 20, 'num_leaves': 975, 'min_child_samples': 178, 'min_data_per_groups': 50}. Best is trial 15 with value: 0.8946065361300654.\u001b[0m\n",
      "\u001b[32m[I 2021-03-06 14:58:51,579]\u001b[0m Trial 26 finished with value: 0.8946259104092231 and parameters: {'reg_alpha': 0.9965342398021882, 'reg_lambda': 0.8880738506298456, 'colsample_bytree': 0.3, 'subsample': 0.5, 'learning_rate': 0.008, 'max_depth': 100, 'num_leaves': 932, 'min_child_samples': 98, 'min_data_per_groups': 44}. Best is trial 26 with value: 0.8946259104092231.\u001b[0m\n",
      "\u001b[32m[I 2021-03-06 15:02:08,460]\u001b[0m Trial 27 finished with value: 0.8942519883923234 and parameters: {'reg_alpha': 0.19026573445420816, 'reg_lambda': 0.799114593166998, 'colsample_bytree': 0.3, 'subsample': 0.5, 'learning_rate': 0.008, 'max_depth': 100, 'num_leaves': 851, 'min_child_samples': 5, 'min_data_per_groups': 27}. Best is trial 26 with value: 0.8946259104092231.\u001b[0m\n",
      "\u001b[32m[I 2021-03-06 15:05:01,781]\u001b[0m Trial 28 finished with value: 0.8946511211060799 and parameters: {'reg_alpha': 1.9062219375518976, 'reg_lambda': 0.1795520737863962, 'colsample_bytree': 0.3, 'subsample': 0.7, 'learning_rate': 0.008, 'max_depth': 100, 'num_leaves': 753, 'min_child_samples': 95, 'min_data_per_groups': 42}. Best is trial 28 with value: 0.8946511211060799.\u001b[0m\n",
      "\u001b[32m[I 2021-03-06 15:09:44,306]\u001b[0m Trial 29 finished with value: 0.8940719434031823 and parameters: {'reg_alpha': 5.521214580674967, 'reg_lambda': 0.04740962291591734, 'colsample_bytree': 0.5, 'subsample': 0.7, 'learning_rate': 0.006, 'max_depth': 100, 'num_leaves': 744, 'min_child_samples': 101, 'min_data_per_groups': 22}. Best is trial 28 with value: 0.8946511211060799.\u001b[0m\n",
      "\u001b[32m[I 2021-03-06 15:12:57,669]\u001b[0m Trial 30 finished with value: 0.8946233584937773 and parameters: {'reg_alpha': 1.7181657242851769, 'reg_lambda': 0.23476690954452928, 'colsample_bytree': 0.3, 'subsample': 0.7, 'learning_rate': 0.008, 'max_depth': 100, 'num_leaves': 781, 'min_child_samples': 102, 'min_data_per_groups': 37}. Best is trial 28 with value: 0.8946511211060799.\u001b[0m\n",
      "\u001b[32m[I 2021-03-06 15:16:03,336]\u001b[0m Trial 31 finished with value: 0.8946824124162376 and parameters: {'reg_alpha': 1.7899338449403432, 'reg_lambda': 0.17851755268803687, 'colsample_bytree': 0.3, 'subsample': 0.7, 'learning_rate': 0.008, 'max_depth': 100, 'num_leaves': 775, 'min_child_samples': 84, 'min_data_per_groups': 44}. Best is trial 31 with value: 0.8946824124162376.\u001b[0m\n",
      "\u001b[32m[I 2021-03-06 15:19:35,508]\u001b[0m Trial 32 finished with value: 0.8925766409075864 and parameters: {'reg_alpha': 1.442482620822777, 'reg_lambda': 0.17304941084021006, 'colsample_bytree': 0.8, 'subsample': 0.7, 'learning_rate': 0.008, 'max_depth': 100, 'num_leaves': 766, 'min_child_samples': 85, 'min_data_per_groups': 44}. Best is trial 31 with value: 0.8946824124162376.\u001b[0m\n",
      "\u001b[32m[I 2021-03-06 15:22:52,709]\u001b[0m Trial 33 finished with value: 0.8947242341262265 and parameters: {'reg_alpha': 0.031080768130278446, 'reg_lambda': 0.0564509193775826, 'colsample_bytree': 0.3, 'subsample': 0.7, 'learning_rate': 0.008, 'max_depth': 100, 'num_leaves': 915, 'min_child_samples': 82, 'min_data_per_groups': 41}. Best is trial 33 with value: 0.8947242341262265.\u001b[0m\n",
      "\u001b[32m[I 2021-03-06 15:25:50,445]\u001b[0m Trial 34 finished with value: 0.8941112103416364 and parameters: {'reg_alpha': 0.03635798941828157, 'reg_lambda': 0.0630256124345215, 'colsample_bytree': 0.3, 'subsample': 0.7, 'learning_rate': 0.008, 'max_depth': 100, 'num_leaves': 911, 'min_child_samples': 21, 'min_data_per_groups': 44}. Best is trial 33 with value: 0.8947242341262265.\u001b[0m\n",
      "\u001b[32m[I 2021-03-06 15:29:16,865]\u001b[0m Trial 35 finished with value: 0.8946616800668004 and parameters: {'reg_alpha': 0.04310581440682273, 'reg_lambda': 0.012968682972500697, 'colsample_bytree': 0.3, 'subsample': 0.7, 'learning_rate': 0.006, 'max_depth': 100, 'num_leaves': 692, 'min_child_samples': 80, 'min_data_per_groups': 56}. Best is trial 33 with value: 0.8947242341262265.\u001b[0m\n",
      "\u001b[32m[I 2021-03-06 15:33:10,384]\u001b[0m Trial 36 finished with value: 0.8932445201639314 and parameters: {'reg_alpha': 0.022274255530037725, 'reg_lambda': 0.013517807179866753, 'colsample_bytree': 0.6, 'subsample': 0.7, 'learning_rate': 0.006, 'max_depth': 100, 'num_leaves': 679, 'min_child_samples': 68, 'min_data_per_groups': 57}. Best is trial 33 with value: 0.8947242341262265.\u001b[0m\n",
      "\u001b[32m[I 2021-03-06 15:36:56,677]\u001b[0m Trial 37 finished with value: 0.8944141285600538 and parameters: {'reg_alpha': 0.007459551941511973, 'reg_lambda': 0.01636315860197946, 'colsample_bytree': 0.4, 'subsample': 0.7, 'learning_rate': 0.006, 'max_depth': 100, 'num_leaves': 810, 'min_child_samples': 135, 'min_data_per_groups': 56}. Best is trial 33 with value: 0.8947242341262265.\u001b[0m\n",
      "\u001b[32m[I 2021-03-06 15:40:54,634]\u001b[0m Trial 38 finished with value: 0.8914434247964249 and parameters: {'reg_alpha': 0.036200374613785107, 'reg_lambda': 0.0045336656633009585, 'colsample_bytree': 0.9, 'subsample': 0.7, 'learning_rate': 0.006, 'max_depth': 100, 'num_leaves': 646, 'min_child_samples': 46, 'min_data_per_groups': 20}. Best is trial 33 with value: 0.8947242341262265.\u001b[0m\n",
      "\u001b[32m[I 2021-03-06 15:43:53,519]\u001b[0m Trial 39 finished with value: 0.8926978490370248 and parameters: {'reg_alpha': 0.0010913493075318948, 'reg_lambda': 0.07200940339324688, 'colsample_bytree': 0.7, 'subsample': 0.7, 'learning_rate': 0.01, 'max_depth': 100, 'num_leaves': 733, 'min_child_samples': 79, 'min_data_per_groups': 55}. Best is trial 33 with value: 0.8947242341262265.\u001b[0m\n",
      "\u001b[32m[I 2021-03-06 15:45:44,034]\u001b[0m Trial 40 finished with value: 0.8942624845190879 and parameters: {'reg_alpha': 0.1367333507557541, 'reg_lambda': 0.12998247930732187, 'colsample_bytree': 0.3, 'subsample': 0.6, 'learning_rate': 0.017, 'max_depth': 100, 'num_leaves': 685, 'min_child_samples': 118, 'min_data_per_groups': 32}. Best is trial 33 with value: 0.8947242341262265.\u001b[0m\n",
      "\u001b[32m[I 2021-03-06 15:48:57,134]\u001b[0m Trial 41 finished with value: 0.8946917832439691 and parameters: {'reg_alpha': 0.05973688469499008, 'reg_lambda': 0.5294241697119217, 'colsample_bytree': 0.3, 'subsample': 0.7, 'learning_rate': 0.008, 'max_depth': 100, 'num_leaves': 921, 'min_child_samples': 90, 'min_data_per_groups': 44}. Best is trial 33 with value: 0.8947242341262265.\u001b[0m\n",
      "\u001b[32m[I 2021-03-06 15:53:05,645]\u001b[0m Trial 42 finished with value: 0.8943598285975931 and parameters: {'reg_alpha': 0.05484680957144948, 'reg_lambda': 0.45980190173963287, 'colsample_bytree': 0.3, 'subsample': 0.7, 'learning_rate': 0.006, 'max_depth': 100, 'num_leaves': 842, 'min_child_samples': 34, 'min_data_per_groups': 41}. Best is trial 33 with value: 0.8947242341262265.\u001b[0m\n",
      "\u001b[32m[I 2021-03-06 15:54:53,973]\u001b[0m Trial 43 finished with value: 0.8941572062255752 and parameters: {'reg_alpha': 0.01475419492878259, 'reg_lambda': 0.022180811181905073, 'colsample_bytree': 0.3, 'subsample': 0.7, 'learning_rate': 0.02, 'max_depth': 100, 'num_leaves': 892, 'min_child_samples': 60, 'min_data_per_groups': 63}. Best is trial 33 with value: 0.8947242341262265.\u001b[0m\n",
      "\u001b[32m[I 2021-03-06 15:57:38,200]\u001b[0m Trial 44 finished with value: 0.8946778969396624 and parameters: {'reg_alpha': 0.022219954128566033, 'reg_lambda': 0.007105778687126122, 'colsample_bytree': 0.3, 'subsample': 0.7, 'learning_rate': 0.008, 'max_depth': 100, 'num_leaves': 636, 'min_child_samples': 156, 'min_data_per_groups': 41}. Best is trial 33 with value: 0.8947242341262265.\u001b[0m\n",
      "\u001b[32m[I 2021-03-06 16:01:10,473]\u001b[0m Trial 45 finished with value: 0.8936244199749313 and parameters: {'reg_alpha': 0.005305492901462525, 'reg_lambda': 0.006578377197598955, 'colsample_bytree': 0.6, 'subsample': 0.4, 'learning_rate': 0.008, 'max_depth': 100, 'num_leaves': 639, 'min_child_samples': 153, 'min_data_per_groups': 37}. Best is trial 33 with value: 0.8947242341262265.\u001b[0m\n",
      "\u001b[32m[I 2021-03-06 16:05:10,833]\u001b[0m Trial 46 finished with value: 0.8940372233582816 and parameters: {'reg_alpha': 0.01717818947041276, 'reg_lambda': 0.0029639388919355416, 'colsample_bytree': 0.3, 'subsample': 0.7, 'learning_rate': 0.006, 'max_depth': 10, 'num_leaves': 577, 'min_child_samples': 144, 'min_data_per_groups': 53}. Best is trial 33 with value: 0.8947242341262265.\u001b[0m\n",
      "\u001b[32m[I 2021-03-06 16:08:13,635]\u001b[0m Trial 47 finished with value: 0.8906379477444002 and parameters: {'reg_alpha': 0.025829493629003792, 'reg_lambda': 0.007251017433288373, 'colsample_bytree': 1.0, 'subsample': 0.8, 'learning_rate': 0.01, 'max_depth': 100, 'num_leaves': 799, 'min_child_samples': 74, 'min_data_per_groups': 28}. Best is trial 33 with value: 0.8947242341262265.\u001b[0m\n",
      "\u001b[32m[I 2021-03-06 16:11:17,359]\u001b[0m Trial 48 finished with value: 0.8937717713142572 and parameters: {'reg_alpha': 0.05968492587355204, 'reg_lambda': 0.02644789523240657, 'colsample_bytree': 0.5, 'subsample': 0.7, 'learning_rate': 0.008, 'max_depth': 100, 'num_leaves': 708, 'min_child_samples': 56, 'min_data_per_groups': 67}. Best is trial 33 with value: 0.8947242341262265.\u001b[0m\n",
      "\u001b[32m[I 2021-03-06 16:14:10,262]\u001b[0m Trial 49 finished with value: 0.8945372759738655 and parameters: {'reg_alpha': 0.0027482846003806854, 'reg_lambda': 0.015391139193594586, 'colsample_bytree': 0.3, 'subsample': 1.0, 'learning_rate': 0.008, 'max_depth': 100, 'num_leaves': 859, 'min_child_samples': 121, 'min_data_per_groups': 47}. Best is trial 33 with value: 0.8947242341262265.\u001b[0m\n",
      "\u001b[32m[I 2021-03-06 16:15:50,864]\u001b[0m Trial 50 finished with value: 0.8920692595678452 and parameters: {'reg_alpha': 0.09849173681098444, 'reg_lambda': 0.08191299198980433, 'colsample_bytree': 0.8, 'subsample': 0.6, 'learning_rate': 0.02, 'max_depth': 100, 'num_leaves': 542, 'min_child_samples': 87, 'min_data_per_groups': 62}. Best is trial 33 with value: 0.8947242341262265.\u001b[0m\n",
      "\u001b[32m[I 2021-03-06 16:18:51,433]\u001b[0m Trial 51 finished with value: 0.8946917318343686 and parameters: {'reg_alpha': 0.009126493584916996, 'reg_lambda': 0.13942727375400263, 'colsample_bytree': 0.3, 'subsample': 0.7, 'learning_rate': 0.008, 'max_depth': 100, 'num_leaves': 634, 'min_child_samples': 162, 'min_data_per_groups': 41}. Best is trial 33 with value: 0.8947242341262265.\u001b[0m\n",
      "\u001b[32m[I 2021-03-06 16:21:49,116]\u001b[0m Trial 52 finished with value: 0.8946775127957034 and parameters: {'reg_alpha': 0.008889662834035984, 'reg_lambda': 0.04368546789871006, 'colsample_bytree': 0.3, 'subsample': 0.7, 'learning_rate': 0.008, 'max_depth': 100, 'num_leaves': 642, 'min_child_samples': 155, 'min_data_per_groups': 40}. Best is trial 33 with value: 0.8947242341262265.\u001b[0m\n",
      "\u001b[32m[I 2021-03-06 16:24:14,509]\u001b[0m Trial 53 finished with value: 0.8947834137165993 and parameters: {'reg_alpha': 0.010545199437765359, 'reg_lambda': 0.04489508519927512, 'colsample_bytree': 0.3, 'subsample': 0.7, 'learning_rate': 0.008, 'max_depth': 100, 'num_leaves': 473, 'min_child_samples': 166, 'min_data_per_groups': 32}. Best is trial 53 with value: 0.8947834137165993.\u001b[0m\n",
      "\u001b[32m[I 2021-03-06 16:27:01,910]\u001b[0m Trial 54 finished with value: 0.8946279996382649 and parameters: {'reg_alpha': 0.002012215839108353, 'reg_lambda': 0.12477056735115638, 'colsample_bytree': 0.3, 'subsample': 0.7, 'learning_rate': 0.008, 'max_depth': 100, 'num_leaves': 409, 'min_child_samples': 163, 'min_data_per_groups': 33}. Best is trial 53 with value: 0.8947834137165993.\u001b[0m\n",
      "\u001b[32m[I 2021-03-06 16:29:58,273]\u001b[0m Trial 55 finished with value: 0.8940638735239518 and parameters: {'reg_alpha': 0.009760975267535004, 'reg_lambda': 0.3563979281932526, 'colsample_bytree': 0.3, 'subsample': 0.7, 'learning_rate': 0.008, 'max_depth': 10, 'num_leaves': 446, 'min_child_samples': 195, 'min_data_per_groups': 24}. Best is trial 53 with value: 0.8947834137165993.\u001b[0m\n",
      "\u001b[32m[I 2021-03-06 16:33:03,613]\u001b[0m Trial 56 finished with value: 0.8922620141526603 and parameters: {'reg_alpha': 0.004427164707781407, 'reg_lambda': 0.6230434063158258, 'colsample_bytree': 0.9, 'subsample': 0.7, 'learning_rate': 0.008, 'max_depth': 100, 'num_leaves': 490, 'min_child_samples': 206, 'min_data_per_groups': 16}. Best is trial 53 with value: 0.8947834137165993.\u001b[0m\n",
      "\u001b[32m[I 2021-03-06 16:35:59,391]\u001b[0m Trial 57 finished with value: 0.8944944874777787 and parameters: {'reg_alpha': 0.023555411494415555, 'reg_lambda': 0.04935476394960306, 'colsample_bytree': 0.4, 'subsample': 0.7, 'learning_rate': 0.008, 'max_depth': 100, 'num_leaves': 571, 'min_child_samples': 132, 'min_data_per_groups': 34}. Best is trial 53 with value: 0.8947834137165993.\u001b[0m\n",
      "\u001b[32m[I 2021-03-06 16:37:43,055]\u001b[0m Trial 58 finished with value: 0.8945824321676632 and parameters: {'reg_alpha': 0.010553136007272656, 'reg_lambda': 0.17011419718599016, 'colsample_bytree': 0.3, 'subsample': 0.4, 'learning_rate': 0.017, 'max_depth': 100, 'num_leaves': 508, 'min_child_samples': 168, 'min_data_per_groups': 29}. Best is trial 53 with value: 0.8947834137165993.\u001b[0m\n",
      "\u001b[32m[I 2021-03-06 16:40:47,512]\u001b[0m Trial 59 finished with value: 0.8931549089461647 and parameters: {'reg_alpha': 0.006177717439902508, 'reg_lambda': 0.10277594661247438, 'colsample_bytree': 0.7, 'subsample': 0.8, 'learning_rate': 0.008, 'max_depth': 100, 'num_leaves': 615, 'min_child_samples': 113, 'min_data_per_groups': 46}. Best is trial 53 with value: 0.8947834137165993.\u001b[0m\n",
      "\u001b[32m[I 2021-03-06 16:43:24,473]\u001b[0m Trial 60 finished with value: 0.891484935192722 and parameters: {'reg_alpha': 0.01629398603646804, 'reg_lambda': 0.24068363082920569, 'colsample_bytree': 1.0, 'subsample': 1.0, 'learning_rate': 0.008, 'max_depth': 100, 'num_leaves': 352, 'min_child_samples': 139, 'min_data_per_groups': 41}. Best is trial 53 with value: 0.8947834137165993.\u001b[0m\n",
      "\u001b[32m[I 2021-03-06 16:46:10,134]\u001b[0m Trial 61 finished with value: 0.894770447072923 and parameters: {'reg_alpha': 0.007614890211057247, 'reg_lambda': 0.036425726879029965, 'colsample_bytree': 0.3, 'subsample': 0.7, 'learning_rate': 0.008, 'max_depth': 100, 'num_leaves': 626, 'min_child_samples': 158, 'min_data_per_groups': 40}. Best is trial 53 with value: 0.8947834137165993.\u001b[0m\n",
      "\u001b[32m[I 2021-03-06 16:48:51,995]\u001b[0m Trial 62 finished with value: 0.8948023952835313 and parameters: {'reg_alpha': 0.003403983255673859, 'reg_lambda': 0.03710606106161872, 'colsample_bytree': 0.3, 'subsample': 0.7, 'learning_rate': 0.008, 'max_depth': 100, 'num_leaves': 533, 'min_child_samples': 186, 'min_data_per_groups': 39}. Best is trial 62 with value: 0.8948023952835313.\u001b[0m\n",
      "\u001b[32m[I 2021-03-06 16:51:12,271]\u001b[0m Trial 63 finished with value: 0.8946369634733261 and parameters: {'reg_alpha': 0.0029789196407060277, 'reg_lambda': 0.03494417933675505, 'colsample_bytree': 0.3, 'subsample': 0.7, 'learning_rate': 0.008, 'max_depth': 100, 'num_leaves': 445, 'min_child_samples': 179, 'min_data_per_groups': 36}. Best is trial 62 with value: 0.8948023952835313.\u001b[0m\n",
      "\u001b[32m[I 2021-03-06 16:53:44,403]\u001b[0m Trial 64 finished with value: 0.8947492020555254 and parameters: {'reg_alpha': 0.0016502835271371566, 'reg_lambda': 0.021741581410747297, 'colsample_bytree': 0.3, 'subsample': 0.7, 'learning_rate': 0.008, 'max_depth': 100, 'num_leaves': 551, 'min_child_samples': 188, 'min_data_per_groups': 48}. Best is trial 62 with value: 0.8948023952835313.\u001b[0m\n",
      "\u001b[32m[I 2021-03-06 16:56:20,391]\u001b[0m Trial 65 finished with value: 0.8947124270546502 and parameters: {'reg_alpha': 0.001725383970148858, 'reg_lambda': 0.026631177427986496, 'colsample_bytree': 0.3, 'subsample': 0.7, 'learning_rate': 0.008, 'max_depth': 100, 'num_leaves': 543, 'min_child_samples': 187, 'min_data_per_groups': 49}. Best is trial 62 with value: 0.8948023952835313.\u001b[0m\n",
      "\u001b[32m[I 2021-03-06 16:59:02,109]\u001b[0m Trial 66 finished with value: 0.8939552036248521 and parameters: {'reg_alpha': 0.0014983557357573997, 'reg_lambda': 0.02065815915422454, 'colsample_bytree': 0.3, 'subsample': 0.7, 'learning_rate': 0.008, 'max_depth': 10, 'num_leaves': 534, 'min_child_samples': 188, 'min_data_per_groups': 52}. Best is trial 62 with value: 0.8948023952835313.\u001b[0m\n",
      "\u001b[32m[I 2021-03-06 17:01:35,264]\u001b[0m Trial 67 finished with value: 0.8947377805559525 and parameters: {'reg_alpha': 0.0017061821797239674, 'reg_lambda': 0.03498625232102977, 'colsample_bytree': 0.3, 'subsample': 0.7, 'learning_rate': 0.008, 'max_depth': 100, 'num_leaves': 464, 'min_child_samples': 216, 'min_data_per_groups': 49}. Best is trial 62 with value: 0.8948023952835313.\u001b[0m\n",
      "\u001b[32m[I 2021-03-06 17:04:07,043]\u001b[0m Trial 68 finished with value: 0.8946269700182108 and parameters: {'reg_alpha': 0.0015965029543944477, 'reg_lambda': 0.010468830741345067, 'colsample_bytree': 0.3, 'subsample': 0.7, 'learning_rate': 0.008, 'max_depth': 100, 'num_leaves': 348, 'min_child_samples': 204, 'min_data_per_groups': 49}. Best is trial 62 with value: 0.8948023952835313.\u001b[0m\n",
      "\u001b[32m[I 2021-03-06 17:06:40,284]\u001b[0m Trial 69 finished with value: 0.8947035189133228 and parameters: {'reg_alpha': 0.0010172805407809987, 'reg_lambda': 0.03616174851762817, 'colsample_bytree': 0.3, 'subsample': 0.6, 'learning_rate': 0.008, 'max_depth': 100, 'num_leaves': 465, 'min_child_samples': 226, 'min_data_per_groups': 37}. Best is trial 62 with value: 0.8948023952835313.\u001b[0m\n",
      "\u001b[32m[I 2021-03-06 17:09:25,305]\u001b[0m Trial 70 finished with value: 0.8937068481290756 and parameters: {'reg_alpha': 0.002120567297077882, 'reg_lambda': 0.0586743807654574, 'colsample_bytree': 0.6, 'subsample': 0.7, 'learning_rate': 0.008, 'max_depth': 100, 'num_leaves': 386, 'min_child_samples': 220, 'min_data_per_groups': 53}. Best is trial 62 with value: 0.8948023952835313.\u001b[0m\n",
      "\u001b[32m[I 2021-03-06 17:12:01,804]\u001b[0m Trial 71 finished with value: 0.8948146493330229 and parameters: {'reg_alpha': 0.0010519365385614665, 'reg_lambda': 0.03399759074192376, 'colsample_bytree': 0.3, 'subsample': 0.6, 'learning_rate': 0.008, 'max_depth': 100, 'num_leaves': 473, 'min_child_samples': 219, 'min_data_per_groups': 38}. Best is trial 71 with value: 0.8948146493330229.\u001b[0m\n",
      "\u001b[32m[I 2021-03-06 17:14:30,202]\u001b[0m Trial 72 finished with value: 0.8947233944360855 and parameters: {'reg_alpha': 0.0033699490697528325, 'reg_lambda': 0.024577649464860084, 'colsample_bytree': 0.3, 'subsample': 0.6, 'learning_rate': 0.008, 'max_depth': 100, 'num_leaves': 504, 'min_child_samples': 216, 'min_data_per_groups': 47}. Best is trial 71 with value: 0.8948146493330229.\u001b[0m\n",
      "\u001b[32m[I 2021-03-06 17:17:25,674]\u001b[0m Trial 73 finished with value: 0.8946866280034769 and parameters: {'reg_alpha': 0.0037622551747610923, 'reg_lambda': 0.020269299067794355, 'colsample_bytree': 0.3, 'subsample': 0.6, 'learning_rate': 0.008, 'max_depth': 100, 'num_leaves': 508, 'min_child_samples': 217, 'min_data_per_groups': 59}. Best is trial 71 with value: 0.8948146493330229.\u001b[0m\n",
      "\u001b[32m[I 2021-03-06 17:19:28,502]\u001b[0m Trial 74 finished with value: 0.8944465922947111 and parameters: {'reg_alpha': 0.002587480900691219, 'reg_lambda': 0.08104302281767894, 'colsample_bytree': 0.3, 'subsample': 0.6, 'learning_rate': 0.01, 'max_depth': 100, 'num_leaves': 417, 'min_child_samples': 239, 'min_data_per_groups': 31}. Best is trial 71 with value: 0.8948146493330229.\u001b[0m\n",
      "\u001b[32m[I 2021-03-06 17:22:25,627]\u001b[0m Trial 75 finished with value: 0.8941332950491752 and parameters: {'reg_alpha': 0.0049027019022407055, 'reg_lambda': 0.042191973701975874, 'colsample_bytree': 0.5, 'subsample': 0.6, 'learning_rate': 0.008, 'max_depth': 100, 'num_leaves': 475, 'min_child_samples': 264, 'min_data_per_groups': 26}. Best is trial 71 with value: 0.8948146493330229.\u001b[0m\n",
      "\u001b[32m[I 2021-03-06 17:24:56,391]\u001b[0m Trial 76 finished with value: 0.8946927814470453 and parameters: {'reg_alpha': 0.00127659575589404, 'reg_lambda': 0.009879930147839775, 'colsample_bytree': 0.3, 'subsample': 0.6, 'learning_rate': 0.008, 'max_depth': 100, 'num_leaves': 562, 'min_child_samples': 197, 'min_data_per_groups': 34}. Best is trial 71 with value: 0.8948146493330229.\u001b[0m\n",
      "\u001b[32m[I 2021-03-06 17:27:31,920]\u001b[0m Trial 77 finished with value: 0.8947365552938079 and parameters: {'reg_alpha': 0.003501759462255606, 'reg_lambda': 0.030869411351588577, 'colsample_bytree': 0.3, 'subsample': 0.6, 'learning_rate': 0.008, 'max_depth': 100, 'num_leaves': 382, 'min_child_samples': 211, 'min_data_per_groups': 47}. Best is trial 71 with value: 0.8948146493330229.\u001b[0m\n",
      "\u001b[32m[I 2021-03-06 17:29:56,537]\u001b[0m Trial 78 finished with value: 0.8947004286251162 and parameters: {'reg_alpha': 0.006949429515441915, 'reg_lambda': 0.057646167275235555, 'colsample_bytree': 0.3, 'subsample': 0.6, 'learning_rate': 0.008, 'max_depth': 100, 'num_leaves': 387, 'min_child_samples': 233, 'min_data_per_groups': 39}. Best is trial 71 with value: 0.8948146493330229.\u001b[0m\n",
      "\u001b[32m[I 2021-03-06 17:31:29,619]\u001b[0m Trial 79 finished with value: 0.8925451668077382 and parameters: {'reg_alpha': 0.004254430583789397, 'reg_lambda': 0.0185019292259899, 'colsample_bytree': 0.8, 'subsample': 0.6, 'learning_rate': 0.017, 'max_depth': 100, 'num_leaves': 303, 'min_child_samples': 210, 'min_data_per_groups': 46}. Best is trial 71 with value: 0.8948146493330229.\u001b[0m\n",
      "\u001b[32m[I 2021-03-06 17:33:18,032]\u001b[0m Trial 80 finished with value: 0.8945397536309998 and parameters: {'reg_alpha': 0.0024085943804727844, 'reg_lambda': 0.02944879206028411, 'colsample_bytree': 0.3, 'subsample': 0.4, 'learning_rate': 0.014, 'max_depth': 100, 'num_leaves': 449, 'min_child_samples': 247, 'min_data_per_groups': 38}. Best is trial 71 with value: 0.8948146493330229.\u001b[0m\n",
      "\u001b[32m[I 2021-03-06 17:35:44,258]\u001b[0m Trial 81 finished with value: 0.8948113048529031 and parameters: {'reg_alpha': 0.0032985431068642958, 'reg_lambda': 0.024339807760922857, 'colsample_bytree': 0.3, 'subsample': 0.6, 'learning_rate': 0.008, 'max_depth': 100, 'num_leaves': 500, 'min_child_samples': 173, 'min_data_per_groups': 47}. Best is trial 71 with value: 0.8948146493330229.\u001b[0m\n",
      "\u001b[32m[I 2021-03-06 17:38:20,349]\u001b[0m Trial 82 finished with value: 0.8948437643034273 and parameters: {'reg_alpha': 0.0010843653014389278, 'reg_lambda': 0.03406716950608706, 'colsample_bytree': 0.3, 'subsample': 0.6, 'learning_rate': 0.008, 'max_depth': 100, 'num_leaves': 594, 'min_child_samples': 179, 'min_data_per_groups': 43}. Best is trial 82 with value: 0.8948437643034273.\u001b[0m\n",
      "\u001b[32m[I 2021-03-06 17:41:13,074]\u001b[0m Trial 83 finished with value: 0.8947437897670307 and parameters: {'reg_alpha': 0.0018768575289715467, 'reg_lambda': 0.03986162165911983, 'colsample_bytree': 0.3, 'subsample': 0.6, 'learning_rate': 0.008, 'max_depth': 100, 'num_leaves': 600, 'min_child_samples': 171, 'min_data_per_groups': 51}. Best is trial 82 with value: 0.8948437643034273.\u001b[0m\n",
      "\u001b[32m[I 2021-03-06 17:43:58,587]\u001b[0m Trial 84 finished with value: 0.8947649819467833 and parameters: {'reg_alpha': 0.0012387560568120975, 'reg_lambda': 0.03427934518977631, 'colsample_bytree': 0.3, 'subsample': 0.6, 'learning_rate': 0.008, 'max_depth': 100, 'num_leaves': 616, 'min_child_samples': 177, 'min_data_per_groups': 52}. Best is trial 82 with value: 0.8948437643034273.\u001b[0m\n",
      "\u001b[32m[I 2021-03-06 17:47:01,748]\u001b[0m Trial 85 finished with value: 0.8944885011154121 and parameters: {'reg_alpha': 0.0012633913210218168, 'reg_lambda': 0.04225686478121492, 'colsample_bytree': 0.4, 'subsample': 0.6, 'learning_rate': 0.008, 'max_depth': 100, 'num_leaves': 608, 'min_child_samples': 172, 'min_data_per_groups': 52}. Best is trial 82 with value: 0.8948437643034273.\u001b[0m\n",
      "\u001b[32m[I 2021-03-06 17:49:17,246]\u001b[0m Trial 86 finished with value: 0.891721162306919 and parameters: {'reg_alpha': 0.0010158008362853286, 'reg_lambda': 0.07309511217317413, 'colsample_bytree': 0.9, 'subsample': 0.6, 'learning_rate': 0.02, 'max_depth': 100, 'num_leaves': 658, 'min_child_samples': 181, 'min_data_per_groups': 60}. Best is trial 82 with value: 0.8948437643034273.\u001b[0m\n",
      "\u001b[32m[I 2021-03-06 17:52:02,407]\u001b[0m Trial 87 finished with value: 0.8947355370981094 and parameters: {'reg_alpha': 0.001987008532967835, 'reg_lambda': 0.01185816448244177, 'colsample_bytree': 0.3, 'subsample': 0.6, 'learning_rate': 0.008, 'max_depth': 100, 'num_leaves': 597, 'min_child_samples': 191, 'min_data_per_groups': 44}. Best is trial 82 with value: 0.8948437643034273.\u001b[0m\n",
      "\u001b[32m[I 2021-03-06 17:54:39,139]\u001b[0m Trial 88 finished with value: 0.8927021560191093 and parameters: {'reg_alpha': 0.0012548639529723822, 'reg_lambda': 0.014777267551845996, 'colsample_bytree': 0.7, 'subsample': 0.6, 'learning_rate': 0.008, 'max_depth': 10, 'num_leaves': 552, 'min_child_samples': 147, 'min_data_per_groups': 35}. Best is trial 82 with value: 0.8948437643034273.\u001b[0m\n",
      "\u001b[32m[I 2021-03-06 17:57:21,918]\u001b[0m Trial 89 finished with value: 0.8947538660487245 and parameters: {'reg_alpha': 0.002227551979401595, 'reg_lambda': 0.09444920693896697, 'colsample_bytree': 0.3, 'subsample': 0.6, 'learning_rate': 0.008, 'max_depth': 100, 'num_leaves': 584, 'min_child_samples': 173, 'min_data_per_groups': 30}. Best is trial 82 with value: 0.8948437643034273.\u001b[0m\n",
      "\u001b[32m[I 2021-03-06 18:00:21,158]\u001b[0m Trial 90 finished with value: 0.891275511044952 and parameters: {'reg_alpha': 0.0023963352657340817, 'reg_lambda': 0.08285098769020545, 'colsample_bytree': 1.0, 'subsample': 0.6, 'learning_rate': 0.008, 'max_depth': 100, 'num_leaves': 526, 'min_child_samples': 161, 'min_data_per_groups': 20}. Best is trial 82 with value: 0.8948437643034273.\u001b[0m\n",
      "\u001b[32m[I 2021-03-06 18:03:01,540]\u001b[0m Trial 91 finished with value: 0.8948733219676132 and parameters: {'reg_alpha': 0.0031293275223408185, 'reg_lambda': 0.04787145507141445, 'colsample_bytree': 0.3, 'subsample': 0.6, 'learning_rate': 0.008, 'max_depth': 100, 'num_leaves': 584, 'min_child_samples': 173, 'min_data_per_groups': 30}. Best is trial 91 with value: 0.8948733219676132.\u001b[0m\n",
      "\u001b[32m[I 2021-03-06 18:05:43,629]\u001b[0m Trial 92 finished with value: 0.894813806786793 and parameters: {'reg_alpha': 0.005685821564538961, 'reg_lambda': 0.018270586948327578, 'colsample_bytree': 0.3, 'subsample': 0.6, 'learning_rate': 0.008, 'max_depth': 100, 'num_leaves': 579, 'min_child_samples': 179, 'min_data_per_groups': 29}. Best is trial 91 with value: 0.8948733219676132.\u001b[0m\n",
      "\u001b[32m[I 2021-03-06 18:08:24,075]\u001b[0m Trial 93 finished with value: 0.8947806633029736 and parameters: {'reg_alpha': 0.005325618582075457, 'reg_lambda': 0.05331597312736173, 'colsample_bytree': 0.3, 'subsample': 0.6, 'learning_rate': 0.008, 'max_depth': 100, 'num_leaves': 585, 'min_child_samples': 178, 'min_data_per_groups': 30}. Best is trial 91 with value: 0.8948733219676132.\u001b[0m\n",
      "\u001b[32m[I 2021-03-06 18:11:11,741]\u001b[0m Trial 94 finished with value: 0.894743628398007 and parameters: {'reg_alpha': 0.006032682457230652, 'reg_lambda': 0.0507734391490789, 'colsample_bytree': 0.3, 'subsample': 0.6, 'learning_rate': 0.008, 'max_depth': 100, 'num_leaves': 618, 'min_child_samples': 181, 'min_data_per_groups': 23}. Best is trial 91 with value: 0.8948733219676132.\u001b[0m\n",
      "\u001b[32m[I 2021-03-06 18:13:56,270]\u001b[0m Trial 95 finished with value: 0.8947262605213121 and parameters: {'reg_alpha': 0.005216184587759389, 'reg_lambda': 0.01791121898565761, 'colsample_bytree': 0.3, 'subsample': 0.6, 'learning_rate': 0.008, 'max_depth': 100, 'num_leaves': 521, 'min_child_samples': 198, 'min_data_per_groups': 25}. Best is trial 91 with value: 0.8948733219676132.\u001b[0m\n",
      "\u001b[32m[I 2021-03-06 18:16:28,381]\u001b[0m Trial 96 finished with value: 0.8946629324617899 and parameters: {'reg_alpha': 0.013770746751789954, 'reg_lambda': 0.06745909101079903, 'colsample_bytree': 0.3, 'subsample': 0.6, 'learning_rate': 0.01, 'max_depth': 100, 'num_leaves': 705, 'min_child_samples': 166, 'min_data_per_groups': 31}. Best is trial 91 with value: 0.8948733219676132.\u001b[0m\n",
      "\u001b[32m[I 2021-03-06 18:18:57,384]\u001b[0m Trial 97 finished with value: 0.8946748751975898 and parameters: {'reg_alpha': 0.011317085120937076, 'reg_lambda': 0.030088132138502217, 'colsample_bytree': 0.3, 'subsample': 0.6, 'learning_rate': 0.008, 'max_depth': 100, 'num_leaves': 491, 'min_child_samples': 159, 'min_data_per_groups': 28}. Best is trial 91 with value: 0.8948733219676132.\u001b[0m\n",
      "\u001b[32m[I 2021-03-06 18:21:46,989]\u001b[0m Trial 98 finished with value: 0.8946601135020302 and parameters: {'reg_alpha': 0.007628910910644993, 'reg_lambda': 0.024971970993599744, 'colsample_bytree': 0.3, 'subsample': 0.6, 'learning_rate': 0.008, 'max_depth': 100, 'num_leaves': 662, 'min_child_samples': 151, 'min_data_per_groups': 32}. Best is trial 91 with value: 0.8948733219676132.\u001b[0m\n"
     ]
    },
    {
     "name": "stdout",
     "output_type": "stream",
     "text": [
      "Number of finished trials: 99\n",
      "Best trial: {'reg_alpha': 0.0031293275223408185, 'reg_lambda': 0.04787145507141445, 'colsample_bytree': 0.3, 'subsample': 0.6, 'learning_rate': 0.008, 'max_depth': 100, 'num_leaves': 584, 'min_child_samples': 173, 'min_data_per_groups': 30}\n",
      "CPU times: user 19h 22min 33s, sys: 14min 20s, total: 19h 36min 53s\n",
      "Wall time: 5h 1min 10s\n"
     ]
    }
   ],
   "source": [
    "%%time\n",
    "study = optuna.create_study(direction='maximize')\n",
    "study.optimize(objective, timeout=3600*5)\n",
    "print('Number of finished trials:', len(study.trials))\n",
    "print('Best trial:', study.best_trial.params)"
   ]
  },
  {
   "cell_type": "markdown",
   "metadata": {
    "papermill": {
     "duration": 0.032302,
     "end_time": "2021-03-06T18:21:47.111046",
     "exception": false,
     "start_time": "2021-03-06T18:21:47.078744",
     "status": "completed"
    },
    "tags": []
   },
   "source": [
    "## VISUALIZATION"
   ]
  },
  {
   "cell_type": "code",
   "execution_count": 8,
   "metadata": {
    "execution": {
     "iopub.execute_input": "2021-03-06T18:21:47.183899Z",
     "iopub.status.busy": "2021-03-06T18:21:47.183303Z",
     "iopub.status.idle": "2021-03-06T18:21:47.393846Z",
     "shell.execute_reply": "2021-03-06T18:21:47.393228Z"
    },
    "papermill": {
     "duration": 0.247972,
     "end_time": "2021-03-06T18:21:47.394003",
     "exception": false,
     "start_time": "2021-03-06T18:21:47.146031",
     "status": "completed"
    },
    "tags": []
   },
   "outputs": [
    {
     "data": {
      "text/html": [
       "        <script type=\"text/javascript\">\n",
       "        window.PlotlyConfig = {MathJaxConfig: 'local'};\n",
       "        if (window.MathJax) {MathJax.Hub.Config({SVG: {font: \"STIX-Web\"}});}\n",
       "        if (typeof require !== 'undefined') {\n",
       "        require.undef(\"plotly\");\n",
       "        requirejs.config({\n",
       "            paths: {\n",
       "                'plotly': ['https://cdn.plot.ly/plotly-latest.min']\n",
       "            }\n",
       "        });\n",
       "        require(['plotly'], function(Plotly) {\n",
       "            window._Plotly = Plotly;\n",
       "        });\n",
       "        }\n",
       "        </script>\n",
       "        "
      ]
     },
     "metadata": {},
     "output_type": "display_data"
    },
    {
     "data": {
      "text/html": [
       "<div>                            <div id=\"0561cf6b-9a2c-4de4-bde6-90c66d697816\" class=\"plotly-graph-div\" style=\"height:525px; width:100%;\"></div>            <script type=\"text/javascript\">                require([\"plotly\"], function(Plotly) {                    window.PLOTLYENV=window.PLOTLYENV || {};                                    if (document.getElementById(\"0561cf6b-9a2c-4de4-bde6-90c66d697816\")) {                    Plotly.newPlot(                        \"0561cf6b-9a2c-4de4-bde6-90c66d697816\",                        [{\"mode\": \"markers\", \"name\": \"Objective Value\", \"type\": \"scatter\", \"x\": [0, 1, 2, 3, 4, 5, 6, 7, 8, 9, 10, 11, 12, 13, 14, 15, 16, 17, 18, 19, 20, 21, 22, 23, 24, 25, 26, 27, 28, 29, 30, 31, 32, 33, 34, 35, 36, 37, 38, 39, 40, 41, 42, 43, 44, 45, 46, 47, 48, 49, 50, 51, 52, 53, 54, 55, 56, 57, 58, 59, 60, 61, 62, 63, 64, 65, 66, 67, 68, 69, 70, 71, 72, 73, 74, 75, 76, 77, 78, 79, 80, 81, 82, 83, 84, 85, 86, 87, 88, 89, 90, 91, 92, 93, 94, 95, 96, 97, 98], \"y\": [0.8941319241264956, 0.8923251322896474, 0.892960439279956, 0.8930369553300453, 0.8943317232546205, 0.8945280279579574, 0.8925529567902553, 0.8921838815562447, 0.8925401815045363, 0.8939624766552752, 0.8934957460290678, 0.8941260805685746, 0.892395106468076, 0.8944844254765296, 0.8823292109417035, 0.8946065361300654, 0.8924593713247625, 0.8940136420601511, 0.8924209455044941, 0.8939788548971611, 0.893277570824861, 0.8944366116919962, 0.894171625190465, 0.8945790991118991, 0.8945814368206764, 0.8926419125356158, 0.8946259104092231, 0.8942519883923234, 0.8946511211060799, 0.8940719434031823, 0.8946233584937773, 0.8946824124162376, 0.8925766409075864, 0.8947242341262265, 0.8941112103416364, 0.8946616800668004, 0.8932445201639314, 0.8944141285600538, 0.8914434247964249, 0.8926978490370248, 0.8942624845190879, 0.8946917832439691, 0.8943598285975931, 0.8941572062255752, 0.8946778969396624, 0.8936244199749313, 0.8940372233582816, 0.8906379477444002, 0.8937717713142572, 0.8945372759738655, 0.8920692595678452, 0.8946917318343686, 0.8946775127957034, 0.8947834137165993, 0.8946279996382649, 0.8940638735239518, 0.8922620141526603, 0.8944944874777787, 0.8945824321676632, 0.8931549089461647, 0.891484935192722, 0.894770447072923, 0.8948023952835313, 0.8946369634733261, 0.8947492020555254, 0.8947124270546502, 0.8939552036248521, 0.8947377805559525, 0.8946269700182108, 0.8947035189133228, 0.8937068481290756, 0.8948146493330229, 0.8947233944360855, 0.8946866280034769, 0.8944465922947111, 0.8941332950491752, 0.8946927814470453, 0.8947365552938079, 0.8947004286251162, 0.8925451668077382, 0.8945397536309998, 0.8948113048529031, 0.8948437643034273, 0.8947437897670307, 0.8947649819467833, 0.8944885011154121, 0.891721162306919, 0.8947355370981094, 0.8927021560191093, 0.8947538660487245, 0.891275511044952, 0.8948733219676132, 0.894813806786793, 0.8947806633029736, 0.894743628398007, 0.8947262605213121, 0.8946629324617899, 0.8946748751975898, 0.8946601135020302]}, {\"name\": \"Best Value\", \"type\": \"scatter\", \"x\": [0, 1, 2, 3, 4, 5, 6, 7, 8, 9, 10, 11, 12, 13, 14, 15, 16, 17, 18, 19, 20, 21, 22, 23, 24, 25, 26, 27, 28, 29, 30, 31, 32, 33, 34, 35, 36, 37, 38, 39, 40, 41, 42, 43, 44, 45, 46, 47, 48, 49, 50, 51, 52, 53, 54, 55, 56, 57, 58, 59, 60, 61, 62, 63, 64, 65, 66, 67, 68, 69, 70, 71, 72, 73, 74, 75, 76, 77, 78, 79, 80, 81, 82, 83, 84, 85, 86, 87, 88, 89, 90, 91, 92, 93, 94, 95, 96, 97, 98], \"y\": [0.8941319241264956, 0.8941319241264956, 0.8941319241264956, 0.8941319241264956, 0.8943317232546205, 0.8945280279579574, 0.8945280279579574, 0.8945280279579574, 0.8945280279579574, 0.8945280279579574, 0.8945280279579574, 0.8945280279579574, 0.8945280279579574, 0.8945280279579574, 0.8945280279579574, 0.8946065361300654, 0.8946065361300654, 0.8946065361300654, 0.8946065361300654, 0.8946065361300654, 0.8946065361300654, 0.8946065361300654, 0.8946065361300654, 0.8946065361300654, 0.8946065361300654, 0.8946065361300654, 0.8946259104092231, 0.8946259104092231, 0.8946511211060799, 0.8946511211060799, 0.8946511211060799, 0.8946824124162376, 0.8946824124162376, 0.8947242341262265, 0.8947242341262265, 0.8947242341262265, 0.8947242341262265, 0.8947242341262265, 0.8947242341262265, 0.8947242341262265, 0.8947242341262265, 0.8947242341262265, 0.8947242341262265, 0.8947242341262265, 0.8947242341262265, 0.8947242341262265, 0.8947242341262265, 0.8947242341262265, 0.8947242341262265, 0.8947242341262265, 0.8947242341262265, 0.8947242341262265, 0.8947242341262265, 0.8947834137165993, 0.8947834137165993, 0.8947834137165993, 0.8947834137165993, 0.8947834137165993, 0.8947834137165993, 0.8947834137165993, 0.8947834137165993, 0.8947834137165993, 0.8948023952835313, 0.8948023952835313, 0.8948023952835313, 0.8948023952835313, 0.8948023952835313, 0.8948023952835313, 0.8948023952835313, 0.8948023952835313, 0.8948023952835313, 0.8948146493330229, 0.8948146493330229, 0.8948146493330229, 0.8948146493330229, 0.8948146493330229, 0.8948146493330229, 0.8948146493330229, 0.8948146493330229, 0.8948146493330229, 0.8948146493330229, 0.8948146493330229, 0.8948437643034273, 0.8948437643034273, 0.8948437643034273, 0.8948437643034273, 0.8948437643034273, 0.8948437643034273, 0.8948437643034273, 0.8948437643034273, 0.8948437643034273, 0.8948733219676132, 0.8948733219676132, 0.8948733219676132, 0.8948733219676132, 0.8948733219676132, 0.8948733219676132, 0.8948733219676132, 0.8948733219676132]}],                        {\"template\": {\"data\": {\"bar\": [{\"error_x\": {\"color\": \"#2a3f5f\"}, \"error_y\": {\"color\": \"#2a3f5f\"}, \"marker\": {\"line\": {\"color\": \"#E5ECF6\", \"width\": 0.5}}, \"type\": \"bar\"}], \"barpolar\": [{\"marker\": {\"line\": {\"color\": \"#E5ECF6\", \"width\": 0.5}}, \"type\": \"barpolar\"}], \"carpet\": [{\"aaxis\": {\"endlinecolor\": \"#2a3f5f\", \"gridcolor\": \"white\", \"linecolor\": \"white\", \"minorgridcolor\": \"white\", \"startlinecolor\": \"#2a3f5f\"}, \"baxis\": {\"endlinecolor\": \"#2a3f5f\", \"gridcolor\": \"white\", \"linecolor\": \"white\", \"minorgridcolor\": \"white\", \"startlinecolor\": \"#2a3f5f\"}, \"type\": \"carpet\"}], \"choropleth\": [{\"colorbar\": {\"outlinewidth\": 0, \"ticks\": \"\"}, \"type\": \"choropleth\"}], \"contour\": [{\"colorbar\": {\"outlinewidth\": 0, \"ticks\": \"\"}, \"colorscale\": [[0.0, \"#0d0887\"], [0.1111111111111111, \"#46039f\"], [0.2222222222222222, \"#7201a8\"], [0.3333333333333333, \"#9c179e\"], [0.4444444444444444, \"#bd3786\"], [0.5555555555555556, \"#d8576b\"], [0.6666666666666666, \"#ed7953\"], [0.7777777777777778, \"#fb9f3a\"], [0.8888888888888888, \"#fdca26\"], [1.0, \"#f0f921\"]], \"type\": \"contour\"}], \"contourcarpet\": [{\"colorbar\": {\"outlinewidth\": 0, \"ticks\": \"\"}, \"type\": \"contourcarpet\"}], \"heatmap\": [{\"colorbar\": {\"outlinewidth\": 0, \"ticks\": \"\"}, \"colorscale\": [[0.0, \"#0d0887\"], [0.1111111111111111, \"#46039f\"], [0.2222222222222222, \"#7201a8\"], [0.3333333333333333, \"#9c179e\"], [0.4444444444444444, \"#bd3786\"], [0.5555555555555556, \"#d8576b\"], [0.6666666666666666, \"#ed7953\"], [0.7777777777777778, \"#fb9f3a\"], [0.8888888888888888, \"#fdca26\"], [1.0, \"#f0f921\"]], \"type\": \"heatmap\"}], \"heatmapgl\": [{\"colorbar\": {\"outlinewidth\": 0, \"ticks\": \"\"}, \"colorscale\": [[0.0, \"#0d0887\"], [0.1111111111111111, \"#46039f\"], [0.2222222222222222, \"#7201a8\"], [0.3333333333333333, \"#9c179e\"], [0.4444444444444444, \"#bd3786\"], [0.5555555555555556, \"#d8576b\"], [0.6666666666666666, \"#ed7953\"], [0.7777777777777778, \"#fb9f3a\"], [0.8888888888888888, \"#fdca26\"], [1.0, \"#f0f921\"]], \"type\": \"heatmapgl\"}], \"histogram\": [{\"marker\": {\"colorbar\": {\"outlinewidth\": 0, \"ticks\": \"\"}}, \"type\": \"histogram\"}], \"histogram2d\": [{\"colorbar\": {\"outlinewidth\": 0, \"ticks\": \"\"}, \"colorscale\": [[0.0, \"#0d0887\"], [0.1111111111111111, \"#46039f\"], [0.2222222222222222, \"#7201a8\"], [0.3333333333333333, \"#9c179e\"], [0.4444444444444444, \"#bd3786\"], [0.5555555555555556, \"#d8576b\"], [0.6666666666666666, \"#ed7953\"], [0.7777777777777778, \"#fb9f3a\"], [0.8888888888888888, \"#fdca26\"], [1.0, \"#f0f921\"]], \"type\": \"histogram2d\"}], \"histogram2dcontour\": [{\"colorbar\": {\"outlinewidth\": 0, \"ticks\": \"\"}, \"colorscale\": [[0.0, \"#0d0887\"], [0.1111111111111111, \"#46039f\"], [0.2222222222222222, \"#7201a8\"], [0.3333333333333333, \"#9c179e\"], [0.4444444444444444, \"#bd3786\"], [0.5555555555555556, \"#d8576b\"], [0.6666666666666666, \"#ed7953\"], [0.7777777777777778, \"#fb9f3a\"], [0.8888888888888888, \"#fdca26\"], [1.0, \"#f0f921\"]], \"type\": \"histogram2dcontour\"}], \"mesh3d\": [{\"colorbar\": {\"outlinewidth\": 0, \"ticks\": \"\"}, \"type\": \"mesh3d\"}], \"parcoords\": [{\"line\": {\"colorbar\": {\"outlinewidth\": 0, \"ticks\": \"\"}}, \"type\": \"parcoords\"}], \"pie\": [{\"automargin\": true, \"type\": \"pie\"}], \"scatter\": [{\"marker\": {\"colorbar\": {\"outlinewidth\": 0, \"ticks\": \"\"}}, \"type\": \"scatter\"}], \"scatter3d\": [{\"line\": {\"colorbar\": {\"outlinewidth\": 0, \"ticks\": \"\"}}, \"marker\": {\"colorbar\": {\"outlinewidth\": 0, \"ticks\": \"\"}}, \"type\": \"scatter3d\"}], \"scattercarpet\": [{\"marker\": {\"colorbar\": {\"outlinewidth\": 0, \"ticks\": \"\"}}, \"type\": \"scattercarpet\"}], \"scattergeo\": [{\"marker\": {\"colorbar\": {\"outlinewidth\": 0, \"ticks\": \"\"}}, \"type\": \"scattergeo\"}], \"scattergl\": [{\"marker\": {\"colorbar\": {\"outlinewidth\": 0, \"ticks\": \"\"}}, \"type\": \"scattergl\"}], \"scattermapbox\": [{\"marker\": {\"colorbar\": {\"outlinewidth\": 0, \"ticks\": \"\"}}, \"type\": \"scattermapbox\"}], \"scatterpolar\": [{\"marker\": {\"colorbar\": {\"outlinewidth\": 0, \"ticks\": \"\"}}, \"type\": \"scatterpolar\"}], \"scatterpolargl\": [{\"marker\": {\"colorbar\": {\"outlinewidth\": 0, \"ticks\": \"\"}}, \"type\": \"scatterpolargl\"}], \"scatterternary\": [{\"marker\": {\"colorbar\": {\"outlinewidth\": 0, \"ticks\": \"\"}}, \"type\": \"scatterternary\"}], \"surface\": [{\"colorbar\": {\"outlinewidth\": 0, \"ticks\": \"\"}, \"colorscale\": [[0.0, \"#0d0887\"], [0.1111111111111111, \"#46039f\"], [0.2222222222222222, \"#7201a8\"], [0.3333333333333333, \"#9c179e\"], [0.4444444444444444, \"#bd3786\"], [0.5555555555555556, \"#d8576b\"], [0.6666666666666666, \"#ed7953\"], [0.7777777777777778, \"#fb9f3a\"], [0.8888888888888888, \"#fdca26\"], [1.0, \"#f0f921\"]], \"type\": \"surface\"}], \"table\": [{\"cells\": {\"fill\": {\"color\": \"#EBF0F8\"}, \"line\": {\"color\": \"white\"}}, \"header\": {\"fill\": {\"color\": \"#C8D4E3\"}, \"line\": {\"color\": \"white\"}}, \"type\": \"table\"}]}, \"layout\": {\"annotationdefaults\": {\"arrowcolor\": \"#2a3f5f\", \"arrowhead\": 0, \"arrowwidth\": 1}, \"autotypenumbers\": \"strict\", \"coloraxis\": {\"colorbar\": {\"outlinewidth\": 0, \"ticks\": \"\"}}, \"colorscale\": {\"diverging\": [[0, \"#8e0152\"], [0.1, \"#c51b7d\"], [0.2, \"#de77ae\"], [0.3, \"#f1b6da\"], [0.4, \"#fde0ef\"], [0.5, \"#f7f7f7\"], [0.6, \"#e6f5d0\"], [0.7, \"#b8e186\"], [0.8, \"#7fbc41\"], [0.9, \"#4d9221\"], [1, \"#276419\"]], \"sequential\": [[0.0, \"#0d0887\"], [0.1111111111111111, \"#46039f\"], [0.2222222222222222, \"#7201a8\"], [0.3333333333333333, \"#9c179e\"], [0.4444444444444444, \"#bd3786\"], [0.5555555555555556, \"#d8576b\"], [0.6666666666666666, \"#ed7953\"], [0.7777777777777778, \"#fb9f3a\"], [0.8888888888888888, \"#fdca26\"], [1.0, \"#f0f921\"]], \"sequentialminus\": [[0.0, \"#0d0887\"], [0.1111111111111111, \"#46039f\"], [0.2222222222222222, \"#7201a8\"], [0.3333333333333333, \"#9c179e\"], [0.4444444444444444, \"#bd3786\"], [0.5555555555555556, \"#d8576b\"], [0.6666666666666666, \"#ed7953\"], [0.7777777777777778, \"#fb9f3a\"], [0.8888888888888888, \"#fdca26\"], [1.0, \"#f0f921\"]]}, \"colorway\": [\"#636efa\", \"#EF553B\", \"#00cc96\", \"#ab63fa\", \"#FFA15A\", \"#19d3f3\", \"#FF6692\", \"#B6E880\", \"#FF97FF\", \"#FECB52\"], \"font\": {\"color\": \"#2a3f5f\"}, \"geo\": {\"bgcolor\": \"white\", \"lakecolor\": \"white\", \"landcolor\": \"#E5ECF6\", \"showlakes\": true, \"showland\": true, \"subunitcolor\": \"white\"}, \"hoverlabel\": {\"align\": \"left\"}, \"hovermode\": \"closest\", \"mapbox\": {\"style\": \"light\"}, \"paper_bgcolor\": \"white\", \"plot_bgcolor\": \"#E5ECF6\", \"polar\": {\"angularaxis\": {\"gridcolor\": \"white\", \"linecolor\": \"white\", \"ticks\": \"\"}, \"bgcolor\": \"#E5ECF6\", \"radialaxis\": {\"gridcolor\": \"white\", \"linecolor\": \"white\", \"ticks\": \"\"}}, \"scene\": {\"xaxis\": {\"backgroundcolor\": \"#E5ECF6\", \"gridcolor\": \"white\", \"gridwidth\": 2, \"linecolor\": \"white\", \"showbackground\": true, \"ticks\": \"\", \"zerolinecolor\": \"white\"}, \"yaxis\": {\"backgroundcolor\": \"#E5ECF6\", \"gridcolor\": \"white\", \"gridwidth\": 2, \"linecolor\": \"white\", \"showbackground\": true, \"ticks\": \"\", \"zerolinecolor\": \"white\"}, \"zaxis\": {\"backgroundcolor\": \"#E5ECF6\", \"gridcolor\": \"white\", \"gridwidth\": 2, \"linecolor\": \"white\", \"showbackground\": true, \"ticks\": \"\", \"zerolinecolor\": \"white\"}}, \"shapedefaults\": {\"line\": {\"color\": \"#2a3f5f\"}}, \"ternary\": {\"aaxis\": {\"gridcolor\": \"white\", \"linecolor\": \"white\", \"ticks\": \"\"}, \"baxis\": {\"gridcolor\": \"white\", \"linecolor\": \"white\", \"ticks\": \"\"}, \"bgcolor\": \"#E5ECF6\", \"caxis\": {\"gridcolor\": \"white\", \"linecolor\": \"white\", \"ticks\": \"\"}}, \"title\": {\"x\": 0.05}, \"xaxis\": {\"automargin\": true, \"gridcolor\": \"white\", \"linecolor\": \"white\", \"ticks\": \"\", \"title\": {\"standoff\": 15}, \"zerolinecolor\": \"white\", \"zerolinewidth\": 2}, \"yaxis\": {\"automargin\": true, \"gridcolor\": \"white\", \"linecolor\": \"white\", \"ticks\": \"\", \"title\": {\"standoff\": 15}, \"zerolinecolor\": \"white\", \"zerolinewidth\": 2}}}, \"title\": {\"text\": \"Optimization History Plot\"}, \"xaxis\": {\"title\": {\"text\": \"#Trials\"}}, \"yaxis\": {\"title\": {\"text\": \"Objective Value\"}}},                        {\"responsive\": true}                    ).then(function(){\n",
       "                            \n",
       "var gd = document.getElementById('0561cf6b-9a2c-4de4-bde6-90c66d697816');\n",
       "var x = new MutationObserver(function (mutations, observer) {{\n",
       "        var display = window.getComputedStyle(gd).display;\n",
       "        if (!display || display === 'none') {{\n",
       "            console.log([gd, 'removed!']);\n",
       "            Plotly.purge(gd);\n",
       "            observer.disconnect();\n",
       "        }}\n",
       "}});\n",
       "\n",
       "// Listen for the removal of the full notebook cells\n",
       "var notebookContainer = gd.closest('#notebook-container');\n",
       "if (notebookContainer) {{\n",
       "    x.observe(notebookContainer, {childList: true});\n",
       "}}\n",
       "\n",
       "// Listen for the clearing of the current output cell\n",
       "var outputEl = gd.closest('.output');\n",
       "if (outputEl) {{\n",
       "    x.observe(outputEl, {childList: true});\n",
       "}}\n",
       "\n",
       "                        })                };                });            </script>        </div>"
      ]
     },
     "metadata": {},
     "output_type": "display_data"
    }
   ],
   "source": [
    "optuna.visualization.plot_optimization_history(study)"
   ]
  },
  {
   "cell_type": "code",
   "execution_count": 9,
   "metadata": {
    "execution": {
     "iopub.execute_input": "2021-03-06T18:21:47.466926Z",
     "iopub.status.busy": "2021-03-06T18:21:47.466120Z",
     "iopub.status.idle": "2021-03-06T18:21:51.277284Z",
     "shell.execute_reply": "2021-03-06T18:21:51.277796Z"
    },
    "papermill": {
     "duration": 3.850298,
     "end_time": "2021-03-06T18:21:51.277979",
     "exception": false,
     "start_time": "2021-03-06T18:21:47.427681",
     "status": "completed"
    },
    "tags": []
   },
   "outputs": [
    {
     "data": {
      "text/html": [
       "<div>                            <div id=\"bc81f8fb-0e73-4b43-8886-260ca6343c62\" class=\"plotly-graph-div\" style=\"height:525px; width:100%;\"></div>            <script type=\"text/javascript\">                require([\"plotly\"], function(Plotly) {                    window.PLOTLYENV=window.PLOTLYENV || {};                                    if (document.getElementById(\"bc81f8fb-0e73-4b43-8886-260ca6343c62\")) {                    Plotly.newPlot(                        \"bc81f8fb-0e73-4b43-8886-260ca6343c62\",                        [{\"cliponaxis\": false, \"hovertemplate\": [\"reg_alpha (LogUniformDistribution): 0.001101207002155356<extra></extra>\", \"learning_rate (CategoricalDistribution): 0.0013751092825751486<extra></extra>\", \"subsample (CategoricalDistribution): 0.0017188613226050279<extra></extra>\", \"max_depth (CategoricalDistribution): 0.003955793685172638<extra></extra>\", \"min_child_samples (IntUniformDistribution): 0.006339376017919779<extra></extra>\", \"min_data_per_groups (IntUniformDistribution): 0.022894096908623856<extra></extra>\", \"num_leaves (IntUniformDistribution): 0.1046314150228868<extra></extra>\", \"colsample_bytree (CategoricalDistribution): 0.4076339168089745<extra></extra>\", \"reg_lambda (LogUniformDistribution): 0.4503502239490869<extra></extra>\"], \"marker\": {\"color\": [\"rgb(8,48,107)\", \"rgb(66,146,198)\", \"rgb(66,146,198)\", \"rgb(66,146,198)\", \"rgb(8,81,156)\", \"rgb(8,81,156)\", \"rgb(8,81,156)\", \"rgb(66,146,198)\", \"rgb(8,48,107)\"]}, \"orientation\": \"h\", \"text\": [\"0.001101207002155356\", \"0.0013751092825751486\", \"0.0017188613226050279\", \"0.003955793685172638\", \"0.006339376017919779\", \"0.022894096908623856\", \"0.1046314150228868\", \"0.4076339168089745\", \"0.4503502239490869\"], \"textposition\": \"outside\", \"texttemplate\": \"%{text:.2f}\", \"type\": \"bar\", \"x\": [0.001101207002155356, 0.0013751092825751486, 0.0017188613226050279, 0.003955793685172638, 0.006339376017919779, 0.022894096908623856, 0.1046314150228868, 0.4076339168089745, 0.4503502239490869], \"y\": [\"reg_alpha\", \"learning_rate\", \"subsample\", \"max_depth\", \"min_child_samples\", \"min_data_per_groups\", \"num_leaves\", \"colsample_bytree\", \"reg_lambda\"]}],                        {\"showlegend\": false, \"template\": {\"data\": {\"bar\": [{\"error_x\": {\"color\": \"#2a3f5f\"}, \"error_y\": {\"color\": \"#2a3f5f\"}, \"marker\": {\"line\": {\"color\": \"#E5ECF6\", \"width\": 0.5}}, \"type\": \"bar\"}], \"barpolar\": [{\"marker\": {\"line\": {\"color\": \"#E5ECF6\", \"width\": 0.5}}, \"type\": \"barpolar\"}], \"carpet\": [{\"aaxis\": {\"endlinecolor\": \"#2a3f5f\", \"gridcolor\": \"white\", \"linecolor\": \"white\", \"minorgridcolor\": \"white\", \"startlinecolor\": \"#2a3f5f\"}, \"baxis\": {\"endlinecolor\": \"#2a3f5f\", \"gridcolor\": \"white\", \"linecolor\": \"white\", \"minorgridcolor\": \"white\", \"startlinecolor\": \"#2a3f5f\"}, \"type\": \"carpet\"}], \"choropleth\": [{\"colorbar\": {\"outlinewidth\": 0, \"ticks\": \"\"}, \"type\": \"choropleth\"}], \"contour\": [{\"colorbar\": {\"outlinewidth\": 0, \"ticks\": \"\"}, \"colorscale\": [[0.0, \"#0d0887\"], [0.1111111111111111, \"#46039f\"], [0.2222222222222222, \"#7201a8\"], [0.3333333333333333, \"#9c179e\"], [0.4444444444444444, \"#bd3786\"], [0.5555555555555556, \"#d8576b\"], [0.6666666666666666, \"#ed7953\"], [0.7777777777777778, \"#fb9f3a\"], [0.8888888888888888, \"#fdca26\"], [1.0, \"#f0f921\"]], \"type\": \"contour\"}], \"contourcarpet\": [{\"colorbar\": {\"outlinewidth\": 0, \"ticks\": \"\"}, \"type\": \"contourcarpet\"}], \"heatmap\": [{\"colorbar\": {\"outlinewidth\": 0, \"ticks\": \"\"}, \"colorscale\": [[0.0, \"#0d0887\"], [0.1111111111111111, \"#46039f\"], [0.2222222222222222, \"#7201a8\"], [0.3333333333333333, \"#9c179e\"], [0.4444444444444444, \"#bd3786\"], [0.5555555555555556, \"#d8576b\"], [0.6666666666666666, \"#ed7953\"], [0.7777777777777778, \"#fb9f3a\"], [0.8888888888888888, \"#fdca26\"], [1.0, \"#f0f921\"]], \"type\": \"heatmap\"}], \"heatmapgl\": [{\"colorbar\": {\"outlinewidth\": 0, \"ticks\": \"\"}, \"colorscale\": [[0.0, \"#0d0887\"], [0.1111111111111111, \"#46039f\"], [0.2222222222222222, \"#7201a8\"], [0.3333333333333333, \"#9c179e\"], [0.4444444444444444, \"#bd3786\"], [0.5555555555555556, \"#d8576b\"], [0.6666666666666666, \"#ed7953\"], [0.7777777777777778, \"#fb9f3a\"], [0.8888888888888888, \"#fdca26\"], [1.0, \"#f0f921\"]], \"type\": \"heatmapgl\"}], \"histogram\": [{\"marker\": {\"colorbar\": {\"outlinewidth\": 0, \"ticks\": \"\"}}, \"type\": \"histogram\"}], \"histogram2d\": [{\"colorbar\": {\"outlinewidth\": 0, \"ticks\": \"\"}, \"colorscale\": [[0.0, \"#0d0887\"], [0.1111111111111111, \"#46039f\"], [0.2222222222222222, \"#7201a8\"], [0.3333333333333333, \"#9c179e\"], [0.4444444444444444, \"#bd3786\"], [0.5555555555555556, \"#d8576b\"], [0.6666666666666666, \"#ed7953\"], [0.7777777777777778, \"#fb9f3a\"], [0.8888888888888888, \"#fdca26\"], [1.0, \"#f0f921\"]], \"type\": \"histogram2d\"}], \"histogram2dcontour\": [{\"colorbar\": {\"outlinewidth\": 0, \"ticks\": \"\"}, \"colorscale\": [[0.0, \"#0d0887\"], [0.1111111111111111, \"#46039f\"], [0.2222222222222222, \"#7201a8\"], [0.3333333333333333, \"#9c179e\"], [0.4444444444444444, \"#bd3786\"], [0.5555555555555556, \"#d8576b\"], [0.6666666666666666, \"#ed7953\"], [0.7777777777777778, \"#fb9f3a\"], [0.8888888888888888, \"#fdca26\"], [1.0, \"#f0f921\"]], \"type\": \"histogram2dcontour\"}], \"mesh3d\": [{\"colorbar\": {\"outlinewidth\": 0, \"ticks\": \"\"}, \"type\": \"mesh3d\"}], \"parcoords\": [{\"line\": {\"colorbar\": {\"outlinewidth\": 0, \"ticks\": \"\"}}, \"type\": \"parcoords\"}], \"pie\": [{\"automargin\": true, \"type\": \"pie\"}], \"scatter\": [{\"marker\": {\"colorbar\": {\"outlinewidth\": 0, \"ticks\": \"\"}}, \"type\": \"scatter\"}], \"scatter3d\": [{\"line\": {\"colorbar\": {\"outlinewidth\": 0, \"ticks\": \"\"}}, \"marker\": {\"colorbar\": {\"outlinewidth\": 0, \"ticks\": \"\"}}, \"type\": \"scatter3d\"}], \"scattercarpet\": [{\"marker\": {\"colorbar\": {\"outlinewidth\": 0, \"ticks\": \"\"}}, \"type\": \"scattercarpet\"}], \"scattergeo\": [{\"marker\": {\"colorbar\": {\"outlinewidth\": 0, \"ticks\": \"\"}}, \"type\": \"scattergeo\"}], \"scattergl\": [{\"marker\": {\"colorbar\": {\"outlinewidth\": 0, \"ticks\": \"\"}}, \"type\": \"scattergl\"}], \"scattermapbox\": [{\"marker\": {\"colorbar\": {\"outlinewidth\": 0, \"ticks\": \"\"}}, \"type\": \"scattermapbox\"}], \"scatterpolar\": [{\"marker\": {\"colorbar\": {\"outlinewidth\": 0, \"ticks\": \"\"}}, \"type\": \"scatterpolar\"}], \"scatterpolargl\": [{\"marker\": {\"colorbar\": {\"outlinewidth\": 0, \"ticks\": \"\"}}, \"type\": \"scatterpolargl\"}], \"scatterternary\": [{\"marker\": {\"colorbar\": {\"outlinewidth\": 0, \"ticks\": \"\"}}, \"type\": \"scatterternary\"}], \"surface\": [{\"colorbar\": {\"outlinewidth\": 0, \"ticks\": \"\"}, \"colorscale\": [[0.0, \"#0d0887\"], [0.1111111111111111, \"#46039f\"], [0.2222222222222222, \"#7201a8\"], [0.3333333333333333, \"#9c179e\"], [0.4444444444444444, \"#bd3786\"], [0.5555555555555556, \"#d8576b\"], [0.6666666666666666, \"#ed7953\"], [0.7777777777777778, \"#fb9f3a\"], [0.8888888888888888, \"#fdca26\"], [1.0, \"#f0f921\"]], \"type\": \"surface\"}], \"table\": [{\"cells\": {\"fill\": {\"color\": \"#EBF0F8\"}, \"line\": {\"color\": \"white\"}}, \"header\": {\"fill\": {\"color\": \"#C8D4E3\"}, \"line\": {\"color\": \"white\"}}, \"type\": \"table\"}]}, \"layout\": {\"annotationdefaults\": {\"arrowcolor\": \"#2a3f5f\", \"arrowhead\": 0, \"arrowwidth\": 1}, \"autotypenumbers\": \"strict\", \"coloraxis\": {\"colorbar\": {\"outlinewidth\": 0, \"ticks\": \"\"}}, \"colorscale\": {\"diverging\": [[0, \"#8e0152\"], [0.1, \"#c51b7d\"], [0.2, \"#de77ae\"], [0.3, \"#f1b6da\"], [0.4, \"#fde0ef\"], [0.5, \"#f7f7f7\"], [0.6, \"#e6f5d0\"], [0.7, \"#b8e186\"], [0.8, \"#7fbc41\"], [0.9, \"#4d9221\"], [1, \"#276419\"]], \"sequential\": [[0.0, \"#0d0887\"], [0.1111111111111111, \"#46039f\"], [0.2222222222222222, \"#7201a8\"], [0.3333333333333333, \"#9c179e\"], [0.4444444444444444, \"#bd3786\"], [0.5555555555555556, \"#d8576b\"], [0.6666666666666666, \"#ed7953\"], [0.7777777777777778, \"#fb9f3a\"], [0.8888888888888888, \"#fdca26\"], [1.0, \"#f0f921\"]], \"sequentialminus\": [[0.0, \"#0d0887\"], [0.1111111111111111, \"#46039f\"], [0.2222222222222222, \"#7201a8\"], [0.3333333333333333, \"#9c179e\"], [0.4444444444444444, \"#bd3786\"], [0.5555555555555556, \"#d8576b\"], [0.6666666666666666, \"#ed7953\"], [0.7777777777777778, \"#fb9f3a\"], [0.8888888888888888, \"#fdca26\"], [1.0, \"#f0f921\"]]}, \"colorway\": [\"#636efa\", \"#EF553B\", \"#00cc96\", \"#ab63fa\", \"#FFA15A\", \"#19d3f3\", \"#FF6692\", \"#B6E880\", \"#FF97FF\", \"#FECB52\"], \"font\": {\"color\": \"#2a3f5f\"}, \"geo\": {\"bgcolor\": \"white\", \"lakecolor\": \"white\", \"landcolor\": \"#E5ECF6\", \"showlakes\": true, \"showland\": true, \"subunitcolor\": \"white\"}, \"hoverlabel\": {\"align\": \"left\"}, \"hovermode\": \"closest\", \"mapbox\": {\"style\": \"light\"}, \"paper_bgcolor\": \"white\", \"plot_bgcolor\": \"#E5ECF6\", \"polar\": {\"angularaxis\": {\"gridcolor\": \"white\", \"linecolor\": \"white\", \"ticks\": \"\"}, \"bgcolor\": \"#E5ECF6\", \"radialaxis\": {\"gridcolor\": \"white\", \"linecolor\": \"white\", \"ticks\": \"\"}}, \"scene\": {\"xaxis\": {\"backgroundcolor\": \"#E5ECF6\", \"gridcolor\": \"white\", \"gridwidth\": 2, \"linecolor\": \"white\", \"showbackground\": true, \"ticks\": \"\", \"zerolinecolor\": \"white\"}, \"yaxis\": {\"backgroundcolor\": \"#E5ECF6\", \"gridcolor\": \"white\", \"gridwidth\": 2, \"linecolor\": \"white\", \"showbackground\": true, \"ticks\": \"\", \"zerolinecolor\": \"white\"}, \"zaxis\": {\"backgroundcolor\": \"#E5ECF6\", \"gridcolor\": \"white\", \"gridwidth\": 2, \"linecolor\": \"white\", \"showbackground\": true, \"ticks\": \"\", \"zerolinecolor\": \"white\"}}, \"shapedefaults\": {\"line\": {\"color\": \"#2a3f5f\"}}, \"ternary\": {\"aaxis\": {\"gridcolor\": \"white\", \"linecolor\": \"white\", \"ticks\": \"\"}, \"baxis\": {\"gridcolor\": \"white\", \"linecolor\": \"white\", \"ticks\": \"\"}, \"bgcolor\": \"#E5ECF6\", \"caxis\": {\"gridcolor\": \"white\", \"linecolor\": \"white\", \"ticks\": \"\"}}, \"title\": {\"x\": 0.05}, \"xaxis\": {\"automargin\": true, \"gridcolor\": \"white\", \"linecolor\": \"white\", \"ticks\": \"\", \"title\": {\"standoff\": 15}, \"zerolinecolor\": \"white\", \"zerolinewidth\": 2}, \"yaxis\": {\"automargin\": true, \"gridcolor\": \"white\", \"linecolor\": \"white\", \"ticks\": \"\", \"title\": {\"standoff\": 15}, \"zerolinecolor\": \"white\", \"zerolinewidth\": 2}}}, \"title\": {\"text\": \"Hyperparameter Importances\"}, \"xaxis\": {\"title\": {\"text\": \"Importance for Objective Value\"}}, \"yaxis\": {\"title\": {\"text\": \"Hyperparameter\"}}},                        {\"responsive\": true}                    ).then(function(){\n",
       "                            \n",
       "var gd = document.getElementById('bc81f8fb-0e73-4b43-8886-260ca6343c62');\n",
       "var x = new MutationObserver(function (mutations, observer) {{\n",
       "        var display = window.getComputedStyle(gd).display;\n",
       "        if (!display || display === 'none') {{\n",
       "            console.log([gd, 'removed!']);\n",
       "            Plotly.purge(gd);\n",
       "            observer.disconnect();\n",
       "        }}\n",
       "}});\n",
       "\n",
       "// Listen for the removal of the full notebook cells\n",
       "var notebookContainer = gd.closest('#notebook-container');\n",
       "if (notebookContainer) {{\n",
       "    x.observe(notebookContainer, {childList: true});\n",
       "}}\n",
       "\n",
       "// Listen for the clearing of the current output cell\n",
       "var outputEl = gd.closest('.output');\n",
       "if (outputEl) {{\n",
       "    x.observe(outputEl, {childList: true});\n",
       "}}\n",
       "\n",
       "                        })                };                });            </script>        </div>"
      ]
     },
     "metadata": {},
     "output_type": "display_data"
    }
   ],
   "source": [
    "#Visualize parameter importances.\n",
    "optuna.visualization.plot_param_importances(study)"
   ]
  },
  {
   "cell_type": "code",
   "execution_count": 10,
   "metadata": {
    "execution": {
     "iopub.execute_input": "2021-03-06T18:21:51.350512Z",
     "iopub.status.busy": "2021-03-06T18:21:51.349943Z",
     "iopub.status.idle": "2021-03-06T18:21:51.354724Z",
     "shell.execute_reply": "2021-03-06T18:21:51.355193Z"
    },
    "papermill": {
     "duration": 0.042587,
     "end_time": "2021-03-06T18:21:51.355353",
     "exception": false,
     "start_time": "2021-03-06T18:21:51.312766",
     "status": "completed"
    },
    "tags": []
   },
   "outputs": [
    {
     "data": {
      "text/plain": [
       "{'reg_alpha': 0.0031293275223408185,\n",
       " 'reg_lambda': 0.04787145507141445,\n",
       " 'colsample_bytree': 0.3,\n",
       " 'subsample': 0.6,\n",
       " 'learning_rate': 0.008,\n",
       " 'max_depth': 100,\n",
       " 'num_leaves': 584,\n",
       " 'min_child_samples': 173,\n",
       " 'min_data_per_groups': 30}"
      ]
     },
     "execution_count": 10,
     "metadata": {},
     "output_type": "execute_result"
    }
   ],
   "source": [
    "params=study.best_params\n",
    "params"
   ]
  }
 ],
 "metadata": {
  "kernelspec": {
   "display_name": "Python 3",
   "language": "python",
   "name": "python3"
  },
  "language_info": {
   "codemirror_mode": {
    "name": "ipython",
    "version": 3
   },
   "file_extension": ".py",
   "mimetype": "text/x-python",
   "name": "python",
   "nbconvert_exporter": "python",
   "pygments_lexer": "ipython3",
   "version": "3.7.9"
  },
  "papermill": {
   "default_parameters": {},
   "duration": 18087.246071,
   "end_time": "2021-03-06T18:21:52.101453",
   "environment_variables": {},
   "exception": null,
   "input_path": "__notebook__.ipynb",
   "output_path": "__notebook__.ipynb",
   "parameters": {},
   "start_time": "2021-03-06T13:20:24.855382",
   "version": "2.2.2"
  }
 },
 "nbformat": 4,
 "nbformat_minor": 4
}
