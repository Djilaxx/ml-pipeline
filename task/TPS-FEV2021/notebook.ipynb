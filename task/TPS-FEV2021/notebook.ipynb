{
 "metadata": {
  "language_info": {
   "codemirror_mode": {
    "name": "ipython",
    "version": 3
   },
   "file_extension": ".py",
   "mimetype": "text/x-python",
   "name": "python",
   "nbconvert_exporter": "python",
   "pygments_lexer": "ipython3",
   "version": "3.7.7"
  },
  "orig_nbformat": 2,
  "kernelspec": {
   "name": "python3",
   "display_name": "Python 3.7.7 64-bit ('Torch-37': conda)",
   "metadata": {
    "interpreter": {
     "hash": "1524824e3f0c83810fc9aefd4d85168626f1cce80efd3b81c1b3d2bfe66cf15a"
    }
   }
  }
 },
 "nbformat": 4,
 "nbformat_minor": 2,
 "cells": [
  {
   "cell_type": "code",
   "execution_count": 1,
   "metadata": {},
   "outputs": [],
   "source": [
    "import pandas as pd \n",
    "import numpy as np"
   ]
  },
  {
   "cell_type": "code",
   "execution_count": 2,
   "metadata": {},
   "outputs": [
    {
     "output_type": "execute_result",
     "data": {
      "text/plain": [
       "   id cat0 cat1 cat2 cat3 cat4 cat5 cat6 cat7 cat8  ...     cont5     cont6  \\\n",
       "0   1    A    B    A    A    B    D    A    E    C  ...  0.881122  0.421650   \n",
       "1   2    B    A    A    A    B    B    A    E    A  ...  0.440011  0.346230   \n",
       "2   3    A    A    A    C    B    D    A    B    C  ...  0.914155  0.369602   \n",
       "3   4    A    A    A    C    B    D    A    E    G  ...  0.934138  0.578930   \n",
       "4   6    A    B    A    A    B    B    A    E    C  ...  0.382600  0.705940   \n",
       "\n",
       "      cont7     cont8     cont9    cont10    cont11    cont12    cont13  \\\n",
       "0  0.741413  0.895799  0.802461  0.724417  0.701915  0.877618  0.719903   \n",
       "1  0.278495  0.593413  0.546056  0.613252  0.741289  0.326679  0.808464   \n",
       "2  0.832564  0.865620  0.825251  0.264104  0.695561  0.869133  0.828352   \n",
       "3  0.407313  0.868099  0.794402  0.494269  0.698125  0.809799  0.614766   \n",
       "4  0.325193  0.440967  0.462146  0.724447  0.683073  0.343457  0.297743   \n",
       "\n",
       "     target  \n",
       "0  6.994023  \n",
       "1  8.071256  \n",
       "2  5.760456  \n",
       "3  7.806457  \n",
       "4  6.868974  \n",
       "\n",
       "[5 rows x 26 columns]"
      ],
      "text/html": "<div>\n<style scoped>\n    .dataframe tbody tr th:only-of-type {\n        vertical-align: middle;\n    }\n\n    .dataframe tbody tr th {\n        vertical-align: top;\n    }\n\n    .dataframe thead th {\n        text-align: right;\n    }\n</style>\n<table border=\"1\" class=\"dataframe\">\n  <thead>\n    <tr style=\"text-align: right;\">\n      <th></th>\n      <th>id</th>\n      <th>cat0</th>\n      <th>cat1</th>\n      <th>cat2</th>\n      <th>cat3</th>\n      <th>cat4</th>\n      <th>cat5</th>\n      <th>cat6</th>\n      <th>cat7</th>\n      <th>cat8</th>\n      <th>...</th>\n      <th>cont5</th>\n      <th>cont6</th>\n      <th>cont7</th>\n      <th>cont8</th>\n      <th>cont9</th>\n      <th>cont10</th>\n      <th>cont11</th>\n      <th>cont12</th>\n      <th>cont13</th>\n      <th>target</th>\n    </tr>\n  </thead>\n  <tbody>\n    <tr>\n      <th>0</th>\n      <td>1</td>\n      <td>A</td>\n      <td>B</td>\n      <td>A</td>\n      <td>A</td>\n      <td>B</td>\n      <td>D</td>\n      <td>A</td>\n      <td>E</td>\n      <td>C</td>\n      <td>...</td>\n      <td>0.881122</td>\n      <td>0.421650</td>\n      <td>0.741413</td>\n      <td>0.895799</td>\n      <td>0.802461</td>\n      <td>0.724417</td>\n      <td>0.701915</td>\n      <td>0.877618</td>\n      <td>0.719903</td>\n      <td>6.994023</td>\n    </tr>\n    <tr>\n      <th>1</th>\n      <td>2</td>\n      <td>B</td>\n      <td>A</td>\n      <td>A</td>\n      <td>A</td>\n      <td>B</td>\n      <td>B</td>\n      <td>A</td>\n      <td>E</td>\n      <td>A</td>\n      <td>...</td>\n      <td>0.440011</td>\n      <td>0.346230</td>\n      <td>0.278495</td>\n      <td>0.593413</td>\n      <td>0.546056</td>\n      <td>0.613252</td>\n      <td>0.741289</td>\n      <td>0.326679</td>\n      <td>0.808464</td>\n      <td>8.071256</td>\n    </tr>\n    <tr>\n      <th>2</th>\n      <td>3</td>\n      <td>A</td>\n      <td>A</td>\n      <td>A</td>\n      <td>C</td>\n      <td>B</td>\n      <td>D</td>\n      <td>A</td>\n      <td>B</td>\n      <td>C</td>\n      <td>...</td>\n      <td>0.914155</td>\n      <td>0.369602</td>\n      <td>0.832564</td>\n      <td>0.865620</td>\n      <td>0.825251</td>\n      <td>0.264104</td>\n      <td>0.695561</td>\n      <td>0.869133</td>\n      <td>0.828352</td>\n      <td>5.760456</td>\n    </tr>\n    <tr>\n      <th>3</th>\n      <td>4</td>\n      <td>A</td>\n      <td>A</td>\n      <td>A</td>\n      <td>C</td>\n      <td>B</td>\n      <td>D</td>\n      <td>A</td>\n      <td>E</td>\n      <td>G</td>\n      <td>...</td>\n      <td>0.934138</td>\n      <td>0.578930</td>\n      <td>0.407313</td>\n      <td>0.868099</td>\n      <td>0.794402</td>\n      <td>0.494269</td>\n      <td>0.698125</td>\n      <td>0.809799</td>\n      <td>0.614766</td>\n      <td>7.806457</td>\n    </tr>\n    <tr>\n      <th>4</th>\n      <td>6</td>\n      <td>A</td>\n      <td>B</td>\n      <td>A</td>\n      <td>A</td>\n      <td>B</td>\n      <td>B</td>\n      <td>A</td>\n      <td>E</td>\n      <td>C</td>\n      <td>...</td>\n      <td>0.382600</td>\n      <td>0.705940</td>\n      <td>0.325193</td>\n      <td>0.440967</td>\n      <td>0.462146</td>\n      <td>0.724447</td>\n      <td>0.683073</td>\n      <td>0.343457</td>\n      <td>0.297743</td>\n      <td>6.868974</td>\n    </tr>\n  </tbody>\n</table>\n<p>5 rows × 26 columns</p>\n</div>"
     },
     "metadata": {},
     "execution_count": 2
    }
   ],
   "source": [
    "df_train = pd.read_csv(\"D:/Documents/GitHub/gbm_pipeline/data/TPS-FEV2021/train.csv\")\n",
    "df_test = pd.read_csv(\"D:/Documents/GitHub/gbm_pipeline/data/TPS-FEV2021/test.csv\")\n",
    "df_train.head()"
   ]
  },
  {
   "cell_type": "code",
   "execution_count": 3,
   "metadata": {},
   "outputs": [
    {
     "output_type": "execute_result",
     "data": {
      "text/plain": [
       "   id cat0 cat1 cat2 cat3 cat4 cat5 cat6 cat7 cat8  ...     cont4     cont5  \\\n",
       "0   0    A    B    A    C    B    D    A    E    E  ...  0.701679  0.595507   \n",
       "1   5    A    B    A    C    B    D    A    E    C  ...  0.277480  0.479552   \n",
       "2  15    A    B    A    C    B    D    A    E    C  ...  0.279508  0.676395   \n",
       "3  16    A    A    B    A    B    D    A    E    E  ...  0.479503  0.759875   \n",
       "4  17    A    B    A    A    B    B    A    E    E  ...  0.757845  0.210232   \n",
       "\n",
       "      cont6     cont7     cont8     cont9    cont10    cont11    cont12  \\\n",
       "0  0.286912  0.279884  0.202234  0.242654  0.285147  0.264308  0.653654   \n",
       "1  0.397436  0.476742  0.857073  0.516393  0.562065  0.730542  0.318492   \n",
       "2  0.695284  0.253316  0.586934  0.548555  0.836193  0.759788  0.333572   \n",
       "3  0.240049  0.298074  0.442475  0.596746  0.414131  0.255382  0.589080   \n",
       "4  0.329851  0.616663  0.170475  0.263235  0.710961  0.224045  0.285860   \n",
       "\n",
       "     cont13  \n",
       "0  0.302448  \n",
       "1  0.736251  \n",
       "2  0.273905  \n",
       "3  0.311625  \n",
       "4  0.794931  \n",
       "\n",
       "[5 rows x 25 columns]"
      ],
      "text/html": "<div>\n<style scoped>\n    .dataframe tbody tr th:only-of-type {\n        vertical-align: middle;\n    }\n\n    .dataframe tbody tr th {\n        vertical-align: top;\n    }\n\n    .dataframe thead th {\n        text-align: right;\n    }\n</style>\n<table border=\"1\" class=\"dataframe\">\n  <thead>\n    <tr style=\"text-align: right;\">\n      <th></th>\n      <th>id</th>\n      <th>cat0</th>\n      <th>cat1</th>\n      <th>cat2</th>\n      <th>cat3</th>\n      <th>cat4</th>\n      <th>cat5</th>\n      <th>cat6</th>\n      <th>cat7</th>\n      <th>cat8</th>\n      <th>...</th>\n      <th>cont4</th>\n      <th>cont5</th>\n      <th>cont6</th>\n      <th>cont7</th>\n      <th>cont8</th>\n      <th>cont9</th>\n      <th>cont10</th>\n      <th>cont11</th>\n      <th>cont12</th>\n      <th>cont13</th>\n    </tr>\n  </thead>\n  <tbody>\n    <tr>\n      <th>0</th>\n      <td>0</td>\n      <td>A</td>\n      <td>B</td>\n      <td>A</td>\n      <td>C</td>\n      <td>B</td>\n      <td>D</td>\n      <td>A</td>\n      <td>E</td>\n      <td>E</td>\n      <td>...</td>\n      <td>0.701679</td>\n      <td>0.595507</td>\n      <td>0.286912</td>\n      <td>0.279884</td>\n      <td>0.202234</td>\n      <td>0.242654</td>\n      <td>0.285147</td>\n      <td>0.264308</td>\n      <td>0.653654</td>\n      <td>0.302448</td>\n    </tr>\n    <tr>\n      <th>1</th>\n      <td>5</td>\n      <td>A</td>\n      <td>B</td>\n      <td>A</td>\n      <td>C</td>\n      <td>B</td>\n      <td>D</td>\n      <td>A</td>\n      <td>E</td>\n      <td>C</td>\n      <td>...</td>\n      <td>0.277480</td>\n      <td>0.479552</td>\n      <td>0.397436</td>\n      <td>0.476742</td>\n      <td>0.857073</td>\n      <td>0.516393</td>\n      <td>0.562065</td>\n      <td>0.730542</td>\n      <td>0.318492</td>\n      <td>0.736251</td>\n    </tr>\n    <tr>\n      <th>2</th>\n      <td>15</td>\n      <td>A</td>\n      <td>B</td>\n      <td>A</td>\n      <td>C</td>\n      <td>B</td>\n      <td>D</td>\n      <td>A</td>\n      <td>E</td>\n      <td>C</td>\n      <td>...</td>\n      <td>0.279508</td>\n      <td>0.676395</td>\n      <td>0.695284</td>\n      <td>0.253316</td>\n      <td>0.586934</td>\n      <td>0.548555</td>\n      <td>0.836193</td>\n      <td>0.759788</td>\n      <td>0.333572</td>\n      <td>0.273905</td>\n    </tr>\n    <tr>\n      <th>3</th>\n      <td>16</td>\n      <td>A</td>\n      <td>A</td>\n      <td>B</td>\n      <td>A</td>\n      <td>B</td>\n      <td>D</td>\n      <td>A</td>\n      <td>E</td>\n      <td>E</td>\n      <td>...</td>\n      <td>0.479503</td>\n      <td>0.759875</td>\n      <td>0.240049</td>\n      <td>0.298074</td>\n      <td>0.442475</td>\n      <td>0.596746</td>\n      <td>0.414131</td>\n      <td>0.255382</td>\n      <td>0.589080</td>\n      <td>0.311625</td>\n    </tr>\n    <tr>\n      <th>4</th>\n      <td>17</td>\n      <td>A</td>\n      <td>B</td>\n      <td>A</td>\n      <td>A</td>\n      <td>B</td>\n      <td>B</td>\n      <td>A</td>\n      <td>E</td>\n      <td>E</td>\n      <td>...</td>\n      <td>0.757845</td>\n      <td>0.210232</td>\n      <td>0.329851</td>\n      <td>0.616663</td>\n      <td>0.170475</td>\n      <td>0.263235</td>\n      <td>0.710961</td>\n      <td>0.224045</td>\n      <td>0.285860</td>\n      <td>0.794931</td>\n    </tr>\n  </tbody>\n</table>\n<p>5 rows × 25 columns</p>\n</div>"
     },
     "metadata": {},
     "execution_count": 3
    }
   ],
   "source": [
    "df_test.head()"
   ]
  },
  {
   "cell_type": "code",
   "execution_count": 35,
   "metadata": {},
   "outputs": [
    {
     "output_type": "execute_result",
     "data": {
      "text/plain": [
       "Index(['cat0', 'cat1', 'cat2', 'cat3', 'cat4', 'cat5', 'cat6', 'cat7', 'cat8',\n",
       "       'cat9'],\n",
       "      dtype='object')"
      ]
     },
     "metadata": {},
     "execution_count": 35
    }
   ],
   "source": [
    "df_train.columns[1:11]"
   ]
  },
  {
   "cell_type": "code",
   "execution_count": 13,
   "metadata": {},
   "outputs": [
    {
     "output_type": "execute_result",
     "data": {
      "text/plain": [
       "Index(['cat0', 'cat1', 'cat2', 'cat3', 'cat4', 'cat5', 'cat6', 'cat7', 'cat8',\n",
       "       'cat9', 'cont0', 'cont1', 'cont2', 'cont3', 'cont4', 'cont5', 'cont6',\n",
       "       'cont7', 'cont8', 'cont9', 'cont10', 'cont11', 'cont12', 'cont13'],\n",
       "      dtype='object')"
      ]
     },
     "metadata": {},
     "execution_count": 13
    }
   ],
   "source": [
    "columns = df_test.columns[1:]\n",
    "columns"
   ]
  },
  {
   "cell_type": "code",
   "execution_count": 14,
   "metadata": {},
   "outputs": [
    {
     "output_type": "execute_result",
     "data": {
      "text/plain": [
       "               cont0          cont1          cont2          cont3  \\\n",
       "count  300000.000000  300000.000000  300000.000000  300000.000000   \n",
       "mean        0.524634       0.506649       0.444115       0.446214   \n",
       "std         0.204875       0.235269       0.200089       0.238669   \n",
       "min        -0.093505      -0.055105      -0.060274       0.134760   \n",
       "25%         0.370451       0.352307       0.314121       0.214572   \n",
       "50%         0.492208       0.615156       0.457271       0.377823   \n",
       "75%         0.654793       0.688150       0.554835       0.719758   \n",
       "max         1.052666       0.851746       1.017689       1.006469   \n",
       "\n",
       "               cont4          cont5          cont6          cont7  \\\n",
       "count  300000.000000  300000.000000  300000.000000  300000.000000   \n",
       "mean        0.455471       0.508337       0.478345       0.455904   \n",
       "std         0.200695       0.231612       0.192432       0.204493   \n",
       "min         0.189216      -0.087247       0.043953       0.208703   \n",
       "25%         0.279853       0.338747       0.339896       0.278041   \n",
       "50%         0.411351       0.441384       0.410090       0.360736   \n",
       "75%         0.621808       0.709515       0.604246       0.639388   \n",
       "max         0.994050       1.044433       1.093312       1.036541   \n",
       "\n",
       "               cont8          cont9         cont10         cont11  \\\n",
       "count  300000.000000  300000.000000  300000.000000  300000.000000   \n",
       "mean        0.459321       0.526899       0.504943       0.529938   \n",
       "std         0.220642       0.204025       0.201549       0.230860   \n",
       "min         0.004041       0.073040       0.059644       0.064161   \n",
       "25%         0.308655       0.361957       0.338898       0.316662   \n",
       "50%         0.425801       0.488867       0.519855       0.558827   \n",
       "75%         0.541525       0.752765       0.672809       0.720381   \n",
       "max         1.014156       0.972091       1.029773       1.038049   \n",
       "\n",
       "              cont12         cont13  \n",
       "count  300000.000000  300000.000000  \n",
       "mean        0.524549       0.503349  \n",
       "std         0.220892       0.225218  \n",
       "min        -0.005600       0.158121  \n",
       "25%         0.332143       0.291289  \n",
       "50%         0.407365       0.433909  \n",
       "75%         0.732431       0.730870  \n",
       "max         0.961370       0.873579  "
      ],
      "text/html": "<div>\n<style scoped>\n    .dataframe tbody tr th:only-of-type {\n        vertical-align: middle;\n    }\n\n    .dataframe tbody tr th {\n        vertical-align: top;\n    }\n\n    .dataframe thead th {\n        text-align: right;\n    }\n</style>\n<table border=\"1\" class=\"dataframe\">\n  <thead>\n    <tr style=\"text-align: right;\">\n      <th></th>\n      <th>cont0</th>\n      <th>cont1</th>\n      <th>cont2</th>\n      <th>cont3</th>\n      <th>cont4</th>\n      <th>cont5</th>\n      <th>cont6</th>\n      <th>cont7</th>\n      <th>cont8</th>\n      <th>cont9</th>\n      <th>cont10</th>\n      <th>cont11</th>\n      <th>cont12</th>\n      <th>cont13</th>\n    </tr>\n  </thead>\n  <tbody>\n    <tr>\n      <th>count</th>\n      <td>300000.000000</td>\n      <td>300000.000000</td>\n      <td>300000.000000</td>\n      <td>300000.000000</td>\n      <td>300000.000000</td>\n      <td>300000.000000</td>\n      <td>300000.000000</td>\n      <td>300000.000000</td>\n      <td>300000.000000</td>\n      <td>300000.000000</td>\n      <td>300000.000000</td>\n      <td>300000.000000</td>\n      <td>300000.000000</td>\n      <td>300000.000000</td>\n    </tr>\n    <tr>\n      <th>mean</th>\n      <td>0.524634</td>\n      <td>0.506649</td>\n      <td>0.444115</td>\n      <td>0.446214</td>\n      <td>0.455471</td>\n      <td>0.508337</td>\n      <td>0.478345</td>\n      <td>0.455904</td>\n      <td>0.459321</td>\n      <td>0.526899</td>\n      <td>0.504943</td>\n      <td>0.529938</td>\n      <td>0.524549</td>\n      <td>0.503349</td>\n    </tr>\n    <tr>\n      <th>std</th>\n      <td>0.204875</td>\n      <td>0.235269</td>\n      <td>0.200089</td>\n      <td>0.238669</td>\n      <td>0.200695</td>\n      <td>0.231612</td>\n      <td>0.192432</td>\n      <td>0.204493</td>\n      <td>0.220642</td>\n      <td>0.204025</td>\n      <td>0.201549</td>\n      <td>0.230860</td>\n      <td>0.220892</td>\n      <td>0.225218</td>\n    </tr>\n    <tr>\n      <th>min</th>\n      <td>-0.093505</td>\n      <td>-0.055105</td>\n      <td>-0.060274</td>\n      <td>0.134760</td>\n      <td>0.189216</td>\n      <td>-0.087247</td>\n      <td>0.043953</td>\n      <td>0.208703</td>\n      <td>0.004041</td>\n      <td>0.073040</td>\n      <td>0.059644</td>\n      <td>0.064161</td>\n      <td>-0.005600</td>\n      <td>0.158121</td>\n    </tr>\n    <tr>\n      <th>25%</th>\n      <td>0.370451</td>\n      <td>0.352307</td>\n      <td>0.314121</td>\n      <td>0.214572</td>\n      <td>0.279853</td>\n      <td>0.338747</td>\n      <td>0.339896</td>\n      <td>0.278041</td>\n      <td>0.308655</td>\n      <td>0.361957</td>\n      <td>0.338898</td>\n      <td>0.316662</td>\n      <td>0.332143</td>\n      <td>0.291289</td>\n    </tr>\n    <tr>\n      <th>50%</th>\n      <td>0.492208</td>\n      <td>0.615156</td>\n      <td>0.457271</td>\n      <td>0.377823</td>\n      <td>0.411351</td>\n      <td>0.441384</td>\n      <td>0.410090</td>\n      <td>0.360736</td>\n      <td>0.425801</td>\n      <td>0.488867</td>\n      <td>0.519855</td>\n      <td>0.558827</td>\n      <td>0.407365</td>\n      <td>0.433909</td>\n    </tr>\n    <tr>\n      <th>75%</th>\n      <td>0.654793</td>\n      <td>0.688150</td>\n      <td>0.554835</td>\n      <td>0.719758</td>\n      <td>0.621808</td>\n      <td>0.709515</td>\n      <td>0.604246</td>\n      <td>0.639388</td>\n      <td>0.541525</td>\n      <td>0.752765</td>\n      <td>0.672809</td>\n      <td>0.720381</td>\n      <td>0.732431</td>\n      <td>0.730870</td>\n    </tr>\n    <tr>\n      <th>max</th>\n      <td>1.052666</td>\n      <td>0.851746</td>\n      <td>1.017689</td>\n      <td>1.006469</td>\n      <td>0.994050</td>\n      <td>1.044433</td>\n      <td>1.093312</td>\n      <td>1.036541</td>\n      <td>1.014156</td>\n      <td>0.972091</td>\n      <td>1.029773</td>\n      <td>1.038049</td>\n      <td>0.961370</td>\n      <td>0.873579</td>\n    </tr>\n  </tbody>\n</table>\n</div>"
     },
     "metadata": {},
     "execution_count": 14
    }
   ],
   "source": [
    "df_train[columns].describe()"
   ]
  },
  {
   "source": [
    "continuous variables usually range from 0 to 1 (sometimes going under 0 and over 1)"
   ],
   "cell_type": "markdown",
   "metadata": {}
  },
  {
   "source": [
    "Variables cat0 to cat9 are categorical var - cont0 to cont13 are continuous. The goal is to use those var to predict the value of target"
   ],
   "cell_type": "markdown",
   "metadata": {}
  },
  {
   "cell_type": "code",
   "execution_count": 6,
   "metadata": {},
   "outputs": [
    {
     "output_type": "execute_result",
     "data": {
      "text/plain": [
       "count    300000.000000\n",
       "mean          7.456260\n",
       "std           0.887295\n",
       "min           0.000000\n",
       "25%           6.798341\n",
       "50%           7.496503\n",
       "75%           8.161166\n",
       "max          10.309208\n",
       "Name: target, dtype: float64"
      ]
     },
     "metadata": {},
     "execution_count": 6
    }
   ],
   "source": [
    "df_train[\"target\"].describe()"
   ]
  },
  {
   "source": [
    "This is a regression problem"
   ],
   "cell_type": "markdown",
   "metadata": {}
  },
  {
   "cell_type": "code",
   "execution_count": 11,
   "metadata": {},
   "outputs": [
    {
     "output_type": "execute_result",
     "data": {
      "text/plain": [
       "              id      cont0      cont1      cont2      cont3      cont4  \\\n",
       "count  13.000000  13.000000  13.000000  13.000000  13.000000  13.000000   \n",
       "mean   24.307692   0.389132   0.609212   0.525217   0.289607   0.419825   \n",
       "std     8.673567   0.128867   0.202615   0.139657   0.127325   0.182397   \n",
       "min    12.000000   0.126257   0.084490   0.180088   0.166095   0.233912   \n",
       "25%    18.000000   0.302363   0.616771   0.476830   0.209487   0.279607   \n",
       "50%    25.000000   0.442745   0.648888   0.496365   0.258033   0.328310   \n",
       "75%    28.000000   0.492684   0.741295   0.631165   0.340954   0.509079   \n",
       "max    41.000000   0.518279   0.825237   0.698699   0.638475   0.763186   \n",
       "\n",
       "           cont5      cont6      cont7      cont8      cont9     cont10  \\\n",
       "count  13.000000  13.000000  13.000000  13.000000  13.000000  13.000000   \n",
       "mean    0.358355   0.564111   0.393302   0.280609   0.426210   0.474876   \n",
       "std     0.163117   0.205342   0.154788   0.137059   0.150747   0.136572   \n",
       "min     0.202051   0.324627   0.246297   0.069842   0.237650   0.304075   \n",
       "25%     0.235558   0.412714   0.262769   0.145539   0.298140   0.367734   \n",
       "50%     0.322267   0.479256   0.350437   0.303340   0.404755   0.449753   \n",
       "75%     0.372352   0.786168   0.489613   0.401012   0.556574   0.590285   \n",
       "max     0.752138   0.904086   0.677460   0.472777   0.723709   0.712621   \n",
       "\n",
       "          cont11     cont12     cont13     target  \n",
       "count  13.000000  13.000000  13.000000  13.000000  \n",
       "mean    0.456786   0.461901   0.527613   7.239149  \n",
       "std     0.210569   0.179657   0.238560   0.840438  \n",
       "min     0.188735   0.274138   0.211064   5.479105  \n",
       "25%     0.271192   0.337926   0.283809   6.812011  \n",
       "50%     0.402557   0.355698   0.489294   7.273783  \n",
       "75%     0.656143   0.617615   0.749156   7.675697  \n",
       "max     0.795555   0.823206   0.831791   8.523926  "
      ],
      "text/html": "<div>\n<style scoped>\n    .dataframe tbody tr th:only-of-type {\n        vertical-align: middle;\n    }\n\n    .dataframe tbody tr th {\n        vertical-align: top;\n    }\n\n    .dataframe thead th {\n        text-align: right;\n    }\n</style>\n<table border=\"1\" class=\"dataframe\">\n  <thead>\n    <tr style=\"text-align: right;\">\n      <th></th>\n      <th>id</th>\n      <th>cont0</th>\n      <th>cont1</th>\n      <th>cont2</th>\n      <th>cont3</th>\n      <th>cont4</th>\n      <th>cont5</th>\n      <th>cont6</th>\n      <th>cont7</th>\n      <th>cont8</th>\n      <th>cont9</th>\n      <th>cont10</th>\n      <th>cont11</th>\n      <th>cont12</th>\n      <th>cont13</th>\n      <th>target</th>\n    </tr>\n  </thead>\n  <tbody>\n    <tr>\n      <th>count</th>\n      <td>13.000000</td>\n      <td>13.000000</td>\n      <td>13.000000</td>\n      <td>13.000000</td>\n      <td>13.000000</td>\n      <td>13.000000</td>\n      <td>13.000000</td>\n      <td>13.000000</td>\n      <td>13.000000</td>\n      <td>13.000000</td>\n      <td>13.000000</td>\n      <td>13.000000</td>\n      <td>13.000000</td>\n      <td>13.000000</td>\n      <td>13.000000</td>\n      <td>13.000000</td>\n    </tr>\n    <tr>\n      <th>mean</th>\n      <td>24.307692</td>\n      <td>0.389132</td>\n      <td>0.609212</td>\n      <td>0.525217</td>\n      <td>0.289607</td>\n      <td>0.419825</td>\n      <td>0.358355</td>\n      <td>0.564111</td>\n      <td>0.393302</td>\n      <td>0.280609</td>\n      <td>0.426210</td>\n      <td>0.474876</td>\n      <td>0.456786</td>\n      <td>0.461901</td>\n      <td>0.527613</td>\n      <td>7.239149</td>\n    </tr>\n    <tr>\n      <th>std</th>\n      <td>8.673567</td>\n      <td>0.128867</td>\n      <td>0.202615</td>\n      <td>0.139657</td>\n      <td>0.127325</td>\n      <td>0.182397</td>\n      <td>0.163117</td>\n      <td>0.205342</td>\n      <td>0.154788</td>\n      <td>0.137059</td>\n      <td>0.150747</td>\n      <td>0.136572</td>\n      <td>0.210569</td>\n      <td>0.179657</td>\n      <td>0.238560</td>\n      <td>0.840438</td>\n    </tr>\n    <tr>\n      <th>min</th>\n      <td>12.000000</td>\n      <td>0.126257</td>\n      <td>0.084490</td>\n      <td>0.180088</td>\n      <td>0.166095</td>\n      <td>0.233912</td>\n      <td>0.202051</td>\n      <td>0.324627</td>\n      <td>0.246297</td>\n      <td>0.069842</td>\n      <td>0.237650</td>\n      <td>0.304075</td>\n      <td>0.188735</td>\n      <td>0.274138</td>\n      <td>0.211064</td>\n      <td>5.479105</td>\n    </tr>\n    <tr>\n      <th>25%</th>\n      <td>18.000000</td>\n      <td>0.302363</td>\n      <td>0.616771</td>\n      <td>0.476830</td>\n      <td>0.209487</td>\n      <td>0.279607</td>\n      <td>0.235558</td>\n      <td>0.412714</td>\n      <td>0.262769</td>\n      <td>0.145539</td>\n      <td>0.298140</td>\n      <td>0.367734</td>\n      <td>0.271192</td>\n      <td>0.337926</td>\n      <td>0.283809</td>\n      <td>6.812011</td>\n    </tr>\n    <tr>\n      <th>50%</th>\n      <td>25.000000</td>\n      <td>0.442745</td>\n      <td>0.648888</td>\n      <td>0.496365</td>\n      <td>0.258033</td>\n      <td>0.328310</td>\n      <td>0.322267</td>\n      <td>0.479256</td>\n      <td>0.350437</td>\n      <td>0.303340</td>\n      <td>0.404755</td>\n      <td>0.449753</td>\n      <td>0.402557</td>\n      <td>0.355698</td>\n      <td>0.489294</td>\n      <td>7.273783</td>\n    </tr>\n    <tr>\n      <th>75%</th>\n      <td>28.000000</td>\n      <td>0.492684</td>\n      <td>0.741295</td>\n      <td>0.631165</td>\n      <td>0.340954</td>\n      <td>0.509079</td>\n      <td>0.372352</td>\n      <td>0.786168</td>\n      <td>0.489613</td>\n      <td>0.401012</td>\n      <td>0.556574</td>\n      <td>0.590285</td>\n      <td>0.656143</td>\n      <td>0.617615</td>\n      <td>0.749156</td>\n      <td>7.675697</td>\n    </tr>\n    <tr>\n      <th>max</th>\n      <td>41.000000</td>\n      <td>0.518279</td>\n      <td>0.825237</td>\n      <td>0.698699</td>\n      <td>0.638475</td>\n      <td>0.763186</td>\n      <td>0.752138</td>\n      <td>0.904086</td>\n      <td>0.677460</td>\n      <td>0.472777</td>\n      <td>0.723709</td>\n      <td>0.712621</td>\n      <td>0.795555</td>\n      <td>0.823206</td>\n      <td>0.831791</td>\n      <td>8.523926</td>\n    </tr>\n  </tbody>\n</table>\n</div>"
     },
     "metadata": {},
     "execution_count": 11
    }
   ],
   "source": [
    "df_train[10:23].describe()"
   ]
  },
  {
   "cell_type": "code",
   "execution_count": 24,
   "metadata": {},
   "outputs": [
    {
     "output_type": "execute_result",
     "data": {
      "text/plain": [
       "array(['I', 'F', 'N', 'K', 'B', 'L', 'G', 'H', 'O', 'A', 'J', 'M', 'C',\n",
       "       'D', 'E'], dtype=object)"
      ]
     },
     "metadata": {},
     "execution_count": 24
    }
   ],
   "source": [
    "df[\"cat9\"].unique()"
   ]
  },
  {
   "source": [
    "Categorical variables contain letters that indicate a category. Some are binary A, B but some contain many more categories, cat9 range from A to N (14 categories)"
   ],
   "cell_type": "markdown",
   "metadata": {}
  },
  {
   "cell_type": "code",
   "execution_count": 25,
   "metadata": {},
   "outputs": [],
   "source": [
    "from easydict import EasyDict as edict\n",
    "\n",
    "config = edict()"
   ]
  },
  {
   "cell_type": "code",
   "execution_count": 26,
   "metadata": {},
   "outputs": [],
   "source": [
    "config.hyper = edict()\n",
    "config.hyper.LGBM_REG = {\n",
    "    'reg_alpha': 6.147694913504962,\n",
    "    'reg_lambda': 0.002457826062076097,\n",
    "    'colsample_bytree': 0.3,\n",
    "    'subsample': 0.8,\n",
    "    'learning_rate': 0.0005,\n",
    "    'max_depth': 20,\n",
    "    'num_leaves': 111,\n",
    "    'min_child_samples': 285,\n",
    "    'random_state': 48,\n",
    "    'n_estimators': 320000,\n",
    "    'metric': 'rmse',\n",
    "    'cat_smooth': 39\n",
    "}"
   ]
  },
  {
   "cell_type": "code",
   "execution_count": 27,
   "metadata": {},
   "outputs": [
    {
     "output_type": "execute_result",
     "data": {
      "text/plain": [
       "{'reg_alpha': 6.147694913504962,\n",
       " 'reg_lambda': 0.002457826062076097,\n",
       " 'colsample_bytree': 0.3,\n",
       " 'subsample': 0.8,\n",
       " 'learning_rate': 0.0005,\n",
       " 'max_depth': 20,\n",
       " 'num_leaves': 111,\n",
       " 'min_child_samples': 285,\n",
       " 'random_state': 48,\n",
       " 'n_estimators': 320000,\n",
       " 'metric': 'rmse',\n",
       " 'cat_smooth': 39}"
      ]
     },
     "metadata": {},
     "execution_count": 27
    }
   ],
   "source": [
    "config.hyper.LGBM_REG"
   ]
  },
  {
   "cell_type": "code",
   "execution_count": 33,
   "metadata": {},
   "outputs": [
    {
     "output_type": "execute_result",
     "data": {
      "text/plain": [
       "{'reg_alpha': 6.147694913504962,\n",
       " 'reg_lambda': 0.002457826062076097,\n",
       " 'colsample_bytree': 0.3,\n",
       " 'subsample': 0.8,\n",
       " 'learning_rate': 0.0005,\n",
       " 'max_depth': 20,\n",
       " 'num_leaves': 111,\n",
       " 'min_child_samples': 285,\n",
       " 'random_state': 48,\n",
       " 'n_estimators': 320000,\n",
       " 'metric': 'rmse',\n",
       " 'cat_smooth': 39}"
      ]
     },
     "metadata": {},
     "execution_count": 33
    }
   ],
   "source": [
    "model = \"LGBM_REG\"\n",
    "config.hyper[model]"
   ]
  },
  {
   "cell_type": "code",
   "execution_count": 32,
   "metadata": {},
   "outputs": [
    {
     "output_type": "execute_result",
     "data": {
      "text/plain": [
       "{'hyper': {'LGBM_REG': {'reg_alpha': 6.147694913504962,\n",
       "   'reg_lambda': 0.002457826062076097,\n",
       "   'colsample_bytree': 0.3,\n",
       "   'subsample': 0.8,\n",
       "   'learning_rate': 0.0005,\n",
       "   'max_depth': 20,\n",
       "   'num_leaves': 111,\n",
       "   'min_child_samples': 285,\n",
       "   'random_state': 48,\n",
       "   'n_estimators': 320000,\n",
       "   'metric': 'rmse',\n",
       "   'cat_smooth': 39}}}"
      ]
     },
     "metadata": {},
     "execution_count": 32
    }
   ],
   "source": [
    "config"
   ]
  },
  {
   "cell_type": "code",
   "execution_count": null,
   "metadata": {},
   "outputs": [],
   "source": [
    "config.hyper"
   ]
  }
 ]
}