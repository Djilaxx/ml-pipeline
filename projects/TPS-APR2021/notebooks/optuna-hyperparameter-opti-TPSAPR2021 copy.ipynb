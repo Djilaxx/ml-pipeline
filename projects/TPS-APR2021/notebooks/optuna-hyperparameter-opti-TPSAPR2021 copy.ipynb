{
 "cells": [
  {
   "cell_type": "markdown",
   "metadata": {
    "papermill": {
     "duration": 0.008413,
     "end_time": "2021-03-06T13:20:30.195043",
     "exception": false,
     "start_time": "2021-03-06T13:20:30.186630",
     "status": "completed"
    },
    "tags": []
   },
   "source": [
    "# HYPERPARAMETER OPTIMIZATION USING OPTUNA"
   ]
  },
  {
   "cell_type": "markdown",
   "metadata": {
    "papermill": {
     "duration": 0.00712,
     "end_time": "2021-03-06T13:20:30.209862",
     "exception": false,
     "start_time": "2021-03-06T13:20:30.202742",
     "status": "completed"
    },
    "tags": []
   },
   "source": [
    "## IMPORTS"
   ]
  },
  {
   "cell_type": "code",
   "execution_count": 1,
   "metadata": {
    "execution": {
     "iopub.execute_input": "2021-03-06T13:20:30.231902Z",
     "iopub.status.busy": "2021-03-06T13:20:30.231230Z",
     "iopub.status.idle": "2021-03-06T13:20:32.457432Z",
     "shell.execute_reply": "2021-03-06T13:20:32.456515Z"
    },
    "papermill": {
     "duration": 2.240371,
     "end_time": "2021-03-06T13:20:32.457694",
     "exception": false,
     "start_time": "2021-03-06T13:20:30.217323",
     "status": "completed"
    },
    "tags": []
   },
   "outputs": [
    {
     "output_type": "display_data",
     "data": {
      "text/plain": "<IPython.core.display.HTML object>",
      "text/html": "<style type='text/css'>\n.datatable table.frame { margin-bottom: 0; }\n.datatable table.frame thead { border-bottom: none; }\n.datatable table.frame tr.coltypes td {  color: #FFFFFF;  line-height: 6px;  padding: 0 0.5em;}\n.datatable .bool    { background: #DDDD99; }\n.datatable .object  { background: #565656; }\n.datatable .int     { background: #5D9E5D; }\n.datatable .float   { background: #4040CC; }\n.datatable .str     { background: #CC4040; }\n.datatable .row_index {  background: var(--jp-border-color3);  border-right: 1px solid var(--jp-border-color0);  color: var(--jp-ui-font-color3);  font-size: 9px;}\n.datatable .frame tr.coltypes .row_index {  background: var(--jp-border-color0);}\n.datatable th:nth-child(2) { padding-left: 12px; }\n.datatable .hellipsis {  color: var(--jp-cell-editor-border-color);}\n.datatable .vellipsis {  background: var(--jp-layout-color0);  color: var(--jp-cell-editor-border-color);}\n.datatable .na {  color: var(--jp-cell-editor-border-color);  font-size: 80%;}\n.datatable .footer { font-size: 9px; }\n.datatable .frame_dimensions {  background: var(--jp-border-color3);  border-top: 1px solid var(--jp-border-color0);  color: var(--jp-ui-font-color3);  display: inline-block;  opacity: 0.6;  padding: 1px 10px 1px 5px;}\n</style>\n"
     },
     "metadata": {}
    }
   ],
   "source": [
    "##################\n",
    "# IMPORT MODULES #\n",
    "##################\n",
    "# SYS IMPORT\n",
    "import os, inspect, importlib, argparse\n",
    "import gc\n",
    "import pandas as pd\n",
    "import numpy as np\n",
    "from pathlib import Path\n",
    "\n",
    "from tqdm import tqdm\n",
    "import matplotlib.pyplot as plt\n",
    "\n",
    "import xgboost as xgb\n",
    "import lightgbm as lgb\n",
    "import catboost as ctb\n",
    "import optuna \n",
    "from sklearn.model_selection import KFold\n",
    "from sklearn.metrics import roc_auc_score, accuracy_score\n",
    "from sklearn.preprocessing import LabelEncoder\n",
    "from sklearn.model_selection import train_test_split"
   ]
  },
  {
   "cell_type": "markdown",
   "metadata": {
    "papermill": {
     "duration": 0.007676,
     "end_time": "2021-03-06T13:20:32.474001",
     "exception": false,
     "start_time": "2021-03-06T13:20:32.466325",
     "status": "completed"
    },
    "tags": []
   },
   "source": [
    "## CONFIG"
   ]
  },
  {
   "cell_type": "code",
   "execution_count": 2,
   "metadata": {
    "execution": {
     "iopub.execute_input": "2021-03-06T13:20:32.493694Z",
     "iopub.status.busy": "2021-03-06T13:20:32.493114Z",
     "iopub.status.idle": "2021-03-06T13:20:32.496353Z",
     "shell.execute_reply": "2021-03-06T13:20:32.496935Z"
    },
    "papermill": {
     "duration": 0.01434,
     "end_time": "2021-03-06T13:20:32.497099",
     "exception": false,
     "start_time": "2021-03-06T13:20:32.482759",
     "status": "completed"
    },
    "tags": []
   },
   "outputs": [],
   "source": [
    "config = {\n",
    "    \"DATA_PATH\" : \"D:/Documents/GitHub/ml-pipeline/data/TPS-APR2021/train.csv\",\n",
    "    \"TARGET_VAR\" : \"Survived\"\n",
    "}"
   ]
  },
  {
   "cell_type": "markdown",
   "metadata": {
    "papermill": {
     "duration": 0.007929,
     "end_time": "2021-03-06T13:20:32.513415",
     "exception": false,
     "start_time": "2021-03-06T13:20:32.505486",
     "status": "completed"
    },
    "tags": []
   },
   "source": [
    "## LOADING DATA"
   ]
  },
  {
   "cell_type": "code",
   "execution_count": 3,
   "metadata": {
    "execution": {
     "iopub.execute_input": "2021-03-06T13:20:32.532654Z",
     "iopub.status.busy": "2021-03-06T13:20:32.531982Z",
     "iopub.status.idle": "2021-03-06T13:20:34.778288Z",
     "shell.execute_reply": "2021-03-06T13:20:34.778940Z"
    },
    "papermill": {
     "duration": 2.257653,
     "end_time": "2021-03-06T13:20:34.779108",
     "exception": false,
     "start_time": "2021-03-06T13:20:32.521455",
     "status": "completed"
    },
    "tags": []
   },
   "outputs": [
    {
     "output_type": "execute_result",
     "data": {
      "text/plain": [
       "   PassengerId  Survived  Pclass              Name   Sex    Age  SibSp  Parch  \\\n",
       "0            0         1       1  Oconnor, Frankie  male    NaN      2      0   \n",
       "1            1         0       3       Bryan, Drew  male    NaN      0      0   \n",
       "2            2         0       3    Owens, Kenneth  male   0.33      1      2   \n",
       "3            3         0       3     Kramer, James  male  19.00      0      0   \n",
       "4            4         1       3     Bond, Michael  male  25.00      0      0   \n",
       "\n",
       "      Ticket   Fare   Cabin Embarked  \n",
       "0     209245  27.14  C12239        S  \n",
       "1      27323  13.35     NaN        S  \n",
       "2  CA 457703  71.29     NaN        S  \n",
       "3   A. 10866  13.04     NaN        S  \n",
       "4     427635   7.76     NaN        S  "
      ],
      "text/html": "<div>\n<style scoped>\n    .dataframe tbody tr th:only-of-type {\n        vertical-align: middle;\n    }\n\n    .dataframe tbody tr th {\n        vertical-align: top;\n    }\n\n    .dataframe thead th {\n        text-align: right;\n    }\n</style>\n<table border=\"1\" class=\"dataframe\">\n  <thead>\n    <tr style=\"text-align: right;\">\n      <th></th>\n      <th>PassengerId</th>\n      <th>Survived</th>\n      <th>Pclass</th>\n      <th>Name</th>\n      <th>Sex</th>\n      <th>Age</th>\n      <th>SibSp</th>\n      <th>Parch</th>\n      <th>Ticket</th>\n      <th>Fare</th>\n      <th>Cabin</th>\n      <th>Embarked</th>\n    </tr>\n  </thead>\n  <tbody>\n    <tr>\n      <th>0</th>\n      <td>0</td>\n      <td>1</td>\n      <td>1</td>\n      <td>Oconnor, Frankie</td>\n      <td>male</td>\n      <td>NaN</td>\n      <td>2</td>\n      <td>0</td>\n      <td>209245</td>\n      <td>27.14</td>\n      <td>C12239</td>\n      <td>S</td>\n    </tr>\n    <tr>\n      <th>1</th>\n      <td>1</td>\n      <td>0</td>\n      <td>3</td>\n      <td>Bryan, Drew</td>\n      <td>male</td>\n      <td>NaN</td>\n      <td>0</td>\n      <td>0</td>\n      <td>27323</td>\n      <td>13.35</td>\n      <td>NaN</td>\n      <td>S</td>\n    </tr>\n    <tr>\n      <th>2</th>\n      <td>2</td>\n      <td>0</td>\n      <td>3</td>\n      <td>Owens, Kenneth</td>\n      <td>male</td>\n      <td>0.33</td>\n      <td>1</td>\n      <td>2</td>\n      <td>CA 457703</td>\n      <td>71.29</td>\n      <td>NaN</td>\n      <td>S</td>\n    </tr>\n    <tr>\n      <th>3</th>\n      <td>3</td>\n      <td>0</td>\n      <td>3</td>\n      <td>Kramer, James</td>\n      <td>male</td>\n      <td>19.00</td>\n      <td>0</td>\n      <td>0</td>\n      <td>A. 10866</td>\n      <td>13.04</td>\n      <td>NaN</td>\n      <td>S</td>\n    </tr>\n    <tr>\n      <th>4</th>\n      <td>4</td>\n      <td>1</td>\n      <td>3</td>\n      <td>Bond, Michael</td>\n      <td>male</td>\n      <td>25.00</td>\n      <td>0</td>\n      <td>0</td>\n      <td>427635</td>\n      <td>7.76</td>\n      <td>NaN</td>\n      <td>S</td>\n    </tr>\n  </tbody>\n</table>\n</div>"
     },
     "metadata": {},
     "execution_count": 3
    }
   ],
   "source": [
    "df = pd.read_csv(config[\"DATA_PATH\"])\n",
    "target = df[config[\"TARGET_VAR\"]]\n",
    "df.head()"
   ]
  },
  {
   "cell_type": "markdown",
   "metadata": {
    "papermill": {
     "duration": 0.008474,
     "end_time": "2021-03-06T13:20:34.796300",
     "exception": false,
     "start_time": "2021-03-06T13:20:34.787826",
     "status": "completed"
    },
    "tags": []
   },
   "source": [
    "## FEATURE ENGINEERING"
   ]
  },
  {
   "cell_type": "code",
   "execution_count": 4,
   "metadata": {
    "execution": {
     "iopub.execute_input": "2021-03-06T13:20:34.817424Z",
     "iopub.status.busy": "2021-03-06T13:20:34.816777Z",
     "iopub.status.idle": "2021-03-06T13:20:34.822095Z",
     "shell.execute_reply": "2021-03-06T13:20:34.822616Z"
    },
    "papermill": {
     "duration": 0.017412,
     "end_time": "2021-03-06T13:20:34.822801",
     "exception": false,
     "start_time": "2021-03-06T13:20:34.805389",
     "status": "completed"
    },
    "tags": []
   },
   "outputs": [],
   "source": [
    "import datetime\n",
    "import pandas as pd \n",
    "from sklearn.preprocessing import LabelEncoder\n",
    "from pandas.api.types import is_integer_dtype, is_float_dtype, is_object_dtype\n",
    "\n",
    "def missing_values(dataframe):\n",
    "    # Droping features that have too many MV\n",
    "    drop_features = [\"Cabin\", \"Name\", \"Ticket\"]\n",
    "    dataframe = dataframe.drop(drop_features, axis=1)\n",
    "    # DIVIDE INTO NUMERICAL FEATURES AND CATEGORICAL FEATURES\n",
    "    integer_features = [col for col in dataframe.columns if is_integer_dtype(dataframe[col])]\n",
    "    float_features = [col for col in dataframe.columns if is_float_dtype(dataframe[col])]\n",
    "    object_features = [col for col in dataframe.columns if is_object_dtype(dataframe[col])]\n",
    "\n",
    "    # WE REPLACE MISSING VALUES IN INTEGER  & FLOAT FEATURES WITH MEAN AND MODE FOR CATEGORICAL FEATURES\n",
    "    dataframe[integer_features] = dataframe[integer_features].apply(lambda x: x.fillna(value=x.mean().astype(int)))\n",
    "    dataframe[float_features] = dataframe[float_features].apply(lambda x: x.fillna(value=x.mean()))\n",
    "    dataframe[object_features] = dataframe[object_features].apply(lambda x: x.fillna(value=x.mode()[0]))\n",
    "\n",
    "    # ASSERT WE DON'T HAVE ANY MISSING VALUES IN THE DATASET\n",
    "    assert dataframe.columns[dataframe.isnull().any()].empty, 'We still have some missing values in the dataset!'\n",
    "    return dataframe\n",
    "\n",
    "def get_cat_features(dataframe):\n",
    "    categorical_features = [col for col in dataframe.columns if is_object_dtype(dataframe[col])]\n",
    "    return categorical_features\n",
    "\n",
    "def cat_encoding(dataframe, features):\n",
    "    le = LabelEncoder()\n",
    "    dataframe[features] = dataframe[features].apply(lambda x: le.fit_transform(x))\n",
    "    return dataframe\n",
    "\n",
    "def feature_engineering(dataframe, train=True):\n",
    "    # FEATURE ENG\n",
    "    dataframe = missing_values(dataframe)\n",
    "    features_cat = get_cat_features(dataframe)\n",
    "    dataframe = cat_encoding(dataframe, features_cat)\n",
    "    features = dataframe.columns.difference([\"Survived\", \"PassengerId\", \"kfold\"])\n",
    "    # RETURN DATAFRAME & ALL FEATURES NEEDED FOR TRAINING OR PREDICTION\n",
    "    return dataframe, features"
   ]
  },
  {
   "cell_type": "code",
   "execution_count": 5,
   "metadata": {
    "execution": {
     "iopub.execute_input": "2021-03-06T13:20:34.843750Z",
     "iopub.status.busy": "2021-03-06T13:20:34.843111Z",
     "iopub.status.idle": "2021-03-06T13:20:36.389445Z",
     "shell.execute_reply": "2021-03-06T13:20:36.389956Z"
    },
    "papermill": {
     "duration": 1.558152,
     "end_time": "2021-03-06T13:20:36.390125",
     "exception": false,
     "start_time": "2021-03-06T13:20:34.831973",
     "status": "completed"
    },
    "tags": []
   },
   "outputs": [],
   "source": [
    "df, features = feature_engineering(df)"
   ]
  },
  {
   "cell_type": "markdown",
   "metadata": {
    "papermill": {
     "duration": 0.008645,
     "end_time": "2021-03-06T13:20:36.407821",
     "exception": false,
     "start_time": "2021-03-06T13:20:36.399176",
     "status": "completed"
    },
    "tags": []
   },
   "source": [
    "## OPTIMIZING"
   ]
  },
  {
   "cell_type": "code",
   "execution_count": 6,
   "metadata": {
    "execution": {
     "iopub.execute_input": "2021-03-06T13:20:36.428818Z",
     "iopub.status.busy": "2021-03-06T13:20:36.428227Z",
     "iopub.status.idle": "2021-03-06T13:20:36.493009Z",
     "shell.execute_reply": "2021-03-06T13:20:36.492384Z"
    },
    "papermill": {
     "duration": 0.076326,
     "end_time": "2021-03-06T13:20:36.493154",
     "exception": false,
     "start_time": "2021-03-06T13:20:36.416828",
     "status": "completed"
    },
    "tags": []
   },
   "outputs": [],
   "source": [
    "def objective(trial, data=df[features], target=target):\n",
    "    \n",
    "    train_x, test_x, train_y, test_y = train_test_split(data, target, test_size=0.2,random_state=95)\n",
    "    param = {\n",
    "        'loss_function' : \"CrossEntropy\",\n",
    "        'custom_metric': 'Accuracy', \n",
    "        'random_state': 95,\n",
    "        'n_estimators': 10000,\n",
    "        'reg_lambda': trial.suggest_loguniform('reg_lambda', 1e-3, 10.0),\n",
    "        'colsample_bylevel': trial.suggest_categorical('colsample_bytree', [0.1,0.2,0.3,0.4,0.5,0.6,0.7,0.8,0.9, 1.0]),\n",
    "        'subsample': trial.suggest_categorical('subsample', [0.4,0.5,0.6,0.7,0.8,1.0]),\n",
    "        'learning_rate': trial.suggest_categorical('learning_rate', [0.006,0.008,0.01,0.014,0.017,0.02]),\n",
    "        'max_depth': trial.suggest_categorical('max_depth', [2,4,8,16]),\n",
    "        'min_child_samples': trial.suggest_int('min_child_samples', 1, 300),\n",
    "\n",
    "    }\n",
    "    model = ctb.CatBoostClassifier(**param)  \n",
    "    \n",
    "    model.fit(train_x,train_y, eval_set=[(test_x,test_y)], early_stopping_rounds=100, verbose=100)\n",
    "    \n",
    "    preds = model.predict(test_x)\n",
    "    \n",
    "    acc = accuracy_score(test_y, preds)\n",
    "    \n",
    "    return acc"
   ]
  },
  {
   "cell_type": "code",
   "execution_count": 7,
   "metadata": {
    "execution": {
     "iopub.execute_input": "2021-03-06T13:20:36.520399Z",
     "iopub.status.busy": "2021-03-06T13:20:36.519566Z",
     "iopub.status.idle": "2021-03-06T18:21:47.045614Z",
     "shell.execute_reply": "2021-03-06T18:21:47.045122Z"
    },
    "papermill": {
     "duration": 18070.541965,
     "end_time": "2021-03-06T18:21:47.045753",
     "exception": false,
     "start_time": "2021-03-06T13:20:36.503788",
     "status": "completed"
    },
    "tags": [
     "outputPrepend"
    ]
   },
   "outputs": [
    {
     "output_type": "stream",
     "name": "stderr",
     "text": [
      "4885157 (4800)\ttotal: 40.2s\tremaining: 43.6s\n",
      "4900:\tlearn: 0.4852331\ttest: 0.4884832\tbest: 0.4884831 (4899)\ttotal: 41.1s\tremaining: 42.7s\n",
      "5000:\tlearn: 0.4851760\ttest: 0.4884378\tbest: 0.4884378 (5000)\ttotal: 42s\tremaining: 42s\n",
      "5100:\tlearn: 0.4851231\ttest: 0.4883972\tbest: 0.4883972 (5100)\ttotal: 42.6s\tremaining: 41s\n",
      "5200:\tlearn: 0.4850708\ttest: 0.4883565\tbest: 0.4883562 (5199)\ttotal: 43.3s\tremaining: 40s\n",
      "5300:\tlearn: 0.4850170\ttest: 0.4883094\tbest: 0.4883094 (5300)\ttotal: 44s\tremaining: 39s\n",
      "5400:\tlearn: 0.4849675\ttest: 0.4882748\tbest: 0.4882742 (5392)\ttotal: 44.8s\tremaining: 38.2s\n",
      "5500:\tlearn: 0.4849207\ttest: 0.4882426\tbest: 0.4882425 (5499)\ttotal: 45.6s\tremaining: 37.3s\n",
      "5600:\tlearn: 0.4848734\ttest: 0.4882085\tbest: 0.4882085 (5598)\ttotal: 46.2s\tremaining: 36.3s\n",
      "5700:\tlearn: 0.4848299\ttest: 0.4881777\tbest: 0.4881777 (5700)\ttotal: 46.9s\tremaining: 35.4s\n",
      "5800:\tlearn: 0.4847856\ttest: 0.4881480\tbest: 0.4881480 (5800)\ttotal: 47.5s\tremaining: 34.4s\n",
      "5900:\tlearn: 0.4847448\ttest: 0.4881163\tbest: 0.4881163 (5900)\ttotal: 48.2s\tremaining: 33.5s\n",
      "6000:\tlearn: 0.4847034\ttest: 0.4880896\tbest: 0.4880896 (6000)\ttotal: 48.9s\tremaining: 32.6s\n",
      "6100:\tlearn: 0.4846585\ttest: 0.4880583\tbest: 0.4880583 (6100)\ttotal: 49.6s\tremaining: 31.7s\n",
      "6200:\tlearn: 0.4846164\ttest: 0.4880325\tbest: 0.4880325 (6200)\ttotal: 50.3s\tremaining: 30.8s\n",
      "6300:\tlearn: 0.4845734\ttest: 0.4880042\tbest: 0.4880042 (6300)\ttotal: 50.9s\tremaining: 29.9s\n",
      "6400:\tlearn: 0.4845351\ttest: 0.4879794\tbest: 0.4879794 (6398)\ttotal: 51.6s\tremaining: 29s\n",
      "6500:\tlearn: 0.4844941\ttest: 0.4879550\tbest: 0.4879550 (6500)\ttotal: 52.2s\tremaining: 28.1s\n",
      "6600:\tlearn: 0.4844578\ttest: 0.4879314\tbest: 0.4879312 (6599)\ttotal: 52.9s\tremaining: 27.2s\n",
      "6700:\tlearn: 0.4844229\ttest: 0.4879087\tbest: 0.4879087 (6700)\ttotal: 53.6s\tremaining: 26.4s\n",
      "6800:\tlearn: 0.4843868\ttest: 0.4878827\tbest: 0.4878823 (6798)\ttotal: 54.3s\tremaining: 25.5s\n",
      "6900:\tlearn: 0.4843534\ttest: 0.4878638\tbest: 0.4878638 (6900)\ttotal: 55s\tremaining: 24.7s\n",
      "7000:\tlearn: 0.4843190\ttest: 0.4878418\tbest: 0.4878418 (7000)\ttotal: 55.6s\tremaining: 23.8s\n",
      "7100:\tlearn: 0.4842800\ttest: 0.4878118\tbest: 0.4878117 (7098)\ttotal: 56.3s\tremaining: 23s\n",
      "7200:\tlearn: 0.4842487\ttest: 0.4877967\tbest: 0.4877949 (7191)\ttotal: 56.9s\tremaining: 22.1s\n",
      "7300:\tlearn: 0.4842143\ttest: 0.4877742\tbest: 0.4877742 (7300)\ttotal: 57.6s\tremaining: 21.3s\n",
      "7400:\tlearn: 0.4841802\ttest: 0.4877510\tbest: 0.4877510 (7400)\ttotal: 58.2s\tremaining: 20.4s\n",
      "7500:\tlearn: 0.4841424\ttest: 0.4877269\tbest: 0.4877266 (7499)\ttotal: 58.8s\tremaining: 19.6s\n",
      "7600:\tlearn: 0.4841073\ttest: 0.4877057\tbest: 0.4877057 (7600)\ttotal: 59.5s\tremaining: 18.8s\n",
      "7700:\tlearn: 0.4840782\ttest: 0.4876926\tbest: 0.4876916 (7693)\ttotal: 1m\tremaining: 18s\n",
      "7800:\tlearn: 0.4840481\ttest: 0.4876752\tbest: 0.4876752 (7800)\ttotal: 1m\tremaining: 17.1s\n",
      "7900:\tlearn: 0.4840151\ttest: 0.4876548\tbest: 0.4876548 (7900)\ttotal: 1m 1s\tremaining: 16.3s\n",
      "8000:\tlearn: 0.4839846\ttest: 0.4876296\tbest: 0.4876285 (7995)\ttotal: 1m 2s\tremaining: 15.5s\n",
      "8100:\tlearn: 0.4839542\ttest: 0.4876087\tbest: 0.4876081 (8096)\ttotal: 1m 2s\tremaining: 14.7s\n",
      "8200:\tlearn: 0.4839263\ttest: 0.4876001\tbest: 0.4876000 (8197)\ttotal: 1m 3s\tremaining: 13.9s\n",
      "8300:\tlearn: 0.4838994\ttest: 0.4875850\tbest: 0.4875850 (8300)\ttotal: 1m 4s\tremaining: 13.1s\n",
      "8400:\tlearn: 0.4838723\ttest: 0.4875717\tbest: 0.4875716 (8399)\ttotal: 1m 4s\tremaining: 12.3s\n",
      "8500:\tlearn: 0.4838437\ttest: 0.4875608\tbest: 0.4875600 (8498)\ttotal: 1m 5s\tremaining: 11.5s\n",
      "8600:\tlearn: 0.4838161\ttest: 0.4875367\tbest: 0.4875365 (8596)\ttotal: 1m 6s\tremaining: 10.7s\n",
      "8700:\tlearn: 0.4837888\ttest: 0.4875273\tbest: 0.4875273 (8700)\ttotal: 1m 6s\tremaining: 9.95s\n",
      "8800:\tlearn: 0.4837605\ttest: 0.4875081\tbest: 0.4875081 (8800)\ttotal: 1m 7s\tremaining: 9.17s\n",
      "8900:\tlearn: 0.4837299\ttest: 0.4874895\tbest: 0.4874894 (8899)\ttotal: 1m 7s\tremaining: 8.39s\n",
      "9000:\tlearn: 0.4837075\ttest: 0.4874799\tbest: 0.4874799 (9000)\ttotal: 1m 8s\tremaining: 7.61s\n",
      "9100:\tlearn: 0.4836858\ttest: 0.4874747\tbest: 0.4874747 (9100)\ttotal: 1m 9s\tremaining: 6.84s\n",
      "9200:\tlearn: 0.4836613\ttest: 0.4874631\tbest: 0.4874631 (9200)\ttotal: 1m 9s\tremaining: 6.07s\n",
      "9300:\tlearn: 0.4836382\ttest: 0.4874523\tbest: 0.4874522 (9299)\ttotal: 1m 10s\tremaining: 5.3s\n",
      "9400:\tlearn: 0.4836114\ttest: 0.4874344\tbest: 0.4874343 (9396)\ttotal: 1m 11s\tremaining: 4.54s\n",
      "9500:\tlearn: 0.4835893\ttest: 0.4874259\tbest: 0.4874258 (9490)\ttotal: 1m 11s\tremaining: 3.78s\n",
      "9600:\tlearn: 0.4835668\ttest: 0.4874237\tbest: 0.4874220 (9595)\ttotal: 1m 12s\tremaining: 3.01s\n",
      "9700:\tlearn: 0.4835397\ttest: 0.4874092\tbest: 0.4874092 (9700)\ttotal: 1m 13s\tremaining: 2.25s\n",
      "9800:\tlearn: 0.4835144\ttest: 0.4873980\tbest: 0.4873980 (9799)\ttotal: 1m 13s\tremaining: 1.5s\n",
      "9900:\tlearn: 0.4834924\ttest: 0.4873832\tbest: 0.4873830 (9898)\ttotal: 1m 14s\tremaining: 745ms\n",
      "9999:\tlearn: 0.4834685\ttest: 0.4873720\tbest: 0.4873720 (9999)\ttotal: 1m 15s\tremaining: 0us\n",
      "\n",
      "bestTest = 0.4873720112\n",
      "bestIteration = 9999\n",
      "\n",
      "\u001b[32m[I 2021-04-09 19:16:05,554]\u001b[0m Trial 29 finished with value: 0.77205 and parameters: {'reg_lambda': 6.198590290321963, 'colsample_bytree': 0.8, 'subsample': 0.4, 'learning_rate': 0.006, 'max_depth': 2, 'min_child_samples': 143}. Best is trial 10 with value: 0.77245.\u001b[0m\n",
      "0:\tlearn: 0.6907013\ttest: 0.6907084\tbest: 0.6907084 (0)\ttotal: 7.12ms\tremaining: 1m 11s\n",
      "100:\tlearn: 0.5754902\ttest: 0.5768866\tbest: 0.5768866 (100)\ttotal: 1.26s\tremaining: 2m 3s\n",
      "200:\tlearn: 0.5254604\ttest: 0.5278601\tbest: 0.5278601 (200)\ttotal: 2.08s\tremaining: 1m 41s\n",
      "300:\tlearn: 0.5052107\ttest: 0.5081970\tbest: 0.5081970 (300)\ttotal: 2.85s\tremaining: 1m 31s\n",
      "400:\tlearn: 0.4971537\ttest: 0.5005846\tbest: 0.5005846 (400)\ttotal: 3.64s\tremaining: 1m 27s\n",
      "500:\tlearn: 0.4922083\ttest: 0.4959708\tbest: 0.4959708 (500)\ttotal: 4.44s\tremaining: 1m 24s\n",
      "600:\tlearn: 0.4897650\ttest: 0.4937586\tbest: 0.4937586 (600)\ttotal: 5.15s\tremaining: 1m 20s\n",
      "700:\tlearn: 0.4879782\ttest: 0.4923032\tbest: 0.4923032 (700)\ttotal: 6.01s\tremaining: 1m 19s\n",
      "800:\tlearn: 0.4865705\ttest: 0.4912117\tbest: 0.4912117 (800)\ttotal: 7.07s\tremaining: 1m 21s\n",
      "900:\tlearn: 0.4853730\ttest: 0.4903524\tbest: 0.4903524 (900)\ttotal: 8.01s\tremaining: 1m 20s\n",
      "1000:\tlearn: 0.4846427\ttest: 0.4898516\tbest: 0.4898516 (1000)\ttotal: 8.77s\tremaining: 1m 18s\n",
      "1100:\tlearn: 0.4838858\ttest: 0.4894220\tbest: 0.4894220 (1100)\ttotal: 9.57s\tremaining: 1m 17s\n",
      "1200:\tlearn: 0.4830567\ttest: 0.4889881\tbest: 0.4889881 (1199)\ttotal: 10.5s\tremaining: 1m 17s\n",
      "1300:\tlearn: 0.4824186\ttest: 0.4886302\tbest: 0.4886302 (1300)\ttotal: 11.9s\tremaining: 1m 19s\n",
      "1400:\tlearn: 0.4816677\ttest: 0.4882779\tbest: 0.4882779 (1400)\ttotal: 12.8s\tremaining: 1m 18s\n",
      "1500:\tlearn: 0.4809712\ttest: 0.4879723\tbest: 0.4879723 (1499)\ttotal: 13.7s\tremaining: 1m 17s\n",
      "1600:\tlearn: 0.4801004\ttest: 0.4877056\tbest: 0.4877056 (1600)\ttotal: 15.7s\tremaining: 1m 22s\n",
      "1700:\tlearn: 0.4792277\ttest: 0.4875090\tbest: 0.4874836 (1697)\ttotal: 16.7s\tremaining: 1m 21s\n",
      "1800:\tlearn: 0.4783939\ttest: 0.4872890\tbest: 0.4872890 (1800)\ttotal: 17.7s\tremaining: 1m 21s\n",
      "1900:\tlearn: 0.4778145\ttest: 0.4871438\tbest: 0.4871438 (1900)\ttotal: 19.3s\tremaining: 1m 22s\n",
      "2000:\tlearn: 0.4768861\ttest: 0.4869054\tbest: 0.4869054 (2000)\ttotal: 20.7s\tremaining: 1m 23s\n",
      "2100:\tlearn: 0.4762135\ttest: 0.4867841\tbest: 0.4867823 (2099)\ttotal: 22.3s\tremaining: 1m 24s\n",
      "2200:\tlearn: 0.4757807\ttest: 0.4866663\tbest: 0.4866663 (2200)\ttotal: 23.2s\tremaining: 1m 22s\n",
      "2300:\tlearn: 0.4751985\ttest: 0.4865364\tbest: 0.4865364 (2300)\ttotal: 24.8s\tremaining: 1m 23s\n",
      "2400:\tlearn: 0.4744984\ttest: 0.4864036\tbest: 0.4864030 (2399)\ttotal: 26.6s\tremaining: 1m 24s\n",
      "2500:\tlearn: 0.4733806\ttest: 0.4863423\tbest: 0.4863423 (2500)\ttotal: 28.8s\tremaining: 1m 26s\n",
      "2600:\tlearn: 0.4726033\ttest: 0.4862354\tbest: 0.4862332 (2599)\ttotal: 30.3s\tremaining: 1m 26s\n",
      "2700:\tlearn: 0.4721867\ttest: 0.4861845\tbest: 0.4861812 (2695)\ttotal: 31.2s\tremaining: 1m 24s\n",
      "2800:\tlearn: 0.4717700\ttest: 0.4861288\tbest: 0.4861246 (2786)\ttotal: 32.6s\tremaining: 1m 24s\n",
      "2900:\tlearn: 0.4713772\ttest: 0.4861046\tbest: 0.4860961 (2885)\ttotal: 33.8s\tremaining: 1m 23s\n",
      "3000:\tlearn: 0.4709797\ttest: 0.4860793\tbest: 0.4860793 (2998)\ttotal: 35.1s\tremaining: 1m 22s\n",
      "3100:\tlearn: 0.4705968\ttest: 0.4860307\tbest: 0.4860307 (3100)\ttotal: 36.7s\tremaining: 1m 22s\n",
      "3200:\tlearn: 0.4701626\ttest: 0.4860065\tbest: 0.4860065 (3199)\ttotal: 37.6s\tremaining: 1m 20s\n",
      "3300:\tlearn: 0.4697619\ttest: 0.4859872\tbest: 0.4859872 (3300)\ttotal: 38.5s\tremaining: 1m 18s\n",
      "3400:\tlearn: 0.4690356\ttest: 0.4859932\tbest: 0.4859772 (3316)\ttotal: 39.6s\tremaining: 1m 17s\n",
      "Stopped by overfitting detector  (100 iterations wait)\n",
      "\n",
      "bestTest = 0.4859771788\n",
      "bestIteration = 3316\n",
      "\n",
      "Shrink model to first 3317 iterations.\n",
      "\u001b[32m[I 2021-04-09 19:17:27,256]\u001b[0m Trial 30 finished with value: 0.77215 and parameters: {'reg_lambda': 0.24135780833796772, 'colsample_bytree': 0.2, 'subsample': 0.7, 'learning_rate': 0.008, 'max_depth': 16, 'min_child_samples': 229}. Best is trial 10 with value: 0.77245.\u001b[0m\n",
      "0:\tlearn: 0.6907013\ttest: 0.6907084\tbest: 0.6907084 (0)\ttotal: 6.94ms\tremaining: 1m 9s\n",
      "100:\tlearn: 0.5721754\ttest: 0.5735810\tbest: 0.5735810 (100)\ttotal: 1.14s\tremaining: 1m 51s\n",
      "200:\tlearn: 0.5271743\ttest: 0.5293449\tbest: 0.5293449 (200)\ttotal: 1.87s\tremaining: 1m 31s\n",
      "300:\tlearn: 0.5059164\ttest: 0.5088832\tbest: 0.5088832 (300)\ttotal: 3.17s\tremaining: 1m 42s\n",
      "400:\tlearn: 0.4971164\ttest: 0.5004720\tbest: 0.5004720 (400)\ttotal: 3.86s\tremaining: 1m 32s\n",
      "500:\tlearn: 0.4922666\ttest: 0.4960503\tbest: 0.4960503 (500)\ttotal: 4.67s\tremaining: 1m 28s\n",
      "600:\tlearn: 0.4894536\ttest: 0.4934793\tbest: 0.4934793 (600)\ttotal: 5.47s\tremaining: 1m 25s\n",
      "700:\tlearn: 0.4874778\ttest: 0.4918828\tbest: 0.4918828 (700)\ttotal: 6.64s\tremaining: 1m 28s\n",
      "800:\tlearn: 0.4860938\ttest: 0.4908360\tbest: 0.4908360 (800)\ttotal: 7.55s\tremaining: 1m 26s\n",
      "900:\tlearn: 0.4852490\ttest: 0.4901724\tbest: 0.4901724 (900)\ttotal: 8.32s\tremaining: 1m 24s\n",
      "1000:\tlearn: 0.4845252\ttest: 0.4896752\tbest: 0.4896752 (1000)\ttotal: 9.16s\tremaining: 1m 22s\n",
      "1100:\tlearn: 0.4840854\ttest: 0.4893543\tbest: 0.4893543 (1100)\ttotal: 9.87s\tremaining: 1m 19s\n",
      "1200:\tlearn: 0.4833929\ttest: 0.4889562\tbest: 0.4889562 (1199)\ttotal: 10.8s\tremaining: 1m 19s\n",
      "1300:\tlearn: 0.4827940\ttest: 0.4886180\tbest: 0.4886180 (1300)\ttotal: 11.8s\tremaining: 1m 19s\n",
      "1400:\tlearn: 0.4816415\ttest: 0.4881641\tbest: 0.4881641 (1398)\ttotal: 12.7s\tremaining: 1m 18s\n",
      "1500:\tlearn: 0.4804027\ttest: 0.4878434\tbest: 0.4878433 (1498)\ttotal: 13.6s\tremaining: 1m 17s\n",
      "1600:\tlearn: 0.4794843\ttest: 0.4875276\tbest: 0.4875276 (1599)\ttotal: 15.1s\tremaining: 1m 19s\n",
      "1700:\tlearn: 0.4785191\ttest: 0.4872663\tbest: 0.4872663 (1698)\ttotal: 16.5s\tremaining: 1m 20s\n",
      "1800:\tlearn: 0.4778724\ttest: 0.4870718\tbest: 0.4870711 (1799)\ttotal: 17.5s\tremaining: 1m 20s\n",
      "1900:\tlearn: 0.4770741\ttest: 0.4869622\tbest: 0.4869622 (1900)\ttotal: 18.4s\tremaining: 1m 18s\n",
      "2000:\tlearn: 0.4764285\ttest: 0.4868054\tbest: 0.4868054 (1999)\ttotal: 19.6s\tremaining: 1m 18s\n",
      "2100:\tlearn: 0.4759638\ttest: 0.4866913\tbest: 0.4866913 (2100)\ttotal: 20.5s\tremaining: 1m 17s\n",
      "2200:\tlearn: 0.4755966\ttest: 0.4865719\tbest: 0.4865719 (2200)\ttotal: 21.9s\tremaining: 1m 18s\n",
      "2300:\tlearn: 0.4750142\ttest: 0.4864209\tbest: 0.4864209 (2300)\ttotal: 23.1s\tremaining: 1m 17s\n",
      "2400:\tlearn: 0.4744187\ttest: 0.4863438\tbest: 0.4863438 (2400)\ttotal: 24.5s\tremaining: 1m 17s\n",
      "2500:\tlearn: 0.4739636\ttest: 0.4862433\tbest: 0.4862433 (2499)\ttotal: 25.5s\tremaining: 1m 16s\n",
      "2600:\tlearn: 0.4729078\ttest: 0.4861404\tbest: 0.4861403 (2599)\ttotal: 26.8s\tremaining: 1m 16s\n",
      "2700:\tlearn: 0.4725527\ttest: 0.4860766\tbest: 0.4860760 (2682)\ttotal: 28s\tremaining: 1m 16s\n",
      "2800:\tlearn: 0.4721979\ttest: 0.4860263\tbest: 0.4860231 (2794)\ttotal: 29.1s\tremaining: 1m 15s\n",
      "2900:\tlearn: 0.4717484\ttest: 0.4859733\tbest: 0.4859717 (2890)\ttotal: 30.4s\tremaining: 1m 14s\n",
      "3000:\tlearn: 0.4712072\ttest: 0.4859666\tbest: 0.4859542 (2982)\ttotal: 32.1s\tremaining: 1m 15s\n",
      "3100:\tlearn: 0.4707878\ttest: 0.4859343\tbest: 0.4859314 (3088)\ttotal: 33.2s\tremaining: 1m 14s\n",
      "3200:\tlearn: 0.4704711\ttest: 0.4859175\tbest: 0.4859140 (3171)\ttotal: 34s\tremaining: 1m 12s\n",
      "3300:\tlearn: 0.4701462\ttest: 0.4858980\tbest: 0.4858933 (3278)\ttotal: 34.9s\tremaining: 1m 11s\n",
      "3400:\tlearn: 0.4696771\ttest: 0.4858825\tbest: 0.4858804 (3397)\ttotal: 36.4s\tremaining: 1m 11s\n",
      "3500:\tlearn: 0.4690734\ttest: 0.4858810\tbest: 0.4858512 (3440)\ttotal: 38.5s\tremaining: 1m 11s\n",
      "Stopped by overfitting detector  (100 iterations wait)\n",
      "\n",
      "bestTest = 0.4858512029\n",
      "bestIteration = 3440\n",
      "\n",
      "Shrink model to first 3441 iterations.\n",
      "\u001b[32m[I 2021-04-09 19:19:01,404]\u001b[0m Trial 31 finished with value: 0.7718 and parameters: {'reg_lambda': 0.31392545357780893, 'colsample_bytree': 0.2, 'subsample': 0.7, 'learning_rate': 0.008, 'max_depth': 16, 'min_child_samples': 224}. Best is trial 10 with value: 0.77245.\u001b[0m\n",
      "0:\tlearn: 0.6907013\ttest: 0.6907084\tbest: 0.6907084 (0)\ttotal: 10.9ms\tremaining: 1m 49s\n",
      "100:\tlearn: 0.5671677\ttest: 0.5686014\tbest: 0.5686014 (100)\ttotal: 1.8s\tremaining: 2m 56s\n",
      "200:\tlearn: 0.5241735\ttest: 0.5265771\tbest: 0.5265771 (200)\ttotal: 2.89s\tremaining: 2m 20s\n",
      "300:\tlearn: 0.5045692\ttest: 0.5076353\tbest: 0.5076353 (300)\ttotal: 3.85s\tremaining: 2m 3s\n",
      "400:\tlearn: 0.4961685\ttest: 0.4996315\tbest: 0.4996315 (400)\ttotal: 4.76s\tremaining: 1m 54s\n",
      "500:\tlearn: 0.4921789\ttest: 0.4958906\tbest: 0.4958906 (500)\ttotal: 5.66s\tremaining: 1m 47s\n",
      "600:\tlearn: 0.4889132\ttest: 0.4930904\tbest: 0.4930904 (600)\ttotal: 6.86s\tremaining: 1m 47s\n",
      "700:\tlearn: 0.4871024\ttest: 0.4915211\tbest: 0.4915211 (700)\ttotal: 7.81s\tremaining: 1m 43s\n",
      "800:\tlearn: 0.4856076\ttest: 0.4905854\tbest: 0.4905854 (800)\ttotal: 9.66s\tremaining: 1m 50s\n",
      "900:\tlearn: 0.4846837\ttest: 0.4899450\tbest: 0.4899450 (900)\ttotal: 10.7s\tremaining: 1m 48s\n",
      "1000:\tlearn: 0.4841510\ttest: 0.4895621\tbest: 0.4895621 (1000)\ttotal: 11.6s\tremaining: 1m 44s\n",
      "1100:\tlearn: 0.4832850\ttest: 0.4890790\tbest: 0.4890790 (1100)\ttotal: 13.1s\tremaining: 1m 45s\n",
      "1200:\tlearn: 0.4825102\ttest: 0.4886731\tbest: 0.4886731 (1199)\ttotal: 14.6s\tremaining: 1m 46s\n",
      "1300:\tlearn: 0.4816728\ttest: 0.4883262\tbest: 0.4883262 (1300)\ttotal: 15.7s\tremaining: 1m 44s\n",
      "1400:\tlearn: 0.4812016\ttest: 0.4880778\tbest: 0.4880778 (1400)\ttotal: 16.8s\tremaining: 1m 42s\n",
      "1500:\tlearn: 0.4795883\ttest: 0.4877768\tbest: 0.4877768 (1499)\ttotal: 17.8s\tremaining: 1m 41s\n",
      "1600:\tlearn: 0.4787699\ttest: 0.4875181\tbest: 0.4875180 (1599)\ttotal: 19.9s\tremaining: 1m 44s\n",
      "1700:\tlearn: 0.4780025\ttest: 0.4872887\tbest: 0.4872887 (1700)\ttotal: 21.2s\tremaining: 1m 43s\n",
      "1800:\tlearn: 0.4772894\ttest: 0.4870795\tbest: 0.4870794 (1798)\ttotal: 22.9s\tremaining: 1m 44s\n",
      "1900:\tlearn: 0.4764671\ttest: 0.4868964\tbest: 0.4868958 (1899)\ttotal: 25s\tremaining: 1m 46s\n",
      "2000:\tlearn: 0.4755124\ttest: 0.4867146\tbest: 0.4867146 (2000)\ttotal: 26.8s\tremaining: 1m 47s\n",
      "2100:\tlearn: 0.4747852\ttest: 0.4865570\tbest: 0.4865570 (2100)\ttotal: 28.3s\tremaining: 1m 46s\n",
      "2200:\tlearn: 0.4743121\ttest: 0.4863923\tbest: 0.4863918 (2194)\ttotal: 29.5s\tremaining: 1m 45s\n",
      "2300:\tlearn: 0.4735463\ttest: 0.4863307\tbest: 0.4863307 (2300)\ttotal: 31.1s\tremaining: 1m 44s\n",
      "2400:\tlearn: 0.4729000\ttest: 0.4862405\tbest: 0.4862405 (2400)\ttotal: 32.4s\tremaining: 1m 43s\n",
      "2500:\tlearn: 0.4719236\ttest: 0.4862099\tbest: 0.4862008 (2495)\ttotal: 34.3s\tremaining: 1m 43s\n",
      "2600:\tlearn: 0.4712083\ttest: 0.4861325\tbest: 0.4861325 (2600)\ttotal: 36.2s\tremaining: 1m 43s\n",
      "2700:\tlearn: 0.4707777\ttest: 0.4861108\tbest: 0.4861089 (2671)\ttotal: 38.4s\tremaining: 1m 44s\n",
      "2800:\tlearn: 0.4704705\ttest: 0.4860573\tbest: 0.4860568 (2793)\ttotal: 39.6s\tremaining: 1m 42s\n",
      "2900:\tlearn: 0.4701532\ttest: 0.4860395\tbest: 0.4860388 (2895)\ttotal: 40.7s\tremaining: 1m 40s\n",
      "3000:\tlearn: 0.4695911\ttest: 0.4860209\tbest: 0.4860174 (2984)\ttotal: 42.7s\tremaining: 1m 40s\n",
      "3100:\tlearn: 0.4692394\ttest: 0.4859817\tbest: 0.4859817 (3100)\ttotal: 44.6s\tremaining: 1m 39s\n",
      "3200:\tlearn: 0.4687461\ttest: 0.4859474\tbest: 0.4859417 (3174)\ttotal: 46.1s\tremaining: 1m 38s\n",
      "3300:\tlearn: 0.4683251\ttest: 0.4859300\tbest: 0.4859287 (3292)\ttotal: 47.3s\tremaining: 1m 36s\n",
      "Stopped by overfitting detector  (100 iterations wait)\n",
      "\n",
      "bestTest = 0.4859287232\n",
      "bestIteration = 3292\n",
      "\n",
      "Shrink model to first 3293 iterations.\n",
      "\u001b[32m[I 2021-04-09 19:20:36,635]\u001b[0m Trial 32 finished with value: 0.7715 and parameters: {'reg_lambda': 0.11756373616380413, 'colsample_bytree': 0.2, 'subsample': 0.7, 'learning_rate': 0.008, 'max_depth': 16, 'min_child_samples': 271}. Best is trial 10 with value: 0.77245.\u001b[0m\n",
      "0:\tlearn: 0.6907013\ttest: 0.6907084\tbest: 0.6907084 (0)\ttotal: 7.8ms\tremaining: 1m 18s\n",
      "100:\tlearn: 0.5698158\ttest: 0.5712463\tbest: 0.5712463 (100)\ttotal: 994ms\tremaining: 1m 37s\n",
      "200:\tlearn: 0.5240980\ttest: 0.5264817\tbest: 0.5264817 (200)\ttotal: 2.19s\tremaining: 1m 47s\n",
      "300:\tlearn: 0.5051764\ttest: 0.5081999\tbest: 0.5081999 (300)\ttotal: 3.35s\tremaining: 1m 48s\n",
      "400:\tlearn: 0.4968361\ttest: 0.5003410\tbest: 0.5003410 (400)\ttotal: 4.67s\tremaining: 1m 51s\n",
      "500:\tlearn: 0.4925113\ttest: 0.4963566\tbest: 0.4963566 (500)\ttotal: 6.1s\tremaining: 1m 55s\n",
      "600:\tlearn: 0.4898815\ttest: 0.4939068\tbest: 0.4939068 (600)\ttotal: 7.45s\tremaining: 1m 56s\n",
      "700:\tlearn: 0.4879092\ttest: 0.4921585\tbest: 0.4921585 (700)\ttotal: 8.71s\tremaining: 1m 55s\n",
      "800:\tlearn: 0.4862869\ttest: 0.4910184\tbest: 0.4910184 (800)\ttotal: 10.5s\tremaining: 2m\n",
      "900:\tlearn: 0.4852749\ttest: 0.4903081\tbest: 0.4903081 (899)\ttotal: 11.4s\tremaining: 1m 55s\n",
      "1000:\tlearn: 0.4846084\ttest: 0.4897969\tbest: 0.4897969 (1000)\ttotal: 12.2s\tremaining: 1m 50s\n",
      "1100:\tlearn: 0.4838541\ttest: 0.4893468\tbest: 0.4893468 (1100)\ttotal: 13.4s\tremaining: 1m 48s\n",
      "1200:\tlearn: 0.4832080\ttest: 0.4889460\tbest: 0.4889460 (1200)\ttotal: 14.3s\tremaining: 1m 44s\n",
      "1300:\tlearn: 0.4824525\ttest: 0.4886221\tbest: 0.4886221 (1300)\ttotal: 15.5s\tremaining: 1m 43s\n",
      "1400:\tlearn: 0.4814093\ttest: 0.4882411\tbest: 0.4882411 (1399)\ttotal: 17.2s\tremaining: 1m 46s\n",
      "1500:\tlearn: 0.4808348\ttest: 0.4880143\tbest: 0.4880141 (1498)\ttotal: 18.3s\tremaining: 1m 44s\n",
      "1600:\tlearn: 0.4796367\ttest: 0.4876834\tbest: 0.4876834 (1600)\ttotal: 19.9s\tremaining: 1m 45s\n",
      "1700:\tlearn: 0.4790083\ttest: 0.4874433\tbest: 0.4874433 (1700)\ttotal: 21.4s\tremaining: 1m 44s\n",
      "1800:\tlearn: 0.4784439\ttest: 0.4872653\tbest: 0.4872653 (1800)\ttotal: 22.4s\tremaining: 1m 42s\n",
      "1900:\tlearn: 0.4777276\ttest: 0.4871080\tbest: 0.4871080 (1900)\ttotal: 23.7s\tremaining: 1m 41s\n",
      "2000:\tlearn: 0.4768617\ttest: 0.4869055\tbest: 0.4869055 (1999)\ttotal: 24.8s\tremaining: 1m 39s\n",
      "2100:\tlearn: 0.4762738\ttest: 0.4867808\tbest: 0.4867808 (2099)\ttotal: 25.7s\tremaining: 1m 37s\n",
      "2200:\tlearn: 0.4758375\ttest: 0.4866771\tbest: 0.4866679 (2195)\ttotal: 26.8s\tremaining: 1m 35s\n",
      "2300:\tlearn: 0.4753636\ttest: 0.4865618\tbest: 0.4865618 (2300)\ttotal: 28.4s\tremaining: 1m 35s\n",
      "2400:\tlearn: 0.4747882\ttest: 0.4864715\tbest: 0.4864715 (2400)\ttotal: 29.8s\tremaining: 1m 34s\n",
      "2500:\tlearn: 0.4743781\ttest: 0.4863770\tbest: 0.4863764 (2495)\ttotal: 31.4s\tremaining: 1m 34s\n",
      "2600:\tlearn: 0.4733577\ttest: 0.4862690\tbest: 0.4862689 (2594)\ttotal: 33.7s\tremaining: 1m 36s\n",
      "2700:\tlearn: 0.4729351\ttest: 0.4862047\tbest: 0.4862047 (2700)\ttotal: 35.3s\tremaining: 1m 35s\n",
      "2800:\tlearn: 0.4722276\ttest: 0.4861412\tbest: 0.4861412 (2800)\ttotal: 36.7s\tremaining: 1m 34s\n",
      "2900:\tlearn: 0.4718656\ttest: 0.4860860\tbest: 0.4860860 (2900)\ttotal: 37.7s\tremaining: 1m 32s\n",
      "3000:\tlearn: 0.4714806\ttest: 0.4860615\tbest: 0.4860554 (2964)\ttotal: 39.1s\tremaining: 1m 31s\n",
      "3100:\tlearn: 0.4711290\ttest: 0.4860316\tbest: 0.4860308 (3095)\ttotal: 41.3s\tremaining: 1m 32s\n",
      "3200:\tlearn: 0.4707618\ttest: 0.4860068\tbest: 0.4860043 (3192)\ttotal: 42.3s\tremaining: 1m 30s\n",
      "3300:\tlearn: 0.4704751\ttest: 0.4859547\tbest: 0.4859535 (3286)\ttotal: 43.3s\tremaining: 1m 28s\n",
      "3400:\tlearn: 0.4700582\ttest: 0.4859367\tbest: 0.4859254 (3355)\ttotal: 44.4s\tremaining: 1m 26s\n",
      "3500:\tlearn: 0.4694933\ttest: 0.4859210\tbest: 0.4859091 (3448)\ttotal: 46.4s\tremaining: 1m 26s\n",
      "Stopped by overfitting detector  (100 iterations wait)\n",
      "\n",
      "bestTest = 0.4859091215\n",
      "bestIteration = 3448\n",
      "\n",
      "Shrink model to first 3449 iterations.\n",
      "\u001b[32m[I 2021-04-09 19:22:02,387]\u001b[0m Trial 33 finished with value: 0.77145 and parameters: {'reg_lambda': 0.1987381582605475, 'colsample_bytree': 0.2, 'subsample': 0.7, 'learning_rate': 0.008, 'max_depth': 16, 'min_child_samples': 249}. Best is trial 10 with value: 0.77245.\u001b[0m\n",
      "0:\tlearn: 0.6895085\ttest: 0.6895464\tbest: 0.6895464 (0)\ttotal: 11.9ms\tremaining: 1m 59s\n",
      "100:\tlearn: 0.5123103\ttest: 0.5236558\tbest: 0.5236558 (100)\ttotal: 51.4s\tremaining: 1h 24m 48s\n"
     ]
    }
   ],
   "source": [
    "%%time\n",
    "study = optuna.create_study(direction='maximize')\n",
    "study.optimize(objective, timeout=3600)\n",
    "print('Number of finished trials:', len(study.trials))\n",
    "print('Best trial:', study.best_trial.params)"
   ]
  },
  {
   "cell_type": "markdown",
   "metadata": {
    "papermill": {
     "duration": 0.032302,
     "end_time": "2021-03-06T18:21:47.111046",
     "exception": false,
     "start_time": "2021-03-06T18:21:47.078744",
     "status": "completed"
    },
    "tags": []
   },
   "source": [
    "## VISUALIZATION"
   ]
  },
  {
   "cell_type": "code",
   "execution_count": 11,
   "metadata": {
    "execution": {
     "iopub.execute_input": "2021-03-06T18:21:47.183899Z",
     "iopub.status.busy": "2021-03-06T18:21:47.183303Z",
     "iopub.status.idle": "2021-03-06T18:21:47.393846Z",
     "shell.execute_reply": "2021-03-06T18:21:47.393228Z"
    },
    "papermill": {
     "duration": 0.247972,
     "end_time": "2021-03-06T18:21:47.394003",
     "exception": false,
     "start_time": "2021-03-06T18:21:47.146031",
     "status": "completed"
    },
    "tags": []
   },
   "outputs": [
    {
     "output_type": "error",
     "ename": "ImportError",
     "evalue": "Tried to import 'plotly' but failed. Please make sure that the package is installed correctly to use this feature. Actual error: No module named 'plotly'.",
     "traceback": [
      "\u001b[1;31m---------------------------------------------------------------------------\u001b[0m",
      "\u001b[1;31mModuleNotFoundError\u001b[0m                       Traceback (most recent call last)",
      "\u001b[1;32mC:\\Anaconda\\envs\\ML-37\\lib\\site-packages\\optuna\\visualization\\_plotly_imports.py\u001b[0m in \u001b[0;36m<module>\u001b[1;34m\u001b[0m\n\u001b[0;32m      6\u001b[0m \u001b[1;32mwith\u001b[0m \u001b[0mtry_import\u001b[0m\u001b[1;33m(\u001b[0m\u001b[1;33m)\u001b[0m \u001b[1;32mas\u001b[0m \u001b[0m_imports\u001b[0m\u001b[1;33m:\u001b[0m  \u001b[1;31m# NOQA\u001b[0m\u001b[1;33m\u001b[0m\u001b[1;33m\u001b[0m\u001b[0m\n\u001b[1;32m----> 7\u001b[1;33m     \u001b[1;32mimport\u001b[0m \u001b[0mplotly\u001b[0m  \u001b[1;31m# NOQA\u001b[0m\u001b[1;33m\u001b[0m\u001b[1;33m\u001b[0m\u001b[0m\n\u001b[0m\u001b[0;32m      8\u001b[0m     \u001b[1;32mfrom\u001b[0m \u001b[0mplotly\u001b[0m \u001b[1;32mimport\u001b[0m \u001b[0m__version__\u001b[0m \u001b[1;32mas\u001b[0m \u001b[0mplotly_version\u001b[0m\u001b[1;33m\u001b[0m\u001b[1;33m\u001b[0m\u001b[0m\n",
      "\u001b[1;31mModuleNotFoundError\u001b[0m: No module named 'plotly'",
      "\nThe above exception was the direct cause of the following exception:\n",
      "\u001b[1;31mImportError\u001b[0m                               Traceback (most recent call last)",
      "\u001b[1;32m<ipython-input-11-ead32857dee2>\u001b[0m in \u001b[0;36m<module>\u001b[1;34m\u001b[0m\n\u001b[1;32m----> 1\u001b[1;33m \u001b[0moptuna\u001b[0m\u001b[1;33m.\u001b[0m\u001b[0mvisualization\u001b[0m\u001b[1;33m.\u001b[0m\u001b[0mplot_optimization_history\u001b[0m\u001b[1;33m(\u001b[0m\u001b[0mstudy\u001b[0m\u001b[1;33m)\u001b[0m\u001b[1;33m\u001b[0m\u001b[1;33m\u001b[0m\u001b[0m\n\u001b[0m",
      "\u001b[1;32mC:\\Anaconda\\envs\\ML-37\\lib\\site-packages\\optuna\\visualization\\_optimization_history.py\u001b[0m in \u001b[0;36mplot_optimization_history\u001b[1;34m(study, target, target_name)\u001b[0m\n\u001b[0;32m     67\u001b[0m     \"\"\"\n\u001b[0;32m     68\u001b[0m \u001b[1;33m\u001b[0m\u001b[0m\n\u001b[1;32m---> 69\u001b[1;33m     \u001b[0m_imports\u001b[0m\u001b[1;33m.\u001b[0m\u001b[0mcheck\u001b[0m\u001b[1;33m(\u001b[0m\u001b[1;33m)\u001b[0m\u001b[1;33m\u001b[0m\u001b[1;33m\u001b[0m\u001b[0m\n\u001b[0m\u001b[0;32m     70\u001b[0m     \u001b[0m_check_plot_args\u001b[0m\u001b[1;33m(\u001b[0m\u001b[0mstudy\u001b[0m\u001b[1;33m,\u001b[0m \u001b[0mtarget\u001b[0m\u001b[1;33m,\u001b[0m \u001b[0mtarget_name\u001b[0m\u001b[1;33m)\u001b[0m\u001b[1;33m\u001b[0m\u001b[1;33m\u001b[0m\u001b[0m\n\u001b[0;32m     71\u001b[0m     \u001b[1;32mreturn\u001b[0m \u001b[0m_get_optimization_history_plot\u001b[0m\u001b[1;33m(\u001b[0m\u001b[0mstudy\u001b[0m\u001b[1;33m,\u001b[0m \u001b[0mtarget\u001b[0m\u001b[1;33m,\u001b[0m \u001b[0mtarget_name\u001b[0m\u001b[1;33m)\u001b[0m\u001b[1;33m\u001b[0m\u001b[1;33m\u001b[0m\u001b[0m\n",
      "\u001b[1;32mC:\\Anaconda\\envs\\ML-37\\lib\\site-packages\\optuna\\_imports.py\u001b[0m in \u001b[0;36mcheck\u001b[1;34m(self)\u001b[0m\n\u001b[0;32m     84\u001b[0m         \u001b[1;32mif\u001b[0m \u001b[0mself\u001b[0m\u001b[1;33m.\u001b[0m\u001b[0m_deferred\u001b[0m \u001b[1;32mis\u001b[0m \u001b[1;32mnot\u001b[0m \u001b[1;32mNone\u001b[0m\u001b[1;33m:\u001b[0m\u001b[1;33m\u001b[0m\u001b[1;33m\u001b[0m\u001b[0m\n\u001b[0;32m     85\u001b[0m             \u001b[0mexc_value\u001b[0m\u001b[1;33m,\u001b[0m \u001b[0mmessage\u001b[0m \u001b[1;33m=\u001b[0m \u001b[0mself\u001b[0m\u001b[1;33m.\u001b[0m\u001b[0m_deferred\u001b[0m\u001b[1;33m\u001b[0m\u001b[1;33m\u001b[0m\u001b[0m\n\u001b[1;32m---> 86\u001b[1;33m             \u001b[1;32mraise\u001b[0m \u001b[0mImportError\u001b[0m\u001b[1;33m(\u001b[0m\u001b[0mmessage\u001b[0m\u001b[1;33m)\u001b[0m \u001b[1;32mfrom\u001b[0m \u001b[0mexc_value\u001b[0m\u001b[1;33m\u001b[0m\u001b[1;33m\u001b[0m\u001b[0m\n\u001b[0m\u001b[0;32m     87\u001b[0m \u001b[1;33m\u001b[0m\u001b[0m\n\u001b[0;32m     88\u001b[0m \u001b[1;33m\u001b[0m\u001b[0m\n",
      "\u001b[1;31mImportError\u001b[0m: Tried to import 'plotly' but failed. Please make sure that the package is installed correctly to use this feature. Actual error: No module named 'plotly'."
     ]
    }
   ],
   "source": [
    "optuna.visualization.plot_optimization_history(study)"
   ]
  },
  {
   "cell_type": "code",
   "execution_count": 12,
   "metadata": {
    "execution": {
     "iopub.execute_input": "2021-03-06T18:21:47.466926Z",
     "iopub.status.busy": "2021-03-06T18:21:47.466120Z",
     "iopub.status.idle": "2021-03-06T18:21:51.277284Z",
     "shell.execute_reply": "2021-03-06T18:21:51.277796Z"
    },
    "papermill": {
     "duration": 3.850298,
     "end_time": "2021-03-06T18:21:51.277979",
     "exception": false,
     "start_time": "2021-03-06T18:21:47.427681",
     "status": "completed"
    },
    "tags": []
   },
   "outputs": [
    {
     "output_type": "error",
     "ename": "ImportError",
     "evalue": "Tried to import 'plotly' but failed. Please make sure that the package is installed correctly to use this feature. Actual error: No module named 'plotly'.",
     "traceback": [
      "\u001b[1;31m---------------------------------------------------------------------------\u001b[0m",
      "\u001b[1;31mModuleNotFoundError\u001b[0m                       Traceback (most recent call last)",
      "\u001b[1;32mC:\\Anaconda\\envs\\ML-37\\lib\\site-packages\\optuna\\visualization\\_plotly_imports.py\u001b[0m in \u001b[0;36m<module>\u001b[1;34m\u001b[0m\n\u001b[0;32m      6\u001b[0m \u001b[1;32mwith\u001b[0m \u001b[0mtry_import\u001b[0m\u001b[1;33m(\u001b[0m\u001b[1;33m)\u001b[0m \u001b[1;32mas\u001b[0m \u001b[0m_imports\u001b[0m\u001b[1;33m:\u001b[0m  \u001b[1;31m# NOQA\u001b[0m\u001b[1;33m\u001b[0m\u001b[1;33m\u001b[0m\u001b[0m\n\u001b[1;32m----> 7\u001b[1;33m     \u001b[1;32mimport\u001b[0m \u001b[0mplotly\u001b[0m  \u001b[1;31m# NOQA\u001b[0m\u001b[1;33m\u001b[0m\u001b[1;33m\u001b[0m\u001b[0m\n\u001b[0m\u001b[0;32m      8\u001b[0m     \u001b[1;32mfrom\u001b[0m \u001b[0mplotly\u001b[0m \u001b[1;32mimport\u001b[0m \u001b[0m__version__\u001b[0m \u001b[1;32mas\u001b[0m \u001b[0mplotly_version\u001b[0m\u001b[1;33m\u001b[0m\u001b[1;33m\u001b[0m\u001b[0m\n",
      "\u001b[1;31mModuleNotFoundError\u001b[0m: No module named 'plotly'",
      "\nThe above exception was the direct cause of the following exception:\n",
      "\u001b[1;31mImportError\u001b[0m                               Traceback (most recent call last)",
      "\u001b[1;32m<ipython-input-12-061608052076>\u001b[0m in \u001b[0;36m<module>\u001b[1;34m\u001b[0m\n\u001b[0;32m      1\u001b[0m \u001b[1;31m#Visualize parameter importances.\u001b[0m\u001b[1;33m\u001b[0m\u001b[1;33m\u001b[0m\u001b[1;33m\u001b[0m\u001b[0m\n\u001b[1;32m----> 2\u001b[1;33m \u001b[0moptuna\u001b[0m\u001b[1;33m.\u001b[0m\u001b[0mvisualization\u001b[0m\u001b[1;33m.\u001b[0m\u001b[0mplot_param_importances\u001b[0m\u001b[1;33m(\u001b[0m\u001b[0mstudy\u001b[0m\u001b[1;33m)\u001b[0m\u001b[1;33m\u001b[0m\u001b[1;33m\u001b[0m\u001b[0m\n\u001b[0m",
      "\u001b[1;32mC:\\Anaconda\\envs\\ML-37\\lib\\site-packages\\optuna\\visualization\\_param_importances.py\u001b[0m in \u001b[0;36mplot_param_importances\u001b[1;34m(study, evaluator, params, target, target_name)\u001b[0m\n\u001b[0;32m    106\u001b[0m     \"\"\"\n\u001b[0;32m    107\u001b[0m \u001b[1;33m\u001b[0m\u001b[0m\n\u001b[1;32m--> 108\u001b[1;33m     \u001b[0m_imports\u001b[0m\u001b[1;33m.\u001b[0m\u001b[0mcheck\u001b[0m\u001b[1;33m(\u001b[0m\u001b[1;33m)\u001b[0m\u001b[1;33m\u001b[0m\u001b[1;33m\u001b[0m\u001b[0m\n\u001b[0m\u001b[0;32m    109\u001b[0m     \u001b[0m_check_plot_args\u001b[0m\u001b[1;33m(\u001b[0m\u001b[0mstudy\u001b[0m\u001b[1;33m,\u001b[0m \u001b[0mtarget\u001b[0m\u001b[1;33m,\u001b[0m \u001b[0mtarget_name\u001b[0m\u001b[1;33m)\u001b[0m\u001b[1;33m\u001b[0m\u001b[1;33m\u001b[0m\u001b[0m\n\u001b[0;32m    110\u001b[0m \u001b[1;33m\u001b[0m\u001b[0m\n",
      "\u001b[1;32mC:\\Anaconda\\envs\\ML-37\\lib\\site-packages\\optuna\\_imports.py\u001b[0m in \u001b[0;36mcheck\u001b[1;34m(self)\u001b[0m\n\u001b[0;32m     84\u001b[0m         \u001b[1;32mif\u001b[0m \u001b[0mself\u001b[0m\u001b[1;33m.\u001b[0m\u001b[0m_deferred\u001b[0m \u001b[1;32mis\u001b[0m \u001b[1;32mnot\u001b[0m \u001b[1;32mNone\u001b[0m\u001b[1;33m:\u001b[0m\u001b[1;33m\u001b[0m\u001b[1;33m\u001b[0m\u001b[0m\n\u001b[0;32m     85\u001b[0m             \u001b[0mexc_value\u001b[0m\u001b[1;33m,\u001b[0m \u001b[0mmessage\u001b[0m \u001b[1;33m=\u001b[0m \u001b[0mself\u001b[0m\u001b[1;33m.\u001b[0m\u001b[0m_deferred\u001b[0m\u001b[1;33m\u001b[0m\u001b[1;33m\u001b[0m\u001b[0m\n\u001b[1;32m---> 86\u001b[1;33m             \u001b[1;32mraise\u001b[0m \u001b[0mImportError\u001b[0m\u001b[1;33m(\u001b[0m\u001b[0mmessage\u001b[0m\u001b[1;33m)\u001b[0m \u001b[1;32mfrom\u001b[0m \u001b[0mexc_value\u001b[0m\u001b[1;33m\u001b[0m\u001b[1;33m\u001b[0m\u001b[0m\n\u001b[0m\u001b[0;32m     87\u001b[0m \u001b[1;33m\u001b[0m\u001b[0m\n\u001b[0;32m     88\u001b[0m \u001b[1;33m\u001b[0m\u001b[0m\n",
      "\u001b[1;31mImportError\u001b[0m: Tried to import 'plotly' but failed. Please make sure that the package is installed correctly to use this feature. Actual error: No module named 'plotly'."
     ]
    }
   ],
   "source": [
    "#Visualize parameter importances.\n",
    "optuna.visualization.plot_param_importances(study)"
   ]
  },
  {
   "cell_type": "code",
   "execution_count": 14,
   "metadata": {
    "execution": {
     "iopub.execute_input": "2021-03-06T18:21:51.350512Z",
     "iopub.status.busy": "2021-03-06T18:21:51.349943Z",
     "iopub.status.idle": "2021-03-06T18:21:51.354724Z",
     "shell.execute_reply": "2021-03-06T18:21:51.355193Z"
    },
    "papermill": {
     "duration": 0.042587,
     "end_time": "2021-03-06T18:21:51.355353",
     "exception": false,
     "start_time": "2021-03-06T18:21:51.312766",
     "status": "completed"
    },
    "tags": []
   },
   "outputs": [
    {
     "output_type": "execute_result",
     "data": {
      "text/plain": [
       "{'reg_alpha': 0.023013164688329528,\n",
       " 'reg_lambda': 0.003811720979048805,\n",
       " 'colsample_bytree': 0.3,\n",
       " 'subsample': 0.6,\n",
       " 'learning_rate': 0.02,\n",
       " 'max_depth': 100,\n",
       " 'num_leaves': 186,\n",
       " 'min_child_samples': 225,\n",
       " 'min_data_per_groups': 74}"
      ]
     },
     "metadata": {},
     "execution_count": 14
    }
   ],
   "source": [
    "params=study.best_params\n",
    "params"
   ]
  },
  {
   "cell_type": "code",
   "execution_count": null,
   "metadata": {},
   "outputs": [],
   "source": []
  }
 ],
 "metadata": {
  "kernelspec": {
   "name": "python379jvsc74a57bd084fd98fd9221ab78f96b3172be9432a530935ccd8792aba653e10e9d0c27467d",
   "display_name": "Python 3.7.9 64-bit (conda)"
  },
  "language_info": {
   "codemirror_mode": {
    "name": "ipython",
    "version": 3
   },
   "file_extension": ".py",
   "mimetype": "text/x-python",
   "name": "python",
   "nbconvert_exporter": "python",
   "pygments_lexer": "ipython3",
   "version": "3.7.9-final"
  },
  "papermill": {
   "default_parameters": {},
   "duration": 18087.246071,
   "end_time": "2021-03-06T18:21:52.101453",
   "environment_variables": {},
   "exception": null,
   "input_path": "__notebook__.ipynb",
   "output_path": "__notebook__.ipynb",
   "parameters": {},
   "start_time": "2021-03-06T13:20:24.855382",
   "version": "2.2.2"
  }
 },
 "nbformat": 4,
 "nbformat_minor": 4
}