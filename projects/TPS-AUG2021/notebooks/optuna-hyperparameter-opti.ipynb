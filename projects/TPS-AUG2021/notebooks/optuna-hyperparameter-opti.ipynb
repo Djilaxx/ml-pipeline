{
 "cells": [
  {
   "cell_type": "markdown",
   "source": [
    "# HYPERPARAMETER OPTIMIZATION USING OPTUNA"
   ],
   "metadata": {
    "papermill": {
     "duration": 0.008413,
     "end_time": "2021-03-06T13:20:30.195043",
     "exception": false,
     "start_time": "2021-03-06T13:20:30.186630",
     "status": "completed"
    },
    "tags": []
   }
  },
  {
   "cell_type": "markdown",
   "source": [
    "## IMPORTS"
   ],
   "metadata": {
    "papermill": {
     "duration": 0.00712,
     "end_time": "2021-03-06T13:20:30.209862",
     "exception": false,
     "start_time": "2021-03-06T13:20:30.202742",
     "status": "completed"
    },
    "tags": []
   }
  },
  {
   "cell_type": "code",
   "execution_count": 1,
   "source": [
    "##################\r\n",
    "# IMPORT MODULES #\r\n",
    "##################\r\n",
    "# SYS IMPORT\r\n",
    "import pandas as pd\r\n",
    "import numpy as np\r\n",
    "\r\n",
    "from tqdm import tqdm\r\n",
    "import matplotlib.pyplot as plt\r\n",
    "\r\n",
    "import xgboost as xgb\r\n",
    "import lightgbm as lgb \r\n",
    "import optuna \r\n",
    "from sklearn.model_selection import KFold\r\n",
    "from sklearn.metrics import roc_auc_score, mean_squared_error\r\n",
    "from sklearn.preprocessing import LabelEncoder\r\n",
    "from sklearn.model_selection import train_test_split"
   ],
   "outputs": [],
   "metadata": {
    "execution": {
     "iopub.execute_input": "2021-03-06T13:20:30.231902Z",
     "iopub.status.busy": "2021-03-06T13:20:30.231230Z",
     "iopub.status.idle": "2021-03-06T13:20:32.457432Z",
     "shell.execute_reply": "2021-03-06T13:20:32.456515Z"
    },
    "papermill": {
     "duration": 2.240371,
     "end_time": "2021-03-06T13:20:32.457694",
     "exception": false,
     "start_time": "2021-03-06T13:20:30.217323",
     "status": "completed"
    },
    "tags": []
   }
  },
  {
   "cell_type": "markdown",
   "source": [
    "## CONFIG"
   ],
   "metadata": {
    "papermill": {
     "duration": 0.007676,
     "end_time": "2021-03-06T13:20:32.474001",
     "exception": false,
     "start_time": "2021-03-06T13:20:32.466325",
     "status": "completed"
    },
    "tags": []
   }
  },
  {
   "cell_type": "code",
   "execution_count": 2,
   "source": [
    "config = {\r\n",
    "    \"DATA_PATH\" : \"D:/Documents/GitHub/ml-pipeline/data/TPS-AUG2021/train.csv\",\r\n",
    "    \"TARGET_VAR\" : \"loss\"\r\n",
    "}"
   ],
   "outputs": [],
   "metadata": {
    "execution": {
     "iopub.execute_input": "2021-03-06T13:20:32.493694Z",
     "iopub.status.busy": "2021-03-06T13:20:32.493114Z",
     "iopub.status.idle": "2021-03-06T13:20:32.496353Z",
     "shell.execute_reply": "2021-03-06T13:20:32.496935Z"
    },
    "papermill": {
     "duration": 0.01434,
     "end_time": "2021-03-06T13:20:32.497099",
     "exception": false,
     "start_time": "2021-03-06T13:20:32.482759",
     "status": "completed"
    },
    "tags": []
   }
  },
  {
   "cell_type": "markdown",
   "source": [
    "## LOADING DATA"
   ],
   "metadata": {
    "papermill": {
     "duration": 0.007929,
     "end_time": "2021-03-06T13:20:32.513415",
     "exception": false,
     "start_time": "2021-03-06T13:20:32.505486",
     "status": "completed"
    },
    "tags": []
   }
  },
  {
   "cell_type": "code",
   "execution_count": 3,
   "source": [
    "df = pd.read_csv(config[\"DATA_PATH\"])\r\n",
    "target = df[config[\"TARGET_VAR\"]]\r\n",
    "df.head()"
   ],
   "outputs": [
    {
     "output_type": "execute_result",
     "data": {
      "text/plain": [
       "   id        f0   f1        f2        f3          f4        f5        f6  \\\n",
       "0   0 -0.002350   59  0.766739 -1.350460     42.2727  16.68570   30.3599   \n",
       "1   1  0.784462  145 -0.463845 -0.530421  27324.9000   3.47545  160.4980   \n",
       "2   2  0.317816   19 -0.432571 -0.382644   1383.2600  19.71290   31.1026   \n",
       "3   3  0.210753   17 -0.616454  0.946362   -119.2530   4.08235  185.2570   \n",
       "4   4  0.439671   20  0.968126 -0.092546     74.3020  12.30650   72.1860   \n",
       "\n",
       "         f7         f8  ...        f91        f92      f93       f94  \\\n",
       "0  1.267300   0.392007  ...  -42.43990  26.854000  1.45751  0.696161   \n",
       "1  0.828007   3.735860  ... -184.13200   7.901370  1.70644 -0.494699   \n",
       "2 -0.515354  34.430800  ...    7.43721  37.218100  3.25339  0.337934   \n",
       "3  1.383310 -47.521400  ...    9.66778   0.626942  1.49425  0.517513   \n",
       "4 -0.233964  24.399100  ...  290.65700  15.604300  1.73557 -0.476668   \n",
       "\n",
       "         f95       f96       f97      f98       f99  loss  \n",
       "0   0.941764  1.828470  0.924090  2.29658  10.48980    15  \n",
       "1  -2.058300  0.819184  0.439152  2.36470   1.14383     3  \n",
       "2   0.615037  2.216760  0.745268  1.69679  12.30550     6  \n",
       "3 -10.222100  2.627310  0.617270  1.45645  10.02880     2  \n",
       "4   1.390190  2.195740  0.826987  1.78485   7.07197     1  \n",
       "\n",
       "[5 rows x 102 columns]"
      ],
      "text/html": [
       "<div>\n",
       "<style scoped>\n",
       "    .dataframe tbody tr th:only-of-type {\n",
       "        vertical-align: middle;\n",
       "    }\n",
       "\n",
       "    .dataframe tbody tr th {\n",
       "        vertical-align: top;\n",
       "    }\n",
       "\n",
       "    .dataframe thead th {\n",
       "        text-align: right;\n",
       "    }\n",
       "</style>\n",
       "<table border=\"1\" class=\"dataframe\">\n",
       "  <thead>\n",
       "    <tr style=\"text-align: right;\">\n",
       "      <th></th>\n",
       "      <th>id</th>\n",
       "      <th>f0</th>\n",
       "      <th>f1</th>\n",
       "      <th>f2</th>\n",
       "      <th>f3</th>\n",
       "      <th>f4</th>\n",
       "      <th>f5</th>\n",
       "      <th>f6</th>\n",
       "      <th>f7</th>\n",
       "      <th>f8</th>\n",
       "      <th>...</th>\n",
       "      <th>f91</th>\n",
       "      <th>f92</th>\n",
       "      <th>f93</th>\n",
       "      <th>f94</th>\n",
       "      <th>f95</th>\n",
       "      <th>f96</th>\n",
       "      <th>f97</th>\n",
       "      <th>f98</th>\n",
       "      <th>f99</th>\n",
       "      <th>loss</th>\n",
       "    </tr>\n",
       "  </thead>\n",
       "  <tbody>\n",
       "    <tr>\n",
       "      <th>0</th>\n",
       "      <td>0</td>\n",
       "      <td>-0.002350</td>\n",
       "      <td>59</td>\n",
       "      <td>0.766739</td>\n",
       "      <td>-1.350460</td>\n",
       "      <td>42.2727</td>\n",
       "      <td>16.68570</td>\n",
       "      <td>30.3599</td>\n",
       "      <td>1.267300</td>\n",
       "      <td>0.392007</td>\n",
       "      <td>...</td>\n",
       "      <td>-42.43990</td>\n",
       "      <td>26.854000</td>\n",
       "      <td>1.45751</td>\n",
       "      <td>0.696161</td>\n",
       "      <td>0.941764</td>\n",
       "      <td>1.828470</td>\n",
       "      <td>0.924090</td>\n",
       "      <td>2.29658</td>\n",
       "      <td>10.48980</td>\n",
       "      <td>15</td>\n",
       "    </tr>\n",
       "    <tr>\n",
       "      <th>1</th>\n",
       "      <td>1</td>\n",
       "      <td>0.784462</td>\n",
       "      <td>145</td>\n",
       "      <td>-0.463845</td>\n",
       "      <td>-0.530421</td>\n",
       "      <td>27324.9000</td>\n",
       "      <td>3.47545</td>\n",
       "      <td>160.4980</td>\n",
       "      <td>0.828007</td>\n",
       "      <td>3.735860</td>\n",
       "      <td>...</td>\n",
       "      <td>-184.13200</td>\n",
       "      <td>7.901370</td>\n",
       "      <td>1.70644</td>\n",
       "      <td>-0.494699</td>\n",
       "      <td>-2.058300</td>\n",
       "      <td>0.819184</td>\n",
       "      <td>0.439152</td>\n",
       "      <td>2.36470</td>\n",
       "      <td>1.14383</td>\n",
       "      <td>3</td>\n",
       "    </tr>\n",
       "    <tr>\n",
       "      <th>2</th>\n",
       "      <td>2</td>\n",
       "      <td>0.317816</td>\n",
       "      <td>19</td>\n",
       "      <td>-0.432571</td>\n",
       "      <td>-0.382644</td>\n",
       "      <td>1383.2600</td>\n",
       "      <td>19.71290</td>\n",
       "      <td>31.1026</td>\n",
       "      <td>-0.515354</td>\n",
       "      <td>34.430800</td>\n",
       "      <td>...</td>\n",
       "      <td>7.43721</td>\n",
       "      <td>37.218100</td>\n",
       "      <td>3.25339</td>\n",
       "      <td>0.337934</td>\n",
       "      <td>0.615037</td>\n",
       "      <td>2.216760</td>\n",
       "      <td>0.745268</td>\n",
       "      <td>1.69679</td>\n",
       "      <td>12.30550</td>\n",
       "      <td>6</td>\n",
       "    </tr>\n",
       "    <tr>\n",
       "      <th>3</th>\n",
       "      <td>3</td>\n",
       "      <td>0.210753</td>\n",
       "      <td>17</td>\n",
       "      <td>-0.616454</td>\n",
       "      <td>0.946362</td>\n",
       "      <td>-119.2530</td>\n",
       "      <td>4.08235</td>\n",
       "      <td>185.2570</td>\n",
       "      <td>1.383310</td>\n",
       "      <td>-47.521400</td>\n",
       "      <td>...</td>\n",
       "      <td>9.66778</td>\n",
       "      <td>0.626942</td>\n",
       "      <td>1.49425</td>\n",
       "      <td>0.517513</td>\n",
       "      <td>-10.222100</td>\n",
       "      <td>2.627310</td>\n",
       "      <td>0.617270</td>\n",
       "      <td>1.45645</td>\n",
       "      <td>10.02880</td>\n",
       "      <td>2</td>\n",
       "    </tr>\n",
       "    <tr>\n",
       "      <th>4</th>\n",
       "      <td>4</td>\n",
       "      <td>0.439671</td>\n",
       "      <td>20</td>\n",
       "      <td>0.968126</td>\n",
       "      <td>-0.092546</td>\n",
       "      <td>74.3020</td>\n",
       "      <td>12.30650</td>\n",
       "      <td>72.1860</td>\n",
       "      <td>-0.233964</td>\n",
       "      <td>24.399100</td>\n",
       "      <td>...</td>\n",
       "      <td>290.65700</td>\n",
       "      <td>15.604300</td>\n",
       "      <td>1.73557</td>\n",
       "      <td>-0.476668</td>\n",
       "      <td>1.390190</td>\n",
       "      <td>2.195740</td>\n",
       "      <td>0.826987</td>\n",
       "      <td>1.78485</td>\n",
       "      <td>7.07197</td>\n",
       "      <td>1</td>\n",
       "    </tr>\n",
       "  </tbody>\n",
       "</table>\n",
       "<p>5 rows × 102 columns</p>\n",
       "</div>"
      ]
     },
     "metadata": {},
     "execution_count": 3
    }
   ],
   "metadata": {
    "execution": {
     "iopub.execute_input": "2021-03-06T13:20:32.532654Z",
     "iopub.status.busy": "2021-03-06T13:20:32.531982Z",
     "iopub.status.idle": "2021-03-06T13:20:34.778288Z",
     "shell.execute_reply": "2021-03-06T13:20:34.778940Z"
    },
    "papermill": {
     "duration": 2.257653,
     "end_time": "2021-03-06T13:20:34.779108",
     "exception": false,
     "start_time": "2021-03-06T13:20:32.521455",
     "status": "completed"
    },
    "tags": []
   }
  },
  {
   "cell_type": "markdown",
   "source": [
    "## FEATURE ENGINEERING"
   ],
   "metadata": {
    "papermill": {
     "duration": 0.008474,
     "end_time": "2021-03-06T13:20:34.796300",
     "exception": false,
     "start_time": "2021-03-06T13:20:34.787826",
     "status": "completed"
    },
    "tags": []
   }
  },
  {
   "cell_type": "code",
   "execution_count": 4,
   "source": [
    "def feature_engineering(dataframe):\r\n",
    "    features = dataframe.columns[1:101]\r\n",
    "    return dataframe, features"
   ],
   "outputs": [],
   "metadata": {
    "execution": {
     "iopub.execute_input": "2021-03-06T13:20:34.817424Z",
     "iopub.status.busy": "2021-03-06T13:20:34.816777Z",
     "iopub.status.idle": "2021-03-06T13:20:34.822095Z",
     "shell.execute_reply": "2021-03-06T13:20:34.822616Z"
    },
    "papermill": {
     "duration": 0.017412,
     "end_time": "2021-03-06T13:20:34.822801",
     "exception": false,
     "start_time": "2021-03-06T13:20:34.805389",
     "status": "completed"
    },
    "tags": []
   }
  },
  {
   "cell_type": "code",
   "execution_count": 5,
   "source": [
    "df, features = feature_engineering(df)"
   ],
   "outputs": [],
   "metadata": {
    "execution": {
     "iopub.execute_input": "2021-03-06T13:20:34.843750Z",
     "iopub.status.busy": "2021-03-06T13:20:34.843111Z",
     "iopub.status.idle": "2021-03-06T13:20:36.389445Z",
     "shell.execute_reply": "2021-03-06T13:20:36.389956Z"
    },
    "papermill": {
     "duration": 1.558152,
     "end_time": "2021-03-06T13:20:36.390125",
     "exception": false,
     "start_time": "2021-03-06T13:20:34.831973",
     "status": "completed"
    },
    "tags": []
   }
  },
  {
   "cell_type": "markdown",
   "source": [
    "## OPTIMIZING"
   ],
   "metadata": {
    "papermill": {
     "duration": 0.008645,
     "end_time": "2021-03-06T13:20:36.407821",
     "exception": false,
     "start_time": "2021-03-06T13:20:36.399176",
     "status": "completed"
    },
    "tags": []
   }
  },
  {
   "cell_type": "code",
   "execution_count": 8,
   "source": [
    "def objective(trial, data=df[features], target=target):\r\n",
    "    \r\n",
    "    train_x, test_x, train_y, test_y = train_test_split(data, target, test_size=0.2,random_state=95)\r\n",
    "    param = {\r\n",
    "        'objective' : \"reg:squarederror\",\r\n",
    "        'seed': 95,\r\n",
    "        'n_estimators': 4000,\r\n",
    "        'reg_alpha': trial.suggest_loguniform('reg_alpha', 1e-3, 10.0),\r\n",
    "        'colsample_bytree': trial.suggest_categorical('colsample_bytree', [0.3,0.4,0.5,0.6,0.7,0.8,0.9, 1.0]),\r\n",
    "        'subsample': trial.suggest_categorical('subsample', [0.4,0.5,0.6,0.7,0.8,1.0]),\r\n",
    "        'learning_rate': trial.suggest_categorical('learning_rate', [0.006,0.008,0.01,0.014,0.017,0.02]),\r\n",
    "        'max_depth': trial.suggest_categorical('max_depth', [5,10,15,20]),\r\n",
    "        'min_child_weight': trial.suggest_int('min_child_weight', 1, 300),\r\n",
    "        'n_jobs': 2,\r\n",
    "        'tree_method': \"gpu_hist\",\r\n",
    "        \"gpu_id\": 0,\r\n",
    "        'predictor': 'gpu_predictor'\r\n",
    "    }\r\n",
    "    model = xgb.XGBRegressor(**param)  \r\n",
    "    \r\n",
    "    model.fit(train_x,train_y,eval_set=[(test_x,test_y)], early_stopping_rounds=200, verbose=False)\r\n",
    "    \r\n",
    "    preds = model.predict(test_x)\r\n",
    "    \r\n",
    "    rmse = mean_squared_error(test_y, preds, squared=False)\r\n",
    "    \r\n",
    "    return rmse"
   ],
   "outputs": [],
   "metadata": {
    "execution": {
     "iopub.execute_input": "2021-03-06T13:20:36.428818Z",
     "iopub.status.busy": "2021-03-06T13:20:36.428227Z",
     "iopub.status.idle": "2021-03-06T13:20:36.493009Z",
     "shell.execute_reply": "2021-03-06T13:20:36.492384Z"
    },
    "papermill": {
     "duration": 0.076326,
     "end_time": "2021-03-06T13:20:36.493154",
     "exception": false,
     "start_time": "2021-03-06T13:20:36.416828",
     "status": "completed"
    },
    "tags": []
   }
  },
  {
   "cell_type": "code",
   "execution_count": 9,
   "source": [
    "%%time\r\n",
    "study = optuna.create_study(direction='minimize')\r\n",
    "study.optimize(objective, timeout=3600*5)\r\n",
    "print('Number of finished trials:', len(study.trials))\r\n",
    "print('Best trial:', study.best_trial.params)"
   ],
   "outputs": [
    {
     "output_type": "stream",
     "name": "stderr",
     "text": [
      "\u001b[32m[I 2021-08-03 14:12:53,098]\u001b[0m A new study created in memory with name: no-name-a4b014ef-3462-445e-9928-2ccd531ccc26\u001b[0m\n",
      "\u001b[32m[I 2021-08-03 14:14:07,496]\u001b[0m Trial 0 finished with value: 7.805481248181306 and parameters: {'reg_alpha': 3.730683102562492, 'colsample_bytree': 0.5, 'subsample': 0.5, 'learning_rate': 0.017, 'max_depth': 15, 'min_child_weight': 105}. Best is trial 0 with value: 7.805481248181306.\u001b[0m\n",
      "\u001b[32m[I 2021-08-03 14:15:26,199]\u001b[0m Trial 1 finished with value: 7.802911285028155 and parameters: {'reg_alpha': 0.004429371660341314, 'colsample_bytree': 0.5, 'subsample': 0.7, 'learning_rate': 0.02, 'max_depth': 15, 'min_child_weight': 149}. Best is trial 1 with value: 7.802911285028155.\u001b[0m\n",
      "\u001b[32m[I 2021-08-03 14:17:17,299]\u001b[0m Trial 2 finished with value: 7.791425125430866 and parameters: {'reg_alpha': 0.0441067199361869, 'colsample_bytree': 0.3, 'subsample': 0.4, 'learning_rate': 0.008, 'max_depth': 10, 'min_child_weight': 115}. Best is trial 2 with value: 7.791425125430866.\u001b[0m\n",
      "\u001b[32m[I 2021-08-03 14:17:43,343]\u001b[0m Trial 3 finished with value: 7.792579878558963 and parameters: {'reg_alpha': 0.12062262734422208, 'colsample_bytree': 0.9, 'subsample': 0.6, 'learning_rate': 0.017, 'max_depth': 5, 'min_child_weight': 109}. Best is trial 2 with value: 7.791425125430866.\u001b[0m\n",
      "\u001b[32m[I 2021-08-03 14:19:10,168]\u001b[0m Trial 4 finished with value: 7.80164728403605 and parameters: {'reg_alpha': 0.11992612641367943, 'colsample_bytree': 0.8, 'subsample': 0.6, 'learning_rate': 0.02, 'max_depth': 20, 'min_child_weight': 233}. Best is trial 2 with value: 7.791425125430866.\u001b[0m\n",
      "\u001b[32m[I 2021-08-03 14:24:13,756]\u001b[0m Trial 5 finished with value: 7.813646182084856 and parameters: {'reg_alpha': 0.03914303894965438, 'colsample_bytree': 0.8, 'subsample': 0.5, 'learning_rate': 0.01, 'max_depth': 20, 'min_child_weight': 51}. Best is trial 2 with value: 7.791425125430866.\u001b[0m\n",
      "\u001b[32m[I 2021-08-03 14:24:49,441]\u001b[0m Trial 6 finished with value: 7.788138696765421 and parameters: {'reg_alpha': 1.287293914362616, 'colsample_bytree': 0.4, 'subsample': 0.6, 'learning_rate': 0.014, 'max_depth': 5, 'min_child_weight': 210}. Best is trial 6 with value: 7.788138696765421.\u001b[0m\n",
      "\u001b[32m[I 2021-08-03 14:25:47,139]\u001b[0m Trial 7 finished with value: 7.793723124738621 and parameters: {'reg_alpha': 4.481366034933266, 'colsample_bytree': 0.5, 'subsample': 0.6, 'learning_rate': 0.017, 'max_depth': 10, 'min_child_weight': 180}. Best is trial 6 with value: 7.788138696765421.\u001b[0m\n",
      "\u001b[32m[I 2021-08-03 14:26:05,879]\u001b[0m Trial 8 finished with value: 7.7942690408978805 and parameters: {'reg_alpha': 0.021901649127709723, 'colsample_bytree': 0.4, 'subsample': 0.4, 'learning_rate': 0.02, 'max_depth': 5, 'min_child_weight': 133}. Best is trial 6 with value: 7.788138696765421.\u001b[0m\n",
      "\u001b[32m[I 2021-08-03 14:27:28,437]\u001b[0m Trial 9 finished with value: 7.800400466043801 and parameters: {'reg_alpha': 0.0051569718217895355, 'colsample_bytree': 1.0, 'subsample': 0.6, 'learning_rate': 0.02, 'max_depth': 20, 'min_child_weight': 231}. Best is trial 6 with value: 7.788138696765421.\u001b[0m\n",
      "\u001b[32m[I 2021-08-03 14:28:04,099]\u001b[0m Trial 10 finished with value: 7.789952439426602 and parameters: {'reg_alpha': 0.772052456229874, 'colsample_bytree': 0.4, 'subsample': 0.8, 'learning_rate': 0.014, 'max_depth': 5, 'min_child_weight': 283}. Best is trial 6 with value: 7.788138696765421.\u001b[0m\n",
      "\u001b[32m[I 2021-08-03 14:28:43,009]\u001b[0m Trial 11 finished with value: 7.7890274609993275 and parameters: {'reg_alpha': 1.3851101316416852, 'colsample_bytree': 0.4, 'subsample': 0.8, 'learning_rate': 0.014, 'max_depth': 5, 'min_child_weight': 297}. Best is trial 6 with value: 7.788138696765421.\u001b[0m\n",
      "\u001b[32m[I 2021-08-03 14:29:20,067]\u001b[0m Trial 12 finished with value: 7.790033178329217 and parameters: {'reg_alpha': 0.7892529915954455, 'colsample_bytree': 0.6, 'subsample': 0.8, 'learning_rate': 0.014, 'max_depth': 5, 'min_child_weight': 295}. Best is trial 6 with value: 7.788138696765421.\u001b[0m\n",
      "\u001b[32m[I 2021-08-03 14:29:54,254]\u001b[0m Trial 13 finished with value: 7.789641417703075 and parameters: {'reg_alpha': 0.8310798969399715, 'colsample_bytree': 0.7, 'subsample': 0.8, 'learning_rate': 0.014, 'max_depth': 5, 'min_child_weight': 222}. Best is trial 6 with value: 7.788138696765421.\u001b[0m\n",
      "\u001b[32m[I 2021-08-03 14:30:34,938]\u001b[0m Trial 14 finished with value: 7.798919159310233 and parameters: {'reg_alpha': 8.854248298227306, 'colsample_bytree': 0.4, 'subsample': 1.0, 'learning_rate': 0.006, 'max_depth': 5, 'min_child_weight': 260}. Best is trial 6 with value: 7.788138696765421.\u001b[0m\n",
      "\u001b[32m[I 2021-08-03 14:31:15,390]\u001b[0m Trial 15 finished with value: 7.788675169143135 and parameters: {'reg_alpha': 0.3313462178227789, 'colsample_bytree': 0.4, 'subsample': 0.7, 'learning_rate': 0.014, 'max_depth': 5, 'min_child_weight': 191}. Best is trial 6 with value: 7.788138696765421.\u001b[0m\n",
      "\u001b[32m[I 2021-08-03 14:31:54,894]\u001b[0m Trial 16 finished with value: 7.789249344015666 and parameters: {'reg_alpha': 0.278456152755728, 'colsample_bytree': 0.4, 'subsample': 0.7, 'learning_rate': 0.014, 'max_depth': 5, 'min_child_weight': 186}. Best is trial 6 with value: 7.788138696765421.\u001b[0m\n",
      "\u001b[32m[I 2021-08-03 14:34:31,590]\u001b[0m Trial 17 finished with value: 7.791479392160227 and parameters: {'reg_alpha': 0.0012741558090416881, 'colsample_bytree': 0.9, 'subsample': 0.7, 'learning_rate': 0.01, 'max_depth': 15, 'min_child_weight': 190}. Best is trial 6 with value: 7.788138696765421.\u001b[0m\n",
      "\u001b[32m[I 2021-08-03 14:37:34,961]\u001b[0m Trial 18 finished with value: 7.813328623539715 and parameters: {'reg_alpha': 0.24420498372444963, 'colsample_bytree': 1.0, 'subsample': 1.0, 'learning_rate': 0.006, 'max_depth': 10, 'min_child_weight': 10}. Best is trial 6 with value: 7.788138696765421.\u001b[0m\n",
      "\u001b[32m[I 2021-08-03 14:38:18,514]\u001b[0m Trial 19 finished with value: 7.791416231876463 and parameters: {'reg_alpha': 2.063424272479364, 'colsample_bytree': 0.6, 'subsample': 0.7, 'learning_rate': 0.008, 'max_depth': 5, 'min_child_weight': 209}. Best is trial 6 with value: 7.788138696765421.\u001b[0m\n",
      "\u001b[32m[I 2021-08-03 14:38:57,918]\u001b[0m Trial 20 finished with value: 7.791359897585733 and parameters: {'reg_alpha': 0.3213714074520394, 'colsample_bytree': 0.7, 'subsample': 0.7, 'learning_rate': 0.014, 'max_depth': 5, 'min_child_weight': 164}. Best is trial 6 with value: 7.788138696765421.\u001b[0m\n",
      "\u001b[32m[I 2021-08-03 14:39:40,217]\u001b[0m Trial 21 finished with value: 7.789666762539382 and parameters: {'reg_alpha': 2.2882253915366544, 'colsample_bytree': 0.4, 'subsample': 0.8, 'learning_rate': 0.014, 'max_depth': 5, 'min_child_weight': 271}. Best is trial 6 with value: 7.788138696765421.\u001b[0m\n",
      "\u001b[32m[I 2021-08-03 14:40:17,501]\u001b[0m Trial 22 finished with value: 7.790558407403134 and parameters: {'reg_alpha': 1.2072489379872162, 'colsample_bytree': 0.4, 'subsample': 0.6, 'learning_rate': 0.014, 'max_depth': 5, 'min_child_weight': 251}. Best is trial 6 with value: 7.788138696765421.\u001b[0m\n",
      "\u001b[32m[I 2021-08-03 14:40:54,411]\u001b[0m Trial 23 finished with value: 7.789861683605237 and parameters: {'reg_alpha': 0.4202191522891764, 'colsample_bytree': 0.4, 'subsample': 0.8, 'learning_rate': 0.014, 'max_depth': 5, 'min_child_weight': 72}. Best is trial 6 with value: 7.788138696765421.\u001b[0m\n",
      "\u001b[32m[I 2021-08-03 14:41:21,049]\u001b[0m Trial 24 finished with value: 7.791418817170366 and parameters: {'reg_alpha': 2.0017684574970125, 'colsample_bytree': 0.3, 'subsample': 0.4, 'learning_rate': 0.014, 'max_depth': 5, 'min_child_weight': 207}. Best is trial 6 with value: 7.788138696765421.\u001b[0m\n",
      "\u001b[32m[I 2021-08-03 14:41:57,703]\u001b[0m Trial 25 finished with value: 7.78907624970378 and parameters: {'reg_alpha': 8.467217166987844, 'colsample_bytree': 0.4, 'subsample': 1.0, 'learning_rate': 0.014, 'max_depth': 5, 'min_child_weight': 247}. Best is trial 6 with value: 7.788138696765421.\u001b[0m\n",
      "\u001b[32m[I 2021-08-03 14:43:21,789]\u001b[0m Trial 26 finished with value: 7.798796642201653 and parameters: {'reg_alpha': 0.4080418386438433, 'colsample_bytree': 0.4, 'subsample': 0.5, 'learning_rate': 0.014, 'max_depth': 15, 'min_child_weight': 159}. Best is trial 6 with value: 7.788138696765421.\u001b[0m\n",
      "\u001b[32m[I 2021-08-03 14:46:10,327]\u001b[0m Trial 27 finished with value: 7.789932507450811 and parameters: {'reg_alpha': 0.15814486673968728, 'colsample_bytree': 0.4, 'subsample': 0.6, 'learning_rate': 0.01, 'max_depth': 20, 'min_child_weight': 291}. Best is trial 6 with value: 7.788138696765421.\u001b[0m\n",
      "\u001b[32m[I 2021-08-03 14:47:39,167]\u001b[0m Trial 28 finished with value: 7.788239141123602 and parameters: {'reg_alpha': 0.06070730719272949, 'colsample_bytree': 0.4, 'subsample': 0.8, 'learning_rate': 0.008, 'max_depth': 10, 'min_child_weight': 202}. Best is trial 6 with value: 7.788138696765421.\u001b[0m\n",
      "\u001b[32m[I 2021-08-03 14:49:12,165]\u001b[0m Trial 29 finished with value: 7.790376626633382 and parameters: {'reg_alpha': 0.04423829849850749, 'colsample_bytree': 1.0, 'subsample': 0.5, 'learning_rate': 0.008, 'max_depth': 10, 'min_child_weight': 205}. Best is trial 6 with value: 7.788138696765421.\u001b[0m\n",
      "\u001b[32m[I 2021-08-03 14:51:17,195]\u001b[0m Trial 30 finished with value: 7.787703157857645 and parameters: {'reg_alpha': 0.013937903812006526, 'colsample_bytree': 0.8, 'subsample': 0.7, 'learning_rate': 0.008, 'max_depth': 10, 'min_child_weight': 130}. Best is trial 30 with value: 7.787703157857645.\u001b[0m\n",
      "\u001b[32m[I 2021-08-03 14:52:45,283]\u001b[0m Trial 31 finished with value: 7.793178758302546 and parameters: {'reg_alpha': 0.007919143866651638, 'colsample_bytree': 0.8, 'subsample': 0.7, 'learning_rate': 0.008, 'max_depth': 10, 'min_child_weight': 133}. Best is trial 30 with value: 7.787703157857645.\u001b[0m\n",
      "\u001b[32m[I 2021-08-03 14:54:48,191]\u001b[0m Trial 32 finished with value: 7.789033587953179 and parameters: {'reg_alpha': 0.012135848300792614, 'colsample_bytree': 0.8, 'subsample': 0.7, 'learning_rate': 0.008, 'max_depth': 10, 'min_child_weight': 173}. Best is trial 30 with value: 7.787703157857645.\u001b[0m\n",
      "\u001b[32m[I 2021-08-03 14:56:52,539]\u001b[0m Trial 33 finished with value: 7.786934591679499 and parameters: {'reg_alpha': 0.062492118564115046, 'colsample_bytree': 0.5, 'subsample': 0.7, 'learning_rate': 0.008, 'max_depth': 10, 'min_child_weight': 145}. Best is trial 33 with value: 7.786934591679499.\u001b[0m\n",
      "\u001b[32m[I 2021-08-03 14:58:58,757]\u001b[0m Trial 34 finished with value: 7.789213736793235 and parameters: {'reg_alpha': 0.06679310050061625, 'colsample_bytree': 0.5, 'subsample': 0.7, 'learning_rate': 0.008, 'max_depth': 10, 'min_child_weight': 90}. Best is trial 33 with value: 7.786934591679499.\u001b[0m\n",
      "\u001b[32m[I 2021-08-03 15:00:39,408]\u001b[0m Trial 35 finished with value: 7.789559608200053 and parameters: {'reg_alpha': 0.02320446555349481, 'colsample_bytree': 0.3, 'subsample': 0.7, 'learning_rate': 0.008, 'max_depth': 10, 'min_child_weight': 127}. Best is trial 33 with value: 7.786934591679499.\u001b[0m\n",
      "\u001b[32m[I 2021-08-03 15:02:47,989]\u001b[0m Trial 36 finished with value: 7.788950511983283 and parameters: {'reg_alpha': 0.002215886384678798, 'colsample_bytree': 0.5, 'subsample': 0.6, 'learning_rate': 0.008, 'max_depth': 10, 'min_child_weight': 147}. Best is trial 33 with value: 7.786934591679499.\u001b[0m\n",
      "\u001b[32m[I 2021-08-03 15:05:00,203]\u001b[0m Trial 37 finished with value: 7.791042926548514 and parameters: {'reg_alpha': 0.0759059884786893, 'colsample_bytree': 0.5, 'subsample': 0.4, 'learning_rate': 0.008, 'max_depth': 10, 'min_child_weight': 99}. Best is trial 33 with value: 7.786934591679499.\u001b[0m\n",
      "\u001b[32m[I 2021-08-03 15:05:51,192]\u001b[0m Trial 38 finished with value: 7.7981675774458035 and parameters: {'reg_alpha': 0.020856706710403284, 'colsample_bytree': 0.8, 'subsample': 0.6, 'learning_rate': 0.017, 'max_depth': 10, 'min_child_weight': 155}. Best is trial 33 with value: 7.786934591679499.\u001b[0m\n",
      "\u001b[32m[I 2021-08-03 15:07:56,974]\u001b[0m Trial 39 finished with value: 7.791348366372546 and parameters: {'reg_alpha': 0.010567209864568694, 'colsample_bytree': 0.9, 'subsample': 0.5, 'learning_rate': 0.008, 'max_depth': 10, 'min_child_weight': 121}. Best is trial 33 with value: 7.786934591679499.\u001b[0m\n",
      "\u001b[32m[I 2021-08-03 15:12:43,550]\u001b[0m Trial 40 finished with value: 7.792887481602 and parameters: {'reg_alpha': 0.034426370227566734, 'colsample_bytree': 0.5, 'subsample': 0.8, 'learning_rate': 0.008, 'max_depth': 15, 'min_child_weight': 76}. Best is trial 33 with value: 7.786934591679499.\u001b[0m\n",
      "\u001b[32m[I 2021-08-03 15:13:49,426]\u001b[0m Trial 41 finished with value: 7.797326868960043 and parameters: {'reg_alpha': 0.1471517774137546, 'colsample_bytree': 0.8, 'subsample': 0.7, 'learning_rate': 0.017, 'max_depth': 10, 'min_child_weight': 143}. Best is trial 33 with value: 7.786934591679499.\u001b[0m\n",
      "\u001b[32m[I 2021-08-03 15:15:27,015]\u001b[0m Trial 42 finished with value: 7.808232819365213 and parameters: {'reg_alpha': 0.07667561968406143, 'colsample_bytree': 0.6, 'subsample': 0.7, 'learning_rate': 0.02, 'max_depth': 20, 'min_child_weight': 197}. Best is trial 33 with value: 7.786934591679499.\u001b[0m\n",
      "\u001b[32m[I 2021-08-03 15:17:34,894]\u001b[0m Trial 43 finished with value: 7.789631648510781 and parameters: {'reg_alpha': 0.1742998930109557, 'colsample_bytree': 0.7, 'subsample': 0.7, 'learning_rate': 0.006, 'max_depth': 10, 'min_child_weight': 174}. Best is trial 33 with value: 7.786934591679499.\u001b[0m\n",
      "\u001b[32m[I 2021-08-03 15:19:55,225]\u001b[0m Trial 44 finished with value: 7.787170788907273 and parameters: {'reg_alpha': 0.0034530288993684295, 'colsample_bytree': 0.5, 'subsample': 0.7, 'learning_rate': 0.008, 'max_depth': 10, 'min_child_weight': 226}. Best is trial 33 with value: 7.786934591679499.\u001b[0m\n",
      "\u001b[32m[I 2021-08-03 15:21:28,635]\u001b[0m Trial 45 finished with value: 7.789649791048875 and parameters: {'reg_alpha': 0.0033342029445149243, 'colsample_bytree': 0.5, 'subsample': 0.6, 'learning_rate': 0.008, 'max_depth': 10, 'min_child_weight': 221}. Best is trial 33 with value: 7.786934591679499.\u001b[0m\n",
      "\u001b[32m[I 2021-08-03 15:23:04,890]\u001b[0m Trial 46 finished with value: 7.789610049374362 and parameters: {'reg_alpha': 0.006322815302592829, 'colsample_bytree': 0.5, 'subsample': 0.4, 'learning_rate': 0.008, 'max_depth': 10, 'min_child_weight': 239}. Best is trial 33 with value: 7.786934591679499.\u001b[0m\n",
      "\u001b[32m[I 2021-08-03 15:25:11,826]\u001b[0m Trial 47 finished with value: 7.787565957237234 and parameters: {'reg_alpha': 0.003013177509744592, 'colsample_bytree': 0.5, 'subsample': 0.8, 'learning_rate': 0.008, 'max_depth': 10, 'min_child_weight': 214}. Best is trial 33 with value: 7.786934591679499.\u001b[0m\n",
      "\u001b[32m[I 2021-08-03 15:27:50,677]\u001b[0m Trial 48 finished with value: 7.788433108803026 and parameters: {'reg_alpha': 0.0010583942833403781, 'colsample_bytree': 0.5, 'subsample': 0.7, 'learning_rate': 0.008, 'max_depth': 10, 'min_child_weight': 112}. Best is trial 33 with value: 7.786934591679499.\u001b[0m\n",
      "\u001b[32m[I 2021-08-03 15:30:52,425]\u001b[0m Trial 49 finished with value: 7.791031684177899 and parameters: {'reg_alpha': 0.003331310026737851, 'colsample_bytree': 0.5, 'subsample': 1.0, 'learning_rate': 0.01, 'max_depth': 15, 'min_child_weight': 222}. Best is trial 33 with value: 7.786934591679499.\u001b[0m\n",
      "\u001b[32m[I 2021-08-03 15:32:12,078]\u001b[0m Trial 50 finished with value: 7.80147887219155 and parameters: {'reg_alpha': 0.0019193797659893762, 'colsample_bytree': 0.5, 'subsample': 0.7, 'learning_rate': 0.02, 'max_depth': 20, 'min_child_weight': 265}. Best is trial 33 with value: 7.786934591679499.\u001b[0m\n",
      "\u001b[32m[I 2021-08-03 15:34:18,454]\u001b[0m Trial 51 finished with value: 7.785960450914092 and parameters: {'reg_alpha': 0.01466538252934286, 'colsample_bytree': 0.5, 'subsample': 0.8, 'learning_rate': 0.008, 'max_depth': 10, 'min_child_weight': 230}. Best is trial 51 with value: 7.785960450914092.\u001b[0m\n",
      "\u001b[32m[I 2021-08-03 15:36:28,905]\u001b[0m Trial 52 finished with value: 7.785522355504558 and parameters: {'reg_alpha': 0.013512509247574479, 'colsample_bytree': 0.5, 'subsample': 0.8, 'learning_rate': 0.008, 'max_depth': 10, 'min_child_weight': 232}. Best is trial 52 with value: 7.785522355504558.\u001b[0m\n",
      "\u001b[32m[I 2021-08-03 15:38:40,692]\u001b[0m Trial 53 finished with value: 7.785365034441741 and parameters: {'reg_alpha': 0.012008532460520941, 'colsample_bytree': 0.5, 'subsample': 0.8, 'learning_rate': 0.008, 'max_depth': 10, 'min_child_weight': 231}. Best is trial 53 with value: 7.785365034441741.\u001b[0m\n",
      "\u001b[32m[I 2021-08-03 15:41:02,472]\u001b[0m Trial 54 finished with value: 7.7859435871499185 and parameters: {'reg_alpha': 0.004302377693316972, 'colsample_bytree': 0.5, 'subsample': 0.8, 'learning_rate': 0.008, 'max_depth': 10, 'min_child_weight': 238}. Best is trial 53 with value: 7.785365034441741.\u001b[0m\n",
      "\u001b[32m[I 2021-08-03 15:43:23,470]\u001b[0m Trial 55 finished with value: 7.786094084317028 and parameters: {'reg_alpha': 0.005461377152730235, 'colsample_bytree': 0.5, 'subsample': 0.8, 'learning_rate': 0.008, 'max_depth': 10, 'min_child_weight': 234}. Best is trial 53 with value: 7.785365034441741.\u001b[0m\n",
      "\u001b[32m[I 2021-08-03 15:45:39,655]\u001b[0m Trial 56 finished with value: 7.785215024048317 and parameters: {'reg_alpha': 0.007915504076304212, 'colsample_bytree': 0.5, 'subsample': 0.8, 'learning_rate': 0.008, 'max_depth': 10, 'min_child_weight': 274}. Best is trial 56 with value: 7.785215024048317.\u001b[0m\n",
      "\u001b[32m[I 2021-08-03 15:48:00,410]\u001b[0m Trial 57 finished with value: 7.785422389551194 and parameters: {'reg_alpha': 0.007718043731619999, 'colsample_bytree': 0.5, 'subsample': 0.8, 'learning_rate': 0.008, 'max_depth': 10, 'min_child_weight': 270}. Best is trial 56 with value: 7.785215024048317.\u001b[0m\n",
      "\u001b[32m[I 2021-08-03 15:50:27,291]\u001b[0m Trial 58 finished with value: 7.78569622609919 and parameters: {'reg_alpha': 0.007849589729859828, 'colsample_bytree': 0.5, 'subsample': 0.8, 'learning_rate': 0.006, 'max_depth': 10, 'min_child_weight': 275}. Best is trial 56 with value: 7.785215024048317.\u001b[0m\n",
      "\u001b[32m[I 2021-08-03 15:52:41,358]\u001b[0m Trial 59 finished with value: 7.786790828390883 and parameters: {'reg_alpha': 0.0076084307860678525, 'colsample_bytree': 0.5, 'subsample': 0.8, 'learning_rate': 0.006, 'max_depth': 10, 'min_child_weight': 275}. Best is trial 56 with value: 7.785215024048317.\u001b[0m\n",
      "\u001b[32m[I 2021-08-03 15:55:20,358]\u001b[0m Trial 60 finished with value: 7.786891033390857 and parameters: {'reg_alpha': 0.018038260543877114, 'colsample_bytree': 0.5, 'subsample': 0.8, 'learning_rate': 0.006, 'max_depth': 10, 'min_child_weight': 253}. Best is trial 56 with value: 7.785215024048317.\u001b[0m\n",
      "\u001b[32m[I 2021-08-03 15:57:35,355]\u001b[0m Trial 61 finished with value: 7.787330489804353 and parameters: {'reg_alpha': 0.010617731251555532, 'colsample_bytree': 0.5, 'subsample': 0.8, 'learning_rate': 0.006, 'max_depth': 10, 'min_child_weight': 284}. Best is trial 56 with value: 7.785215024048317.\u001b[0m\n",
      "\u001b[32m[I 2021-08-03 15:59:41,992]\u001b[0m Trial 62 finished with value: 7.786320174593596 and parameters: {'reg_alpha': 0.0044257892944498485, 'colsample_bytree': 0.5, 'subsample': 0.8, 'learning_rate': 0.008, 'max_depth': 10, 'min_child_weight': 243}. Best is trial 56 with value: 7.785215024048317.\u001b[0m\n",
      "\u001b[32m[I 2021-08-03 16:02:07,145]\u001b[0m Trial 63 finished with value: 7.78667595076843 and parameters: {'reg_alpha': 0.015923074009416505, 'colsample_bytree': 0.5, 'subsample': 0.8, 'learning_rate': 0.006, 'max_depth': 10, 'min_child_weight': 262}. Best is trial 56 with value: 7.785215024048317.\u001b[0m\n"
     ]
    }
   ],
   "metadata": {
    "execution": {
     "iopub.execute_input": "2021-03-06T13:20:36.520399Z",
     "iopub.status.busy": "2021-03-06T13:20:36.519566Z",
     "iopub.status.idle": "2021-03-06T18:21:47.045614Z",
     "shell.execute_reply": "2021-03-06T18:21:47.045122Z"
    },
    "papermill": {
     "duration": 18070.541965,
     "end_time": "2021-03-06T18:21:47.045753",
     "exception": false,
     "start_time": "2021-03-06T13:20:36.503788",
     "status": "completed"
    },
    "tags": []
   }
  },
  {
   "cell_type": "markdown",
   "source": [
    "## VISUALIZATION"
   ],
   "metadata": {
    "papermill": {
     "duration": 0.032302,
     "end_time": "2021-03-06T18:21:47.111046",
     "exception": false,
     "start_time": "2021-03-06T18:21:47.078744",
     "status": "completed"
    },
    "tags": []
   }
  },
  {
   "cell_type": "code",
   "execution_count": null,
   "source": [
    "optuna.visualization.plot_optimization_history(study)"
   ],
   "outputs": [
    {
     "output_type": "display_data",
     "data": {
      "text/html": [
       "        <script type=\"text/javascript\">\n",
       "        window.PlotlyConfig = {MathJaxConfig: 'local'};\n",
       "        if (window.MathJax) {MathJax.Hub.Config({SVG: {font: \"STIX-Web\"}});}\n",
       "        if (typeof require !== 'undefined') {\n",
       "        require.undef(\"plotly\");\n",
       "        requirejs.config({\n",
       "            paths: {\n",
       "                'plotly': ['https://cdn.plot.ly/plotly-latest.min']\n",
       "            }\n",
       "        });\n",
       "        require(['plotly'], function(Plotly) {\n",
       "            window._Plotly = Plotly;\n",
       "        });\n",
       "        }\n",
       "        </script>\n",
       "        "
      ]
     },
     "metadata": {}
    },
    {
     "output_type": "display_data",
     "data": {
      "text/html": [
       "<div>                            <div id=\"0561cf6b-9a2c-4de4-bde6-90c66d697816\" class=\"plotly-graph-div\" style=\"height:525px; width:100%;\"></div>            <script type=\"text/javascript\">                require([\"plotly\"], function(Plotly) {                    window.PLOTLYENV=window.PLOTLYENV || {};                                    if (document.getElementById(\"0561cf6b-9a2c-4de4-bde6-90c66d697816\")) {                    Plotly.newPlot(                        \"0561cf6b-9a2c-4de4-bde6-90c66d697816\",                        [{\"mode\": \"markers\", \"name\": \"Objective Value\", \"type\": \"scatter\", \"x\": [0, 1, 2, 3, 4, 5, 6, 7, 8, 9, 10, 11, 12, 13, 14, 15, 16, 17, 18, 19, 20, 21, 22, 23, 24, 25, 26, 27, 28, 29, 30, 31, 32, 33, 34, 35, 36, 37, 38, 39, 40, 41, 42, 43, 44, 45, 46, 47, 48, 49, 50, 51, 52, 53, 54, 55, 56, 57, 58, 59, 60, 61, 62, 63, 64, 65, 66, 67, 68, 69, 70, 71, 72, 73, 74, 75, 76, 77, 78, 79, 80, 81, 82, 83, 84, 85, 86, 87, 88, 89, 90, 91, 92, 93, 94, 95, 96, 97, 98], \"y\": [0.8941319241264956, 0.8923251322896474, 0.892960439279956, 0.8930369553300453, 0.8943317232546205, 0.8945280279579574, 0.8925529567902553, 0.8921838815562447, 0.8925401815045363, 0.8939624766552752, 0.8934957460290678, 0.8941260805685746, 0.892395106468076, 0.8944844254765296, 0.8823292109417035, 0.8946065361300654, 0.8924593713247625, 0.8940136420601511, 0.8924209455044941, 0.8939788548971611, 0.893277570824861, 0.8944366116919962, 0.894171625190465, 0.8945790991118991, 0.8945814368206764, 0.8926419125356158, 0.8946259104092231, 0.8942519883923234, 0.8946511211060799, 0.8940719434031823, 0.8946233584937773, 0.8946824124162376, 0.8925766409075864, 0.8947242341262265, 0.8941112103416364, 0.8946616800668004, 0.8932445201639314, 0.8944141285600538, 0.8914434247964249, 0.8926978490370248, 0.8942624845190879, 0.8946917832439691, 0.8943598285975931, 0.8941572062255752, 0.8946778969396624, 0.8936244199749313, 0.8940372233582816, 0.8906379477444002, 0.8937717713142572, 0.8945372759738655, 0.8920692595678452, 0.8946917318343686, 0.8946775127957034, 0.8947834137165993, 0.8946279996382649, 0.8940638735239518, 0.8922620141526603, 0.8944944874777787, 0.8945824321676632, 0.8931549089461647, 0.891484935192722, 0.894770447072923, 0.8948023952835313, 0.8946369634733261, 0.8947492020555254, 0.8947124270546502, 0.8939552036248521, 0.8947377805559525, 0.8946269700182108, 0.8947035189133228, 0.8937068481290756, 0.8948146493330229, 0.8947233944360855, 0.8946866280034769, 0.8944465922947111, 0.8941332950491752, 0.8946927814470453, 0.8947365552938079, 0.8947004286251162, 0.8925451668077382, 0.8945397536309998, 0.8948113048529031, 0.8948437643034273, 0.8947437897670307, 0.8947649819467833, 0.8944885011154121, 0.891721162306919, 0.8947355370981094, 0.8927021560191093, 0.8947538660487245, 0.891275511044952, 0.8948733219676132, 0.894813806786793, 0.8947806633029736, 0.894743628398007, 0.8947262605213121, 0.8946629324617899, 0.8946748751975898, 0.8946601135020302]}, {\"name\": \"Best Value\", \"type\": \"scatter\", \"x\": [0, 1, 2, 3, 4, 5, 6, 7, 8, 9, 10, 11, 12, 13, 14, 15, 16, 17, 18, 19, 20, 21, 22, 23, 24, 25, 26, 27, 28, 29, 30, 31, 32, 33, 34, 35, 36, 37, 38, 39, 40, 41, 42, 43, 44, 45, 46, 47, 48, 49, 50, 51, 52, 53, 54, 55, 56, 57, 58, 59, 60, 61, 62, 63, 64, 65, 66, 67, 68, 69, 70, 71, 72, 73, 74, 75, 76, 77, 78, 79, 80, 81, 82, 83, 84, 85, 86, 87, 88, 89, 90, 91, 92, 93, 94, 95, 96, 97, 98], \"y\": [0.8941319241264956, 0.8941319241264956, 0.8941319241264956, 0.8941319241264956, 0.8943317232546205, 0.8945280279579574, 0.8945280279579574, 0.8945280279579574, 0.8945280279579574, 0.8945280279579574, 0.8945280279579574, 0.8945280279579574, 0.8945280279579574, 0.8945280279579574, 0.8945280279579574, 0.8946065361300654, 0.8946065361300654, 0.8946065361300654, 0.8946065361300654, 0.8946065361300654, 0.8946065361300654, 0.8946065361300654, 0.8946065361300654, 0.8946065361300654, 0.8946065361300654, 0.8946065361300654, 0.8946259104092231, 0.8946259104092231, 0.8946511211060799, 0.8946511211060799, 0.8946511211060799, 0.8946824124162376, 0.8946824124162376, 0.8947242341262265, 0.8947242341262265, 0.8947242341262265, 0.8947242341262265, 0.8947242341262265, 0.8947242341262265, 0.8947242341262265, 0.8947242341262265, 0.8947242341262265, 0.8947242341262265, 0.8947242341262265, 0.8947242341262265, 0.8947242341262265, 0.8947242341262265, 0.8947242341262265, 0.8947242341262265, 0.8947242341262265, 0.8947242341262265, 0.8947242341262265, 0.8947242341262265, 0.8947834137165993, 0.8947834137165993, 0.8947834137165993, 0.8947834137165993, 0.8947834137165993, 0.8947834137165993, 0.8947834137165993, 0.8947834137165993, 0.8947834137165993, 0.8948023952835313, 0.8948023952835313, 0.8948023952835313, 0.8948023952835313, 0.8948023952835313, 0.8948023952835313, 0.8948023952835313, 0.8948023952835313, 0.8948023952835313, 0.8948146493330229, 0.8948146493330229, 0.8948146493330229, 0.8948146493330229, 0.8948146493330229, 0.8948146493330229, 0.8948146493330229, 0.8948146493330229, 0.8948146493330229, 0.8948146493330229, 0.8948146493330229, 0.8948437643034273, 0.8948437643034273, 0.8948437643034273, 0.8948437643034273, 0.8948437643034273, 0.8948437643034273, 0.8948437643034273, 0.8948437643034273, 0.8948437643034273, 0.8948733219676132, 0.8948733219676132, 0.8948733219676132, 0.8948733219676132, 0.8948733219676132, 0.8948733219676132, 0.8948733219676132, 0.8948733219676132]}],                        {\"template\": {\"data\": {\"bar\": [{\"error_x\": {\"color\": \"#2a3f5f\"}, \"error_y\": {\"color\": \"#2a3f5f\"}, \"marker\": {\"line\": {\"color\": \"#E5ECF6\", \"width\": 0.5}}, \"type\": \"bar\"}], \"barpolar\": [{\"marker\": {\"line\": {\"color\": \"#E5ECF6\", \"width\": 0.5}}, \"type\": \"barpolar\"}], \"carpet\": [{\"aaxis\": {\"endlinecolor\": \"#2a3f5f\", \"gridcolor\": \"white\", \"linecolor\": \"white\", \"minorgridcolor\": \"white\", \"startlinecolor\": \"#2a3f5f\"}, \"baxis\": {\"endlinecolor\": \"#2a3f5f\", \"gridcolor\": \"white\", \"linecolor\": \"white\", \"minorgridcolor\": \"white\", \"startlinecolor\": \"#2a3f5f\"}, \"type\": \"carpet\"}], \"choropleth\": [{\"colorbar\": {\"outlinewidth\": 0, \"ticks\": \"\"}, \"type\": \"choropleth\"}], \"contour\": [{\"colorbar\": {\"outlinewidth\": 0, \"ticks\": \"\"}, \"colorscale\": [[0.0, \"#0d0887\"], [0.1111111111111111, \"#46039f\"], [0.2222222222222222, \"#7201a8\"], [0.3333333333333333, \"#9c179e\"], [0.4444444444444444, \"#bd3786\"], [0.5555555555555556, \"#d8576b\"], [0.6666666666666666, \"#ed7953\"], [0.7777777777777778, \"#fb9f3a\"], [0.8888888888888888, \"#fdca26\"], [1.0, \"#f0f921\"]], \"type\": \"contour\"}], \"contourcarpet\": [{\"colorbar\": {\"outlinewidth\": 0, \"ticks\": \"\"}, \"type\": \"contourcarpet\"}], \"heatmap\": [{\"colorbar\": {\"outlinewidth\": 0, \"ticks\": \"\"}, \"colorscale\": [[0.0, \"#0d0887\"], [0.1111111111111111, \"#46039f\"], [0.2222222222222222, \"#7201a8\"], [0.3333333333333333, \"#9c179e\"], [0.4444444444444444, \"#bd3786\"], [0.5555555555555556, \"#d8576b\"], [0.6666666666666666, \"#ed7953\"], [0.7777777777777778, \"#fb9f3a\"], [0.8888888888888888, \"#fdca26\"], [1.0, \"#f0f921\"]], \"type\": \"heatmap\"}], \"heatmapgl\": [{\"colorbar\": {\"outlinewidth\": 0, \"ticks\": \"\"}, \"colorscale\": [[0.0, \"#0d0887\"], [0.1111111111111111, \"#46039f\"], [0.2222222222222222, \"#7201a8\"], [0.3333333333333333, \"#9c179e\"], [0.4444444444444444, \"#bd3786\"], [0.5555555555555556, \"#d8576b\"], [0.6666666666666666, \"#ed7953\"], [0.7777777777777778, \"#fb9f3a\"], [0.8888888888888888, \"#fdca26\"], [1.0, \"#f0f921\"]], \"type\": \"heatmapgl\"}], \"histogram\": [{\"marker\": {\"colorbar\": {\"outlinewidth\": 0, \"ticks\": \"\"}}, \"type\": \"histogram\"}], \"histogram2d\": [{\"colorbar\": {\"outlinewidth\": 0, \"ticks\": \"\"}, \"colorscale\": [[0.0, \"#0d0887\"], [0.1111111111111111, \"#46039f\"], [0.2222222222222222, \"#7201a8\"], [0.3333333333333333, \"#9c179e\"], [0.4444444444444444, \"#bd3786\"], [0.5555555555555556, \"#d8576b\"], [0.6666666666666666, \"#ed7953\"], [0.7777777777777778, \"#fb9f3a\"], [0.8888888888888888, \"#fdca26\"], [1.0, \"#f0f921\"]], \"type\": \"histogram2d\"}], \"histogram2dcontour\": [{\"colorbar\": {\"outlinewidth\": 0, \"ticks\": \"\"}, \"colorscale\": [[0.0, \"#0d0887\"], [0.1111111111111111, \"#46039f\"], [0.2222222222222222, \"#7201a8\"], [0.3333333333333333, \"#9c179e\"], [0.4444444444444444, \"#bd3786\"], [0.5555555555555556, \"#d8576b\"], [0.6666666666666666, \"#ed7953\"], [0.7777777777777778, \"#fb9f3a\"], [0.8888888888888888, \"#fdca26\"], [1.0, \"#f0f921\"]], \"type\": \"histogram2dcontour\"}], \"mesh3d\": [{\"colorbar\": {\"outlinewidth\": 0, \"ticks\": \"\"}, \"type\": \"mesh3d\"}], \"parcoords\": [{\"line\": {\"colorbar\": {\"outlinewidth\": 0, \"ticks\": \"\"}}, \"type\": \"parcoords\"}], \"pie\": [{\"automargin\": true, \"type\": \"pie\"}], \"scatter\": [{\"marker\": {\"colorbar\": {\"outlinewidth\": 0, \"ticks\": \"\"}}, \"type\": \"scatter\"}], \"scatter3d\": [{\"line\": {\"colorbar\": {\"outlinewidth\": 0, \"ticks\": \"\"}}, \"marker\": {\"colorbar\": {\"outlinewidth\": 0, \"ticks\": \"\"}}, \"type\": \"scatter3d\"}], \"scattercarpet\": [{\"marker\": {\"colorbar\": {\"outlinewidth\": 0, \"ticks\": \"\"}}, \"type\": \"scattercarpet\"}], \"scattergeo\": [{\"marker\": {\"colorbar\": {\"outlinewidth\": 0, \"ticks\": \"\"}}, \"type\": \"scattergeo\"}], \"scattergl\": [{\"marker\": {\"colorbar\": {\"outlinewidth\": 0, \"ticks\": \"\"}}, \"type\": \"scattergl\"}], \"scattermapbox\": [{\"marker\": {\"colorbar\": {\"outlinewidth\": 0, \"ticks\": \"\"}}, \"type\": \"scattermapbox\"}], \"scatterpolar\": [{\"marker\": {\"colorbar\": {\"outlinewidth\": 0, \"ticks\": \"\"}}, \"type\": \"scatterpolar\"}], \"scatterpolargl\": [{\"marker\": {\"colorbar\": {\"outlinewidth\": 0, \"ticks\": \"\"}}, \"type\": \"scatterpolargl\"}], \"scatterternary\": [{\"marker\": {\"colorbar\": {\"outlinewidth\": 0, \"ticks\": \"\"}}, \"type\": \"scatterternary\"}], \"surface\": [{\"colorbar\": {\"outlinewidth\": 0, \"ticks\": \"\"}, \"colorscale\": [[0.0, \"#0d0887\"], [0.1111111111111111, \"#46039f\"], [0.2222222222222222, \"#7201a8\"], [0.3333333333333333, \"#9c179e\"], [0.4444444444444444, \"#bd3786\"], [0.5555555555555556, \"#d8576b\"], [0.6666666666666666, \"#ed7953\"], [0.7777777777777778, \"#fb9f3a\"], [0.8888888888888888, \"#fdca26\"], [1.0, \"#f0f921\"]], \"type\": \"surface\"}], \"table\": [{\"cells\": {\"fill\": {\"color\": \"#EBF0F8\"}, \"line\": {\"color\": \"white\"}}, \"header\": {\"fill\": {\"color\": \"#C8D4E3\"}, \"line\": {\"color\": \"white\"}}, \"type\": \"table\"}]}, \"layout\": {\"annotationdefaults\": {\"arrowcolor\": \"#2a3f5f\", \"arrowhead\": 0, \"arrowwidth\": 1}, \"autotypenumbers\": \"strict\", \"coloraxis\": {\"colorbar\": {\"outlinewidth\": 0, \"ticks\": \"\"}}, \"colorscale\": {\"diverging\": [[0, \"#8e0152\"], [0.1, \"#c51b7d\"], [0.2, \"#de77ae\"], [0.3, \"#f1b6da\"], [0.4, \"#fde0ef\"], [0.5, \"#f7f7f7\"], [0.6, \"#e6f5d0\"], [0.7, \"#b8e186\"], [0.8, \"#7fbc41\"], [0.9, \"#4d9221\"], [1, \"#276419\"]], \"sequential\": [[0.0, \"#0d0887\"], [0.1111111111111111, \"#46039f\"], [0.2222222222222222, \"#7201a8\"], [0.3333333333333333, \"#9c179e\"], [0.4444444444444444, \"#bd3786\"], [0.5555555555555556, \"#d8576b\"], [0.6666666666666666, \"#ed7953\"], [0.7777777777777778, \"#fb9f3a\"], [0.8888888888888888, \"#fdca26\"], [1.0, \"#f0f921\"]], \"sequentialminus\": [[0.0, \"#0d0887\"], [0.1111111111111111, \"#46039f\"], [0.2222222222222222, \"#7201a8\"], [0.3333333333333333, \"#9c179e\"], [0.4444444444444444, \"#bd3786\"], [0.5555555555555556, \"#d8576b\"], [0.6666666666666666, \"#ed7953\"], [0.7777777777777778, \"#fb9f3a\"], [0.8888888888888888, \"#fdca26\"], [1.0, \"#f0f921\"]]}, \"colorway\": [\"#636efa\", \"#EF553B\", \"#00cc96\", \"#ab63fa\", \"#FFA15A\", \"#19d3f3\", \"#FF6692\", \"#B6E880\", \"#FF97FF\", \"#FECB52\"], \"font\": {\"color\": \"#2a3f5f\"}, \"geo\": {\"bgcolor\": \"white\", \"lakecolor\": \"white\", \"landcolor\": \"#E5ECF6\", \"showlakes\": true, \"showland\": true, \"subunitcolor\": \"white\"}, \"hoverlabel\": {\"align\": \"left\"}, \"hovermode\": \"closest\", \"mapbox\": {\"style\": \"light\"}, \"paper_bgcolor\": \"white\", \"plot_bgcolor\": \"#E5ECF6\", \"polar\": {\"angularaxis\": {\"gridcolor\": \"white\", \"linecolor\": \"white\", \"ticks\": \"\"}, \"bgcolor\": \"#E5ECF6\", \"radialaxis\": {\"gridcolor\": \"white\", \"linecolor\": \"white\", \"ticks\": \"\"}}, \"scene\": {\"xaxis\": {\"backgroundcolor\": \"#E5ECF6\", \"gridcolor\": \"white\", \"gridwidth\": 2, \"linecolor\": \"white\", \"showbackground\": true, \"ticks\": \"\", \"zerolinecolor\": \"white\"}, \"yaxis\": {\"backgroundcolor\": \"#E5ECF6\", \"gridcolor\": \"white\", \"gridwidth\": 2, \"linecolor\": \"white\", \"showbackground\": true, \"ticks\": \"\", \"zerolinecolor\": \"white\"}, \"zaxis\": {\"backgroundcolor\": \"#E5ECF6\", \"gridcolor\": \"white\", \"gridwidth\": 2, \"linecolor\": \"white\", \"showbackground\": true, \"ticks\": \"\", \"zerolinecolor\": \"white\"}}, \"shapedefaults\": {\"line\": {\"color\": \"#2a3f5f\"}}, \"ternary\": {\"aaxis\": {\"gridcolor\": \"white\", \"linecolor\": \"white\", \"ticks\": \"\"}, \"baxis\": {\"gridcolor\": \"white\", \"linecolor\": \"white\", \"ticks\": \"\"}, \"bgcolor\": \"#E5ECF6\", \"caxis\": {\"gridcolor\": \"white\", \"linecolor\": \"white\", \"ticks\": \"\"}}, \"title\": {\"x\": 0.05}, \"xaxis\": {\"automargin\": true, \"gridcolor\": \"white\", \"linecolor\": \"white\", \"ticks\": \"\", \"title\": {\"standoff\": 15}, \"zerolinecolor\": \"white\", \"zerolinewidth\": 2}, \"yaxis\": {\"automargin\": true, \"gridcolor\": \"white\", \"linecolor\": \"white\", \"ticks\": \"\", \"title\": {\"standoff\": 15}, \"zerolinecolor\": \"white\", \"zerolinewidth\": 2}}}, \"title\": {\"text\": \"Optimization History Plot\"}, \"xaxis\": {\"title\": {\"text\": \"#Trials\"}}, \"yaxis\": {\"title\": {\"text\": \"Objective Value\"}}},                        {\"responsive\": true}                    ).then(function(){\n",
       "                            \n",
       "var gd = document.getElementById('0561cf6b-9a2c-4de4-bde6-90c66d697816');\n",
       "var x = new MutationObserver(function (mutations, observer) {{\n",
       "        var display = window.getComputedStyle(gd).display;\n",
       "        if (!display || display === 'none') {{\n",
       "            console.log([gd, 'removed!']);\n",
       "            Plotly.purge(gd);\n",
       "            observer.disconnect();\n",
       "        }}\n",
       "}});\n",
       "\n",
       "// Listen for the removal of the full notebook cells\n",
       "var notebookContainer = gd.closest('#notebook-container');\n",
       "if (notebookContainer) {{\n",
       "    x.observe(notebookContainer, {childList: true});\n",
       "}}\n",
       "\n",
       "// Listen for the clearing of the current output cell\n",
       "var outputEl = gd.closest('.output');\n",
       "if (outputEl) {{\n",
       "    x.observe(outputEl, {childList: true});\n",
       "}}\n",
       "\n",
       "                        })                };                });            </script>        </div>"
      ]
     },
     "metadata": {}
    }
   ],
   "metadata": {
    "execution": {
     "iopub.execute_input": "2021-03-06T18:21:47.183899Z",
     "iopub.status.busy": "2021-03-06T18:21:47.183303Z",
     "iopub.status.idle": "2021-03-06T18:21:47.393846Z",
     "shell.execute_reply": "2021-03-06T18:21:47.393228Z"
    },
    "papermill": {
     "duration": 0.247972,
     "end_time": "2021-03-06T18:21:47.394003",
     "exception": false,
     "start_time": "2021-03-06T18:21:47.146031",
     "status": "completed"
    },
    "tags": []
   }
  },
  {
   "cell_type": "code",
   "execution_count": null,
   "source": [
    "#Visualize parameter importances.\r\n",
    "optuna.visualization.plot_param_importances(study)"
   ],
   "outputs": [
    {
     "output_type": "display_data",
     "data": {
      "text/html": [
       "<div>                            <div id=\"bc81f8fb-0e73-4b43-8886-260ca6343c62\" class=\"plotly-graph-div\" style=\"height:525px; width:100%;\"></div>            <script type=\"text/javascript\">                require([\"plotly\"], function(Plotly) {                    window.PLOTLYENV=window.PLOTLYENV || {};                                    if (document.getElementById(\"bc81f8fb-0e73-4b43-8886-260ca6343c62\")) {                    Plotly.newPlot(                        \"bc81f8fb-0e73-4b43-8886-260ca6343c62\",                        [{\"cliponaxis\": false, \"hovertemplate\": [\"reg_alpha (LogUniformDistribution): 0.001101207002155356<extra></extra>\", \"learning_rate (CategoricalDistribution): 0.0013751092825751486<extra></extra>\", \"subsample (CategoricalDistribution): 0.0017188613226050279<extra></extra>\", \"max_depth (CategoricalDistribution): 0.003955793685172638<extra></extra>\", \"min_child_samples (IntUniformDistribution): 0.006339376017919779<extra></extra>\", \"min_data_per_groups (IntUniformDistribution): 0.022894096908623856<extra></extra>\", \"num_leaves (IntUniformDistribution): 0.1046314150228868<extra></extra>\", \"colsample_bytree (CategoricalDistribution): 0.4076339168089745<extra></extra>\", \"reg_lambda (LogUniformDistribution): 0.4503502239490869<extra></extra>\"], \"marker\": {\"color\": [\"rgb(8,48,107)\", \"rgb(66,146,198)\", \"rgb(66,146,198)\", \"rgb(66,146,198)\", \"rgb(8,81,156)\", \"rgb(8,81,156)\", \"rgb(8,81,156)\", \"rgb(66,146,198)\", \"rgb(8,48,107)\"]}, \"orientation\": \"h\", \"text\": [\"0.001101207002155356\", \"0.0013751092825751486\", \"0.0017188613226050279\", \"0.003955793685172638\", \"0.006339376017919779\", \"0.022894096908623856\", \"0.1046314150228868\", \"0.4076339168089745\", \"0.4503502239490869\"], \"textposition\": \"outside\", \"texttemplate\": \"%{text:.2f}\", \"type\": \"bar\", \"x\": [0.001101207002155356, 0.0013751092825751486, 0.0017188613226050279, 0.003955793685172638, 0.006339376017919779, 0.022894096908623856, 0.1046314150228868, 0.4076339168089745, 0.4503502239490869], \"y\": [\"reg_alpha\", \"learning_rate\", \"subsample\", \"max_depth\", \"min_child_samples\", \"min_data_per_groups\", \"num_leaves\", \"colsample_bytree\", \"reg_lambda\"]}],                        {\"showlegend\": false, \"template\": {\"data\": {\"bar\": [{\"error_x\": {\"color\": \"#2a3f5f\"}, \"error_y\": {\"color\": \"#2a3f5f\"}, \"marker\": {\"line\": {\"color\": \"#E5ECF6\", \"width\": 0.5}}, \"type\": \"bar\"}], \"barpolar\": [{\"marker\": {\"line\": {\"color\": \"#E5ECF6\", \"width\": 0.5}}, \"type\": \"barpolar\"}], \"carpet\": [{\"aaxis\": {\"endlinecolor\": \"#2a3f5f\", \"gridcolor\": \"white\", \"linecolor\": \"white\", \"minorgridcolor\": \"white\", \"startlinecolor\": \"#2a3f5f\"}, \"baxis\": {\"endlinecolor\": \"#2a3f5f\", \"gridcolor\": \"white\", \"linecolor\": \"white\", \"minorgridcolor\": \"white\", \"startlinecolor\": \"#2a3f5f\"}, \"type\": \"carpet\"}], \"choropleth\": [{\"colorbar\": {\"outlinewidth\": 0, \"ticks\": \"\"}, \"type\": \"choropleth\"}], \"contour\": [{\"colorbar\": {\"outlinewidth\": 0, \"ticks\": \"\"}, \"colorscale\": [[0.0, \"#0d0887\"], [0.1111111111111111, \"#46039f\"], [0.2222222222222222, \"#7201a8\"], [0.3333333333333333, \"#9c179e\"], [0.4444444444444444, \"#bd3786\"], [0.5555555555555556, \"#d8576b\"], [0.6666666666666666, \"#ed7953\"], [0.7777777777777778, \"#fb9f3a\"], [0.8888888888888888, \"#fdca26\"], [1.0, \"#f0f921\"]], \"type\": \"contour\"}], \"contourcarpet\": [{\"colorbar\": {\"outlinewidth\": 0, \"ticks\": \"\"}, \"type\": \"contourcarpet\"}], \"heatmap\": [{\"colorbar\": {\"outlinewidth\": 0, \"ticks\": \"\"}, \"colorscale\": [[0.0, \"#0d0887\"], [0.1111111111111111, \"#46039f\"], [0.2222222222222222, \"#7201a8\"], [0.3333333333333333, \"#9c179e\"], [0.4444444444444444, \"#bd3786\"], [0.5555555555555556, \"#d8576b\"], [0.6666666666666666, \"#ed7953\"], [0.7777777777777778, \"#fb9f3a\"], [0.8888888888888888, \"#fdca26\"], [1.0, \"#f0f921\"]], \"type\": \"heatmap\"}], \"heatmapgl\": [{\"colorbar\": {\"outlinewidth\": 0, \"ticks\": \"\"}, \"colorscale\": [[0.0, \"#0d0887\"], [0.1111111111111111, \"#46039f\"], [0.2222222222222222, \"#7201a8\"], [0.3333333333333333, \"#9c179e\"], [0.4444444444444444, \"#bd3786\"], [0.5555555555555556, \"#d8576b\"], [0.6666666666666666, \"#ed7953\"], [0.7777777777777778, \"#fb9f3a\"], [0.8888888888888888, \"#fdca26\"], [1.0, \"#f0f921\"]], \"type\": \"heatmapgl\"}], \"histogram\": [{\"marker\": {\"colorbar\": {\"outlinewidth\": 0, \"ticks\": \"\"}}, \"type\": \"histogram\"}], \"histogram2d\": [{\"colorbar\": {\"outlinewidth\": 0, \"ticks\": \"\"}, \"colorscale\": [[0.0, \"#0d0887\"], [0.1111111111111111, \"#46039f\"], [0.2222222222222222, \"#7201a8\"], [0.3333333333333333, \"#9c179e\"], [0.4444444444444444, \"#bd3786\"], [0.5555555555555556, \"#d8576b\"], [0.6666666666666666, \"#ed7953\"], [0.7777777777777778, \"#fb9f3a\"], [0.8888888888888888, \"#fdca26\"], [1.0, \"#f0f921\"]], \"type\": \"histogram2d\"}], \"histogram2dcontour\": [{\"colorbar\": {\"outlinewidth\": 0, \"ticks\": \"\"}, \"colorscale\": [[0.0, \"#0d0887\"], [0.1111111111111111, \"#46039f\"], [0.2222222222222222, \"#7201a8\"], [0.3333333333333333, \"#9c179e\"], [0.4444444444444444, \"#bd3786\"], [0.5555555555555556, \"#d8576b\"], [0.6666666666666666, \"#ed7953\"], [0.7777777777777778, \"#fb9f3a\"], [0.8888888888888888, \"#fdca26\"], [1.0, \"#f0f921\"]], \"type\": \"histogram2dcontour\"}], \"mesh3d\": [{\"colorbar\": {\"outlinewidth\": 0, \"ticks\": \"\"}, \"type\": \"mesh3d\"}], \"parcoords\": [{\"line\": {\"colorbar\": {\"outlinewidth\": 0, \"ticks\": \"\"}}, \"type\": \"parcoords\"}], \"pie\": [{\"automargin\": true, \"type\": \"pie\"}], \"scatter\": [{\"marker\": {\"colorbar\": {\"outlinewidth\": 0, \"ticks\": \"\"}}, \"type\": \"scatter\"}], \"scatter3d\": [{\"line\": {\"colorbar\": {\"outlinewidth\": 0, \"ticks\": \"\"}}, \"marker\": {\"colorbar\": {\"outlinewidth\": 0, \"ticks\": \"\"}}, \"type\": \"scatter3d\"}], \"scattercarpet\": [{\"marker\": {\"colorbar\": {\"outlinewidth\": 0, \"ticks\": \"\"}}, \"type\": \"scattercarpet\"}], \"scattergeo\": [{\"marker\": {\"colorbar\": {\"outlinewidth\": 0, \"ticks\": \"\"}}, \"type\": \"scattergeo\"}], \"scattergl\": [{\"marker\": {\"colorbar\": {\"outlinewidth\": 0, \"ticks\": \"\"}}, \"type\": \"scattergl\"}], \"scattermapbox\": [{\"marker\": {\"colorbar\": {\"outlinewidth\": 0, \"ticks\": \"\"}}, \"type\": \"scattermapbox\"}], \"scatterpolar\": [{\"marker\": {\"colorbar\": {\"outlinewidth\": 0, \"ticks\": \"\"}}, \"type\": \"scatterpolar\"}], \"scatterpolargl\": [{\"marker\": {\"colorbar\": {\"outlinewidth\": 0, \"ticks\": \"\"}}, \"type\": \"scatterpolargl\"}], \"scatterternary\": [{\"marker\": {\"colorbar\": {\"outlinewidth\": 0, \"ticks\": \"\"}}, \"type\": \"scatterternary\"}], \"surface\": [{\"colorbar\": {\"outlinewidth\": 0, \"ticks\": \"\"}, \"colorscale\": [[0.0, \"#0d0887\"], [0.1111111111111111, \"#46039f\"], [0.2222222222222222, \"#7201a8\"], [0.3333333333333333, \"#9c179e\"], [0.4444444444444444, \"#bd3786\"], [0.5555555555555556, \"#d8576b\"], [0.6666666666666666, \"#ed7953\"], [0.7777777777777778, \"#fb9f3a\"], [0.8888888888888888, \"#fdca26\"], [1.0, \"#f0f921\"]], \"type\": \"surface\"}], \"table\": [{\"cells\": {\"fill\": {\"color\": \"#EBF0F8\"}, \"line\": {\"color\": \"white\"}}, \"header\": {\"fill\": {\"color\": \"#C8D4E3\"}, \"line\": {\"color\": \"white\"}}, \"type\": \"table\"}]}, \"layout\": {\"annotationdefaults\": {\"arrowcolor\": \"#2a3f5f\", \"arrowhead\": 0, \"arrowwidth\": 1}, \"autotypenumbers\": \"strict\", \"coloraxis\": {\"colorbar\": {\"outlinewidth\": 0, \"ticks\": \"\"}}, \"colorscale\": {\"diverging\": [[0, \"#8e0152\"], [0.1, \"#c51b7d\"], [0.2, \"#de77ae\"], [0.3, \"#f1b6da\"], [0.4, \"#fde0ef\"], [0.5, \"#f7f7f7\"], [0.6, \"#e6f5d0\"], [0.7, \"#b8e186\"], [0.8, \"#7fbc41\"], [0.9, \"#4d9221\"], [1, \"#276419\"]], \"sequential\": [[0.0, \"#0d0887\"], [0.1111111111111111, \"#46039f\"], [0.2222222222222222, \"#7201a8\"], [0.3333333333333333, \"#9c179e\"], [0.4444444444444444, \"#bd3786\"], [0.5555555555555556, \"#d8576b\"], [0.6666666666666666, \"#ed7953\"], [0.7777777777777778, \"#fb9f3a\"], [0.8888888888888888, \"#fdca26\"], [1.0, \"#f0f921\"]], \"sequentialminus\": [[0.0, \"#0d0887\"], [0.1111111111111111, \"#46039f\"], [0.2222222222222222, \"#7201a8\"], [0.3333333333333333, \"#9c179e\"], [0.4444444444444444, \"#bd3786\"], [0.5555555555555556, \"#d8576b\"], [0.6666666666666666, \"#ed7953\"], [0.7777777777777778, \"#fb9f3a\"], [0.8888888888888888, \"#fdca26\"], [1.0, \"#f0f921\"]]}, \"colorway\": [\"#636efa\", \"#EF553B\", \"#00cc96\", \"#ab63fa\", \"#FFA15A\", \"#19d3f3\", \"#FF6692\", \"#B6E880\", \"#FF97FF\", \"#FECB52\"], \"font\": {\"color\": \"#2a3f5f\"}, \"geo\": {\"bgcolor\": \"white\", \"lakecolor\": \"white\", \"landcolor\": \"#E5ECF6\", \"showlakes\": true, \"showland\": true, \"subunitcolor\": \"white\"}, \"hoverlabel\": {\"align\": \"left\"}, \"hovermode\": \"closest\", \"mapbox\": {\"style\": \"light\"}, \"paper_bgcolor\": \"white\", \"plot_bgcolor\": \"#E5ECF6\", \"polar\": {\"angularaxis\": {\"gridcolor\": \"white\", \"linecolor\": \"white\", \"ticks\": \"\"}, \"bgcolor\": \"#E5ECF6\", \"radialaxis\": {\"gridcolor\": \"white\", \"linecolor\": \"white\", \"ticks\": \"\"}}, \"scene\": {\"xaxis\": {\"backgroundcolor\": \"#E5ECF6\", \"gridcolor\": \"white\", \"gridwidth\": 2, \"linecolor\": \"white\", \"showbackground\": true, \"ticks\": \"\", \"zerolinecolor\": \"white\"}, \"yaxis\": {\"backgroundcolor\": \"#E5ECF6\", \"gridcolor\": \"white\", \"gridwidth\": 2, \"linecolor\": \"white\", \"showbackground\": true, \"ticks\": \"\", \"zerolinecolor\": \"white\"}, \"zaxis\": {\"backgroundcolor\": \"#E5ECF6\", \"gridcolor\": \"white\", \"gridwidth\": 2, \"linecolor\": \"white\", \"showbackground\": true, \"ticks\": \"\", \"zerolinecolor\": \"white\"}}, \"shapedefaults\": {\"line\": {\"color\": \"#2a3f5f\"}}, \"ternary\": {\"aaxis\": {\"gridcolor\": \"white\", \"linecolor\": \"white\", \"ticks\": \"\"}, \"baxis\": {\"gridcolor\": \"white\", \"linecolor\": \"white\", \"ticks\": \"\"}, \"bgcolor\": \"#E5ECF6\", \"caxis\": {\"gridcolor\": \"white\", \"linecolor\": \"white\", \"ticks\": \"\"}}, \"title\": {\"x\": 0.05}, \"xaxis\": {\"automargin\": true, \"gridcolor\": \"white\", \"linecolor\": \"white\", \"ticks\": \"\", \"title\": {\"standoff\": 15}, \"zerolinecolor\": \"white\", \"zerolinewidth\": 2}, \"yaxis\": {\"automargin\": true, \"gridcolor\": \"white\", \"linecolor\": \"white\", \"ticks\": \"\", \"title\": {\"standoff\": 15}, \"zerolinecolor\": \"white\", \"zerolinewidth\": 2}}}, \"title\": {\"text\": \"Hyperparameter Importances\"}, \"xaxis\": {\"title\": {\"text\": \"Importance for Objective Value\"}}, \"yaxis\": {\"title\": {\"text\": \"Hyperparameter\"}}},                        {\"responsive\": true}                    ).then(function(){\n",
       "                            \n",
       "var gd = document.getElementById('bc81f8fb-0e73-4b43-8886-260ca6343c62');\n",
       "var x = new MutationObserver(function (mutations, observer) {{\n",
       "        var display = window.getComputedStyle(gd).display;\n",
       "        if (!display || display === 'none') {{\n",
       "            console.log([gd, 'removed!']);\n",
       "            Plotly.purge(gd);\n",
       "            observer.disconnect();\n",
       "        }}\n",
       "}});\n",
       "\n",
       "// Listen for the removal of the full notebook cells\n",
       "var notebookContainer = gd.closest('#notebook-container');\n",
       "if (notebookContainer) {{\n",
       "    x.observe(notebookContainer, {childList: true});\n",
       "}}\n",
       "\n",
       "// Listen for the clearing of the current output cell\n",
       "var outputEl = gd.closest('.output');\n",
       "if (outputEl) {{\n",
       "    x.observe(outputEl, {childList: true});\n",
       "}}\n",
       "\n",
       "                        })                };                });            </script>        </div>"
      ]
     },
     "metadata": {}
    }
   ],
   "metadata": {
    "execution": {
     "iopub.execute_input": "2021-03-06T18:21:47.466926Z",
     "iopub.status.busy": "2021-03-06T18:21:47.466120Z",
     "iopub.status.idle": "2021-03-06T18:21:51.277284Z",
     "shell.execute_reply": "2021-03-06T18:21:51.277796Z"
    },
    "papermill": {
     "duration": 3.850298,
     "end_time": "2021-03-06T18:21:51.277979",
     "exception": false,
     "start_time": "2021-03-06T18:21:47.427681",
     "status": "completed"
    },
    "tags": []
   }
  },
  {
   "cell_type": "code",
   "execution_count": null,
   "source": [
    "params=study.best_params\r\n",
    "params"
   ],
   "outputs": [
    {
     "output_type": "execute_result",
     "data": {
      "text/plain": [
       "{'reg_alpha': 0.0031293275223408185,\n",
       " 'reg_lambda': 0.04787145507141445,\n",
       " 'colsample_bytree': 0.3,\n",
       " 'subsample': 0.6,\n",
       " 'learning_rate': 0.008,\n",
       " 'max_depth': 100,\n",
       " 'num_leaves': 584,\n",
       " 'min_child_samples': 173,\n",
       " 'min_data_per_groups': 30}"
      ]
     },
     "metadata": {},
     "execution_count": 10
    }
   ],
   "metadata": {
    "execution": {
     "iopub.execute_input": "2021-03-06T18:21:51.350512Z",
     "iopub.status.busy": "2021-03-06T18:21:51.349943Z",
     "iopub.status.idle": "2021-03-06T18:21:51.354724Z",
     "shell.execute_reply": "2021-03-06T18:21:51.355193Z"
    },
    "papermill": {
     "duration": 0.042587,
     "end_time": "2021-03-06T18:21:51.355353",
     "exception": false,
     "start_time": "2021-03-06T18:21:51.312766",
     "status": "completed"
    },
    "tags": []
   }
  },
  {
   "cell_type": "code",
   "execution_count": null,
   "source": [
    "{'reg_alpha': 0.007915504076304212, 'colsample_bytree': 0.5, 'subsample': 0.8, 'learning_rate': 0.008, 'max_depth': 10, 'min_child_weight': 274}"
   ],
   "outputs": [],
   "metadata": {}
  }
 ],
 "metadata": {
  "kernelspec": {
   "name": "python3",
   "display_name": "Python 3.7.9 64-bit ('ML-37': conda)"
  },
  "language_info": {
   "codemirror_mode": {
    "name": "ipython",
    "version": 3
   },
   "file_extension": ".py",
   "mimetype": "text/x-python",
   "name": "python",
   "nbconvert_exporter": "python",
   "pygments_lexer": "ipython3",
   "version": "3.7.9"
  },
  "papermill": {
   "default_parameters": {},
   "duration": 18087.246071,
   "end_time": "2021-03-06T18:21:52.101453",
   "environment_variables": {},
   "exception": null,
   "input_path": "__notebook__.ipynb",
   "output_path": "__notebook__.ipynb",
   "parameters": {},
   "start_time": "2021-03-06T13:20:24.855382",
   "version": "2.2.2"
  },
  "interpreter": {
   "hash": "5ad82f8755de7356ce18d2874ad4d733a9d5ba22d00b94f808fc7ce8364d97f7"
  }
 },
 "nbformat": 4,
 "nbformat_minor": 4
}